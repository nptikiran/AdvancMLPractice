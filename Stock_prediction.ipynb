{
  "nbformat": 4,
  "nbformat_minor": 0,
  "metadata": {
    "colab": {
      "name": "Stock_prediction.ipynb",
      "provenance": [],
      "authorship_tag": "ABX9TyPcLmFWmis8YlTc7TCY6L2c",
      "include_colab_link": true
    },
    "kernelspec": {
      "name": "python3",
      "display_name": "Python 3"
    },
    "language_info": {
      "name": "python"
    }
  },
  "cells": [
    {
      "cell_type": "markdown",
      "metadata": {
        "id": "view-in-github",
        "colab_type": "text"
      },
      "source": [
        "<a href=\"https://colab.research.google.com/github/nptikiran/Linkedin_Google_ProfileScraper/blob/main/Stock_prediction.ipynb\" target=\"_parent\"><img src=\"https://colab.research.google.com/assets/colab-badge.svg\" alt=\"Open In Colab\"/></a>"
      ]
    },
    {
      "cell_type": "markdown",
      "metadata": {
        "id": "M-DR2trc80Kz"
      },
      "source": [
        "Anand Fabric \n",
        "Assingment\n",
        "\n",
        "Please research about Algorithmic Trading, Stock price Prediction Algorithms and Please write a 2 Pages Research article on how you would use a stock price prediction algorithm to give the best results. Which Factors you would include, what areas you would explore, How  would you ascertain a stock price."
      ]
    },
    {
      "cell_type": "code",
      "metadata": {
        "id": "yPcJ7soa8Fdr"
      },
      "source": [
        "# import libraries\n",
        "import math\n",
        "import pandas_datareader as web\n",
        "import numpy as np\n",
        "import pandas as pd\n",
        "from sklearn.preprocessing import MinMaxScaler\n",
        "from keras.models import Sequential\n",
        "from keras.layers import Dense, LSTM\n",
        "import matplotlib.pyplot as plt\n",
        "plt.style.use('fivethirtyeight')"
      ],
      "execution_count": 6,
      "outputs": []
    },
    {
      "cell_type": "code",
      "metadata": {
        "colab": {
          "base_uri": "https://localhost:8080/",
          "height": 446
        },
        "id": "7ByK0n9t-Biv",
        "outputId": "d78d2640-69c0-441c-8455-3c19c819ee96"
      },
      "source": [
        "# get the stock Quote\n",
        "df = web.DataReader('AAPL',data_source='yahoo',start='2012-01-01',end='2019-12-17')\n",
        "#show the data\n",
        "df"
      ],
      "execution_count": 7,
      "outputs": [
        {
          "output_type": "execute_result",
          "data": {
            "text/html": [
              "<div>\n",
              "<style scoped>\n",
              "    .dataframe tbody tr th:only-of-type {\n",
              "        vertical-align: middle;\n",
              "    }\n",
              "\n",
              "    .dataframe tbody tr th {\n",
              "        vertical-align: top;\n",
              "    }\n",
              "\n",
              "    .dataframe thead th {\n",
              "        text-align: right;\n",
              "    }\n",
              "</style>\n",
              "<table border=\"1\" class=\"dataframe\">\n",
              "  <thead>\n",
              "    <tr style=\"text-align: right;\">\n",
              "      <th></th>\n",
              "      <th>High</th>\n",
              "      <th>Low</th>\n",
              "      <th>Open</th>\n",
              "      <th>Close</th>\n",
              "      <th>Volume</th>\n",
              "      <th>Adj Close</th>\n",
              "    </tr>\n",
              "    <tr>\n",
              "      <th>Date</th>\n",
              "      <th></th>\n",
              "      <th></th>\n",
              "      <th></th>\n",
              "      <th></th>\n",
              "      <th></th>\n",
              "      <th></th>\n",
              "    </tr>\n",
              "  </thead>\n",
              "  <tbody>\n",
              "    <tr>\n",
              "      <th>2012-01-03</th>\n",
              "      <td>14.732143</td>\n",
              "      <td>14.607143</td>\n",
              "      <td>14.621429</td>\n",
              "      <td>14.686786</td>\n",
              "      <td>302220800.0</td>\n",
              "      <td>12.650659</td>\n",
              "    </tr>\n",
              "    <tr>\n",
              "      <th>2012-01-04</th>\n",
              "      <td>14.810000</td>\n",
              "      <td>14.617143</td>\n",
              "      <td>14.642857</td>\n",
              "      <td>14.765714</td>\n",
              "      <td>260022000.0</td>\n",
              "      <td>12.718646</td>\n",
              "    </tr>\n",
              "    <tr>\n",
              "      <th>2012-01-05</th>\n",
              "      <td>14.948214</td>\n",
              "      <td>14.738214</td>\n",
              "      <td>14.819643</td>\n",
              "      <td>14.929643</td>\n",
              "      <td>271269600.0</td>\n",
              "      <td>12.859850</td>\n",
              "    </tr>\n",
              "    <tr>\n",
              "      <th>2012-01-06</th>\n",
              "      <td>15.098214</td>\n",
              "      <td>14.972143</td>\n",
              "      <td>14.991786</td>\n",
              "      <td>15.085714</td>\n",
              "      <td>318292800.0</td>\n",
              "      <td>12.994284</td>\n",
              "    </tr>\n",
              "    <tr>\n",
              "      <th>2012-01-09</th>\n",
              "      <td>15.276786</td>\n",
              "      <td>15.048214</td>\n",
              "      <td>15.196429</td>\n",
              "      <td>15.061786</td>\n",
              "      <td>394024400.0</td>\n",
              "      <td>12.973674</td>\n",
              "    </tr>\n",
              "    <tr>\n",
              "      <th>...</th>\n",
              "      <td>...</td>\n",
              "      <td>...</td>\n",
              "      <td>...</td>\n",
              "      <td>...</td>\n",
              "      <td>...</td>\n",
              "      <td>...</td>\n",
              "    </tr>\n",
              "    <tr>\n",
              "      <th>2019-12-11</th>\n",
              "      <td>67.775002</td>\n",
              "      <td>67.125000</td>\n",
              "      <td>67.202499</td>\n",
              "      <td>67.692497</td>\n",
              "      <td>78756800.0</td>\n",
              "      <td>67.012764</td>\n",
              "    </tr>\n",
              "    <tr>\n",
              "      <th>2019-12-12</th>\n",
              "      <td>68.139999</td>\n",
              "      <td>66.830002</td>\n",
              "      <td>66.945000</td>\n",
              "      <td>67.864998</td>\n",
              "      <td>137310400.0</td>\n",
              "      <td>67.183548</td>\n",
              "    </tr>\n",
              "    <tr>\n",
              "      <th>2019-12-13</th>\n",
              "      <td>68.824997</td>\n",
              "      <td>67.732498</td>\n",
              "      <td>67.864998</td>\n",
              "      <td>68.787498</td>\n",
              "      <td>133587600.0</td>\n",
              "      <td>68.096771</td>\n",
              "    </tr>\n",
              "    <tr>\n",
              "      <th>2019-12-16</th>\n",
              "      <td>70.197502</td>\n",
              "      <td>69.245003</td>\n",
              "      <td>69.250000</td>\n",
              "      <td>69.964996</td>\n",
              "      <td>128186000.0</td>\n",
              "      <td>69.262459</td>\n",
              "    </tr>\n",
              "    <tr>\n",
              "      <th>2019-12-17</th>\n",
              "      <td>70.442497</td>\n",
              "      <td>69.699997</td>\n",
              "      <td>69.892502</td>\n",
              "      <td>70.102501</td>\n",
              "      <td>114158400.0</td>\n",
              "      <td>69.398575</td>\n",
              "    </tr>\n",
              "  </tbody>\n",
              "</table>\n",
              "<p>2003 rows × 6 columns</p>\n",
              "</div>"
            ],
            "text/plain": [
              "                 High        Low       Open      Close       Volume  Adj Close\n",
              "Date                                                                          \n",
              "2012-01-03  14.732143  14.607143  14.621429  14.686786  302220800.0  12.650659\n",
              "2012-01-04  14.810000  14.617143  14.642857  14.765714  260022000.0  12.718646\n",
              "2012-01-05  14.948214  14.738214  14.819643  14.929643  271269600.0  12.859850\n",
              "2012-01-06  15.098214  14.972143  14.991786  15.085714  318292800.0  12.994284\n",
              "2012-01-09  15.276786  15.048214  15.196429  15.061786  394024400.0  12.973674\n",
              "...               ...        ...        ...        ...          ...        ...\n",
              "2019-12-11  67.775002  67.125000  67.202499  67.692497   78756800.0  67.012764\n",
              "2019-12-12  68.139999  66.830002  66.945000  67.864998  137310400.0  67.183548\n",
              "2019-12-13  68.824997  67.732498  67.864998  68.787498  133587600.0  68.096771\n",
              "2019-12-16  70.197502  69.245003  69.250000  69.964996  128186000.0  69.262459\n",
              "2019-12-17  70.442497  69.699997  69.892502  70.102501  114158400.0  69.398575\n",
              "\n",
              "[2003 rows x 6 columns]"
            ]
          },
          "metadata": {
            "tags": []
          },
          "execution_count": 7
        }
      ]
    },
    {
      "cell_type": "code",
      "metadata": {
        "colab": {
          "base_uri": "https://localhost:8080/"
        },
        "id": "cktxKyit_UVe",
        "outputId": "077c5b0e-3f1b-4fbf-c222-67aaf4f397b4"
      },
      "source": [
        "#get the number of rows and column\n",
        "df.shape"
      ],
      "execution_count": 8,
      "outputs": [
        {
          "output_type": "execute_result",
          "data": {
            "text/plain": [
              "(2003, 6)"
            ]
          },
          "metadata": {
            "tags": []
          },
          "execution_count": 8
        }
      ]
    },
    {
      "cell_type": "code",
      "metadata": {
        "colab": {
          "base_uri": "https://localhost:8080/",
          "height": 338
        },
        "id": "NCWoS_q0AF5a",
        "outputId": "41093906-a69f-4c7c-8921-fb2d3d43e753"
      },
      "source": [
        "#visualise closing price history\n",
        "plt.figure(figsize=(16,8))\n",
        "plt.title('Close Price History')\n",
        "plt.plot(df['Close'])\n",
        "plt.xlabel('Date',fontsize=18)\n",
        "plt.ylabel('Close Price USD ($)',fontsize=18);"
      ],
      "execution_count": 9,
      "outputs": [
        {
          "output_type": "display_data",
          "data": {
            "image/png": "[encoded data removed]",
            "text/plain": [
              "<Figure size 1152x576 with 1 Axes>"
            ]
          },
          "metadata": {
            "tags": []
          }
        }
      ]
    },
    {
      "cell_type": "code",
      "metadata": {
        "colab": {
          "base_uri": "https://localhost:8080/"
        },
        "id": "sS0aaJBQBHmX",
        "outputId": "ab68a9e0-1f6d-49b8-b968-2d59ea374bba"
      },
      "source": [
        "#create a dataframe with only close column\n",
        "data = df.filter(['Close'])\n",
        "# convert the dataframe to a array\n",
        "dataset = data.values\n",
        "#Get the number of rows to train the model on \n",
        "training_data_len = math.ceil(len(dataset)* .8)\n",
        "\n",
        "training_data_len"
      ],
      "execution_count": 23,
      "outputs": [
        {
          "output_type": "execute_result",
          "data": {
            "text/plain": [
              "1603"
            ]
          },
          "metadata": {
            "tags": []
          },
          "execution_count": 23
        }
      ]
    },
    {
      "cell_type": "code",
      "metadata": {
        "colab": {
          "base_uri": "https://localhost:8080/"
        },
        "id": "7WvAz49FJ7pJ",
        "outputId": "cc27dcfa-9ae8-4461-d7a7-dd63a49e8987"
      },
      "source": [
        "#scale the data\n",
        "scaler = MinMaxScaler(feature_range=(0,1))\n",
        "scaled_data = scaler.fit_transform(dataset)\n",
        "scaled_data"
      ],
      "execution_count": 11,
      "outputs": [
        {
          "output_type": "execute_result",
          "data": {
            "text/plain": [
              "array([[0.01316509],\n",
              "       [0.01457063],\n",
              "       [0.01748985],\n",
              "       ...,\n",
              "       [0.97658263],\n",
              "       [0.99755134],\n",
              "       [1.        ]])"
            ]
          },
          "metadata": {
            "tags": []
          },
          "execution_count": 11
        }
      ]
    },
    {
      "cell_type": "code",
      "metadata": {
        "id": "AXu2hbJ0Kxy8",
        "colab": {
          "base_uri": "https://localhost:8080/"
        },
        "outputId": "39aa3536-2e26-4fbb-a6c3-8bed451e9225"
      },
      "source": [
        "# create the training data set\n",
        "# create the scaled train data set\n",
        "train_data = scaled_data[0:training_data_len, :]\n",
        "#split the data into x_train and y_train data sets\n",
        "x_train = []\n",
        "y_train = []\n",
        "\n",
        "for i in range(60,len(train_data)):\n",
        "  x_train.append(train_data[i-60:i, 0])\n",
        "  y_train.append(train_data[i, 0])\n",
        "  if i <= 61:\n",
        "    print(x_train)\n",
        "    print(y_train)\n",
        "    print()"
      ],
      "execution_count": 12,
      "outputs": [
        {
          "output_type": "stream",
          "text": [
            "[array([0.01316509, 0.01457063, 0.01748985, 0.02026915, 0.01984303,\n",
            "       0.02080338, 0.02036454, 0.01962679, 0.01862191, 0.02173194,\n",
            "       0.02453668, 0.02367172, 0.01893355, 0.02345548, 0.01900352,\n",
            "       0.03569838, 0.03440732, 0.0360927 , 0.03973694, 0.04194384,\n",
            "       0.0417594 , 0.0410789 , 0.04397903, 0.04670744, 0.04979839,\n",
            "       0.05479095, 0.0652785 , 0.06543749, 0.07127594, 0.07563885,\n",
            "       0.06814049, 0.07102789, 0.07097066, 0.07906688, 0.07791571,\n",
            "       0.08004628, 0.08387497, 0.08600558, 0.09214292, 0.09661394,\n",
            "       0.09790501, 0.09835659, 0.09071194, 0.08886753, 0.08914103,\n",
            "       0.09632778, 0.09835024, 0.10269409, 0.11293358, 0.12659476,\n",
            "       0.12403805, 0.1240444 , 0.13392141, 0.13701237, 0.13481179,\n",
            "       0.13280207, 0.13070964, 0.13766105, 0.14243103, 0.14442805])]\n",
            "[0.13949272033425864]\n",
            "\n",
            "[array([0.01316509, 0.01457063, 0.01748985, 0.02026915, 0.01984303,\n",
            "       0.02080338, 0.02036454, 0.01962679, 0.01862191, 0.02173194,\n",
            "       0.02453668, 0.02367172, 0.01893355, 0.02345548, 0.01900352,\n",
            "       0.03569838, 0.03440732, 0.0360927 , 0.03973694, 0.04194384,\n",
            "       0.0417594 , 0.0410789 , 0.04397903, 0.04670744, 0.04979839,\n",
            "       0.05479095, 0.0652785 , 0.06543749, 0.07127594, 0.07563885,\n",
            "       0.06814049, 0.07102789, 0.07097066, 0.07906688, 0.07791571,\n",
            "       0.08004628, 0.08387497, 0.08600558, 0.09214292, 0.09661394,\n",
            "       0.09790501, 0.09835659, 0.09071194, 0.08886753, 0.08914103,\n",
            "       0.09632778, 0.09835024, 0.10269409, 0.11293358, 0.12659476,\n",
            "       0.12403805, 0.1240444 , 0.13392141, 0.13701237, 0.13481179,\n",
            "       0.13280207, 0.13070964, 0.13766105, 0.14243103, 0.14442805]), array([0.01457063, 0.01748985, 0.02026915, 0.01984303, 0.02080338,\n",
            "       0.02036454, 0.01962679, 0.01862191, 0.02173194, 0.02453668,\n",
            "       0.02367172, 0.01893355, 0.02345548, 0.01900352, 0.03569838,\n",
            "       0.03440732, 0.0360927 , 0.03973694, 0.04194384, 0.0417594 ,\n",
            "       0.0410789 , 0.04397903, 0.04670744, 0.04979839, 0.05479095,\n",
            "       0.0652785 , 0.06543749, 0.07127594, 0.07563885, 0.06814049,\n",
            "       0.07102789, 0.07097066, 0.07906688, 0.07791571, 0.08004628,\n",
            "       0.08387497, 0.08600558, 0.09214292, 0.09661394, 0.09790501,\n",
            "       0.09835659, 0.09071194, 0.08886753, 0.08914103, 0.09632778,\n",
            "       0.09835024, 0.10269409, 0.11293358, 0.12659476, 0.12403805,\n",
            "       0.1240444 , 0.13392141, 0.13701237, 0.13481179, 0.13280207,\n",
            "       0.13070964, 0.13766105, 0.14243103, 0.14442805, 0.13949272])]\n",
            "[0.13949272033425864, 0.13293562570222134]\n",
            "\n"
          ],
          "name": "stdout"
        }
      ]
    },
    {
      "cell_type": "code",
      "metadata": {
        "id": "Un_GfNS4M6aO"
      },
      "source": [
        "# convert the x_train and y_train to numpy arrays\n",
        "x_train, y_train = np.array (x_train), np.array(y_train)"
      ],
      "execution_count": 24,
      "outputs": []
    },
    {
      "cell_type": "code",
      "metadata": {
        "colab": {
          "base_uri": "https://localhost:8080/"
        },
        "id": "ViMfbluoODIj",
        "outputId": "72be4f66-d118-4aad-bb01-32d06c0652de"
      },
      "source": [
        "# reshape the data\n",
        "x_train = np.reshape(x_train,(x_train.shape[0],x_train.shape[1],1))\n",
        "x_train.shape"
      ],
      "execution_count": 25,
      "outputs": [
        {
          "output_type": "execute_result",
          "data": {
            "text/plain": [
              "(1943, 60, 1)"
            ]
          },
          "metadata": {
            "tags": []
          },
          "execution_count": 25
        }
      ]
    },
    {
      "cell_type": "code",
      "metadata": {
        "id": "wYnj--3gPmIi"
      },
      "source": [
        "# build LSTM model\n",
        "model = Sequential()\n",
        "model.add(LSTM(50,return_sequences=True, input_shape=(x_train.shape[1],1)))\n",
        "model.add(LSTM(50,return_sequences=False))\n",
        "model.add(Dense(25))\n",
        "model.add(Dense(1))"
      ],
      "execution_count": 26,
      "outputs": []
    },
    {
      "cell_type": "code",
      "metadata": {
        "id": "1xANOKcxQngp"
      },
      "source": [
        "#Compile the model\n",
        "model.compile(optimizer='adam',loss='mean_squared_error')"
      ],
      "execution_count": 27,
      "outputs": []
    },
    {
      "cell_type": "code",
      "metadata": {
        "colab": {
          "base_uri": "https://localhost:8080/"
        },
        "id": "7s1fh5A3RwsK",
        "outputId": "ab71721b-ec0d-4a07-d0fc-50a1ff598bff"
      },
      "source": [
        "model.fit(x_train, y_train, batch_size=1)"
      ],
      "execution_count": 28,
      "outputs": [
        {
          "output_type": "stream",
          "text": [
            "1943/1943 [==============================] - 45s 22ms/step - loss: 0.0048\n"
          ],
          "name": "stdout"
        },
        {
          "output_type": "execute_result",
          "data": {
            "text/plain": [
              "<tensorflow.python.keras.callbacks.History at 0x7f90d4a8b5d0>"
            ]
          },
          "metadata": {
            "tags": []
          },
          "execution_count": 28
        }
      ]
    },
    {
      "cell_type": "code",
      "metadata": {
        "id": "-ZhZj9PNSAEM"
      },
      "source": [
        "# create a testing datasets\n",
        "# create a new array contaning scaled values from index 1943 to 2003\n",
        "test_data = scaled_data[training_data_len - 60:, :]\n",
        "#create datset x_test and y_test\n",
        "x_test = []\n",
        "y_test = dataset[training_data_len:, :]\n",
        "for i in range (60,len(test_data)):\n",
        "  x_test.append(test_data[i-60:i, 0])"
      ],
      "execution_count": 30,
      "outputs": []
    },
    {
      "cell_type": "code",
      "metadata": {
        "colab": {
          "base_uri": "https://localhost:8080/"
        },
        "id": "0RVLG9-FQK22",
        "outputId": "8355d760-01bf-4d68-c0d6-d3a869aec9e6"
      },
      "source": [
        "scaled_data[tr_data_len-60:,:]"
      ],
      "execution_count": 31,
      "outputs": [
        {
          "output_type": "execute_result",
          "data": {
            "text/plain": [
              "array([], shape=(0, 1), dtype=float64)"
            ]
          },
          "metadata": {
            "tags": []
          },
          "execution_count": 31
        }
      ]
    },
    {
      "cell_type": "code",
      "metadata": {
        "colab": {
          "base_uri": "https://localhost:8080/"
        },
        "id": "f5TW4ZACXLYk",
        "outputId": "0077d105-525b-42eb-e3cc-6d84dfc289d7"
      },
      "source": [
        "y_test"
      ],
      "execution_count": 32,
      "outputs": [
        {
          "output_type": "execute_result",
          "data": {
            "text/plain": [
              "array([[46.74750137],\n",
              "       [46.57749939],\n",
              "       [46.90750122],\n",
              "       [46.79000092],\n",
              "       [47.09000015],\n",
              "       [47.03749847],\n",
              "       [47.14500046],\n",
              "       [46.97499847],\n",
              "       [46.875     ],\n",
              "       [46.71749878],\n",
              "       [47.56000137],\n",
              "       [47.95750046],\n",
              "       [48.32749939],\n",
              "       [48.49499893],\n",
              "       [48.36500168],\n",
              "       [47.92499924],\n",
              "       [47.80749893],\n",
              "       [48.06999969],\n",
              "       [47.67499924],\n",
              "       [47.70000076],\n",
              "       [47.20999908],\n",
              "       [47.18500137],\n",
              "       [46.42250061],\n",
              "       [46.625     ],\n",
              "       [46.36500168],\n",
              "       [46.22999954],\n",
              "       [45.54249954],\n",
              "       [46.10749817],\n",
              "       [46.04000092],\n",
              "       [46.375     ],\n",
              "       [46.27750015],\n",
              "       [46.79499817],\n",
              "       [45.97999954],\n",
              "       [46.34999847],\n",
              "       [46.99250031],\n",
              "       [47.64500046],\n",
              "       [47.58750153],\n",
              "       [46.97000122],\n",
              "       [47.75749969],\n",
              "       [47.83250046],\n",
              "       [47.72750092],\n",
              "       [47.86249924],\n",
              "       [47.59999847],\n",
              "       [47.97000122],\n",
              "       [47.86000061],\n",
              "       [47.90250015],\n",
              "       [48.25      ],\n",
              "       [48.70500183],\n",
              "       [48.55250168],\n",
              "       [47.74499893],\n",
              "       [47.47750092],\n",
              "       [47.57249832],\n",
              "       [50.375     ],\n",
              "       [51.84749985],\n",
              "       [51.99750137],\n",
              "       [52.26750183],\n",
              "       [51.77750015],\n",
              "       [51.8125    ],\n",
              "       [52.22000122],\n",
              "       [51.88249969],\n",
              "       [52.21749878],\n",
              "       [52.4375    ],\n",
              "       [52.56000137],\n",
              "       [53.33000183],\n",
              "       [54.39500046],\n",
              "       [53.86500168],\n",
              "       [53.75999832],\n",
              "       [53.76250076],\n",
              "       [53.87250137],\n",
              "       [54.04000092],\n",
              "       [54.48500061],\n",
              "       [54.92499924],\n",
              "       [55.74499893],\n",
              "       [56.25749969],\n",
              "       [56.90750122],\n",
              "       [57.09000015],\n",
              "       [56.71749878],\n",
              "       [55.77500153],\n",
              "       [55.32500076],\n",
              "       [54.58250046],\n",
              "       [55.96250153],\n",
              "       [55.26750183],\n",
              "       [56.60250092],\n",
              "       [55.95999908],\n",
              "       [54.47000122],\n",
              "       [54.56000137],\n",
              "       [54.59249878],\n",
              "       [55.00749969],\n",
              "       [54.41500092],\n",
              "       [55.19749832],\n",
              "       [55.54750061],\n",
              "       [55.10499954],\n",
              "       [56.23749924],\n",
              "       [56.43500137],\n",
              "       [56.81499863],\n",
              "       [57.31999969],\n",
              "       [58.01750183],\n",
              "       [56.99750137],\n",
              "       [56.07249832],\n",
              "       [55.94250107],\n",
              "       [56.71749878],\n",
              "       [54.09000015],\n",
              "       [53.61249924],\n",
              "       [55.52750015],\n",
              "       [54.34000015],\n",
              "       [55.53749847],\n",
              "       [55.29750061],\n",
              "       [54.00500107],\n",
              "       [54.82749939],\n",
              "       [55.16249847],\n",
              "       [55.68249893],\n",
              "       [53.77249908],\n",
              "       [54.95000076],\n",
              "       [54.07500076],\n",
              "       [53.06000137],\n",
              "       [53.32500076],\n",
              "       [54.71500015],\n",
              "       [55.55500031],\n",
              "       [51.86999893],\n",
              "       [50.39749908],\n",
              "       [50.94250107],\n",
              "       [52.48749924],\n",
              "       [52.12250137],\n",
              "       [51.11750031],\n",
              "       [48.54249954],\n",
              "       [48.05749893],\n",
              "       [46.70000076],\n",
              "       [47.85250092],\n",
              "       [48.38249969],\n",
              "       [46.46500015],\n",
              "       [44.24499893],\n",
              "       [44.19499969],\n",
              "       [43.07249832],\n",
              "       [43.65499878],\n",
              "       [43.56000137],\n",
              "       [45.23500061],\n",
              "       [44.88750076],\n",
              "       [44.64500046],\n",
              "       [46.20500183],\n",
              "       [44.17250061],\n",
              "       [43.68000031],\n",
              "       [42.12250137],\n",
              "       [42.40000153],\n",
              "       [42.15750122],\n",
              "       [42.27500153],\n",
              "       [42.73749924],\n",
              "       [41.36999893],\n",
              "       [40.98500061],\n",
              "       [41.51750183],\n",
              "       [40.22249985],\n",
              "       [39.20750046],\n",
              "       [37.68249893],\n",
              "       [36.70750046],\n",
              "       [39.29249954],\n",
              "       [39.03749847],\n",
              "       [39.05749893],\n",
              "       [39.43500137],\n",
              "       [39.47999954],\n",
              "       [35.54750061],\n",
              "       [37.06499863],\n",
              "       [36.98249817],\n",
              "       [37.6875    ],\n",
              "       [38.32749939],\n",
              "       [38.45000076],\n",
              "       [38.07249832],\n",
              "       [37.5       ],\n",
              "       [38.26750183],\n",
              "       [38.73500061],\n",
              "       [38.96500015],\n",
              "       [39.20500183],\n",
              "       [38.32500076],\n",
              "       [38.47999954],\n",
              "       [38.17499924],\n",
              "       [39.43999863],\n",
              "       [39.07500076],\n",
              "       [38.66999817],\n",
              "       [41.3125    ],\n",
              "       [41.61000061],\n",
              "       [41.63000107],\n",
              "       [42.8125    ],\n",
              "       [43.54499817],\n",
              "       [43.56000137],\n",
              "       [42.73500061],\n",
              "       [42.60250092],\n",
              "       [42.35749817],\n",
              "       [42.72249985],\n",
              "       [42.54499817],\n",
              "       [42.70000076],\n",
              "       [42.60499954],\n",
              "       [42.73249817],\n",
              "       [43.00749969],\n",
              "       [42.76499939],\n",
              "       [43.24250031],\n",
              "       [43.55749893],\n",
              "       [43.58250046],\n",
              "       [43.71749878],\n",
              "       [43.28749847],\n",
              "       [43.74250031],\n",
              "       [43.96250153],\n",
              "       [43.88249969],\n",
              "       [43.63000107],\n",
              "       [43.125     ],\n",
              "       [43.22750092],\n",
              "       [44.72499847],\n",
              "       [45.22750092],\n",
              "       [45.42750168],\n",
              "       [45.93249893],\n",
              "       [46.52999878],\n",
              "       [47.00500107],\n",
              "       [46.63249969],\n",
              "       [47.04000092],\n",
              "       [48.77249908],\n",
              "       [47.76250076],\n",
              "       [47.18500137],\n",
              "       [46.69749832],\n",
              "       [47.11750031],\n",
              "       [47.18000031],\n",
              "       [47.48749924],\n",
              "       [47.81000137],\n",
              "       [48.50500107],\n",
              "       [48.83750153],\n",
              "       [48.92250061],\n",
              "       [49.25      ],\n",
              "       [50.02500153],\n",
              "       [49.875     ],\n",
              "       [50.15499878],\n",
              "       [49.73749924],\n",
              "       [49.71749878],\n",
              "       [49.80749893],\n",
              "       [49.8125    ],\n",
              "       [50.78250122],\n",
              "       [50.96500015],\n",
              "       [51.13249969],\n",
              "       [51.86999893],\n",
              "       [51.79000092],\n",
              "       [51.31999969],\n",
              "       [51.07500076],\n",
              "       [51.15250015],\n",
              "       [50.16749954],\n",
              "       [52.63000107],\n",
              "       [52.28749847],\n",
              "       [52.9375    ],\n",
              "       [52.11999893],\n",
              "       [50.71500015],\n",
              "       [50.72499847],\n",
              "       [50.18000031],\n",
              "       [49.29499817],\n",
              "       [46.43000031],\n",
              "       [47.16500092],\n",
              "       [47.72999954],\n",
              "       [47.52000046],\n",
              "       [47.25      ],\n",
              "       [45.77249908],\n",
              "       [46.65000153],\n",
              "       [45.69499969],\n",
              "       [44.91500092],\n",
              "       [44.74250031],\n",
              "       [44.55749893],\n",
              "       [44.34500122],\n",
              "       [44.57500076],\n",
              "       [43.76750183],\n",
              "       [43.32500076],\n",
              "       [44.90999985],\n",
              "       [45.63499832],\n",
              "       [46.30500031],\n",
              "       [47.53749847],\n",
              "       [48.14500046],\n",
              "       [48.70249939],\n",
              "       [48.54750061],\n",
              "       [48.53749847],\n",
              "       [48.18500137],\n",
              "       [48.47249985],\n",
              "       [49.61249924],\n",
              "       [49.46749878],\n",
              "       [49.86500168],\n",
              "       [49.69499969],\n",
              "       [49.64500046],\n",
              "       [48.89250183],\n",
              "       [49.95000076],\n",
              "       [49.93500137],\n",
              "       [49.47999954],\n",
              "       [50.38750076],\n",
              "       [50.68249893],\n",
              "       [51.10250092],\n",
              "       [51.05749893],\n",
              "       [50.00500107],\n",
              "       [50.31000137],\n",
              "       [50.80749893],\n",
              "       [50.4375    ],\n",
              "       [50.82500076],\n",
              "       [51.30250168],\n",
              "       [51.125     ],\n",
              "       [50.83750153],\n",
              "       [51.41500092],\n",
              "       [50.64749908],\n",
              "       [51.80500031],\n",
              "       [52.20999908],\n",
              "       [52.16749954],\n",
              "       [51.75500107],\n",
              "       [51.93500137],\n",
              "       [52.41999817],\n",
              "       [52.19499969],\n",
              "       [53.25999832],\n",
              "       [52.10749817],\n",
              "       [51.00500107],\n",
              "       [48.33499908],\n",
              "       [49.25      ],\n",
              "       [49.75999832],\n",
              "       [50.85749817],\n",
              "       [50.24750137],\n",
              "       [50.11999893],\n",
              "       [52.24250031],\n",
              "       [50.6875    ],\n",
              "       [50.43500137],\n",
              "       [51.625     ],\n",
              "       [52.58750153],\n",
              "       [52.59000015],\n",
              "       [53.15999985],\n",
              "       [53.11500168],\n",
              "       [50.65999985],\n",
              "       [51.62250137],\n",
              "       [51.04000092],\n",
              "       [51.38249969],\n",
              "       [52.25249863],\n",
              "       [52.18500137],\n",
              "       [51.42499924],\n",
              "       [52.29750061],\n",
              "       [53.31999969],\n",
              "       [53.31499863],\n",
              "       [53.54249954],\n",
              "       [54.17499924],\n",
              "       [55.89749908],\n",
              "       [55.77249908],\n",
              "       [54.6875    ],\n",
              "       [54.97499847],\n",
              "       [55.17499924],\n",
              "       [55.69250107],\n",
              "       [55.24000168],\n",
              "       [54.43249893],\n",
              "       [54.68000031],\n",
              "       [54.41999817],\n",
              "       [55.25749969],\n",
              "       [54.97249985],\n",
              "       [54.70500183],\n",
              "       [55.99250031],\n",
              "       [56.14749908],\n",
              "       [54.74000168],\n",
              "       [55.20500183],\n",
              "       [56.75249863],\n",
              "       [56.76499939],\n",
              "       [56.09999847],\n",
              "       [56.75749969],\n",
              "       [57.52249908],\n",
              "       [59.05250168],\n",
              "       [58.96749878],\n",
              "       [58.83000183],\n",
              "       [58.59249878],\n",
              "       [58.81999969],\n",
              "       [59.10250092],\n",
              "       [60.12749863],\n",
              "       [59.99000168],\n",
              "       [60.79499817],\n",
              "       [60.89500046],\n",
              "       [61.64500046],\n",
              "       [62.26250076],\n",
              "       [60.82249832],\n",
              "       [60.81499863],\n",
              "       [62.18999863],\n",
              "       [63.95500183],\n",
              "       [64.375     ],\n",
              "       [64.28250122],\n",
              "       [64.30999756],\n",
              "       [64.85749817],\n",
              "       [65.03500366],\n",
              "       [65.55000305],\n",
              "       [65.48999786],\n",
              "       [66.11750031],\n",
              "       [65.66000366],\n",
              "       [66.44000244],\n",
              "       [66.77500153],\n",
              "       [66.57250214],\n",
              "       [65.79750061],\n",
              "       [65.50250244],\n",
              "       [65.44499969],\n",
              "       [66.59249878],\n",
              "       [66.07250214],\n",
              "       [66.95999908],\n",
              "       [66.8125    ],\n",
              "       [66.04000092],\n",
              "       [64.86250305],\n",
              "       [65.43499756],\n",
              "       [66.39499664],\n",
              "       [67.67749786],\n",
              "       [66.73000336],\n",
              "       [67.12000275],\n",
              "       [67.69249725],\n",
              "       [67.86499786],\n",
              "       [68.78749847],\n",
              "       [69.96499634],\n",
              "       [70.10250092]])"
            ]
          },
          "metadata": {
            "tags": []
          },
          "execution_count": 32
        }
      ]
    },
    {
      "cell_type": "code",
      "metadata": {
        "colab": {
          "base_uri": "https://localhost:8080/"
        },
        "id": "QP41eZwjTJxu",
        "outputId": "e8d1bd07-96c1-40be-9064-91329890990f"
      },
      "source": [
        "#convert the data to a numpy array\n",
        "x_test = np.array(x_test)\n",
        "x_test"
      ],
      "execution_count": 33,
      "outputs": [
        {
          "output_type": "execute_result",
          "data": {
            "text/plain": [
              "array([[0.51322235, 0.51958863, 0.53294452, ..., 0.58926183, 0.58164901,\n",
              "        0.58939538],\n",
              "       [0.51958863, 0.53294452, 0.54839284, ..., 0.58164901, 0.58939538,\n",
              "        0.5840976 ],\n",
              "       [0.53294452, 0.54839284, 0.54581069, ..., 0.58939538, 0.5840976 ,\n",
              "        0.58107023],\n",
              "       ...,\n",
              "       [0.7353308 , 0.72095091, 0.72535838, ..., 0.94688811, 0.95708301,\n",
              "        0.96015487],\n",
              "       [0.72095091, 0.72535838, 0.7207283 , ..., 0.95708301, 0.96015487,\n",
              "        0.97658263],\n",
              "       [0.72535838, 0.7207283 , 0.7356424 , ..., 0.96015487, 0.97658263,\n",
              "        0.99755134]])"
            ]
          },
          "metadata": {
            "tags": []
          },
          "execution_count": 33
        }
      ]
    },
    {
      "cell_type": "code",
      "metadata": {
        "id": "T7T_1gBXNupp"
      },
      "source": [
        "#reshape the data need to three dimentional for LSTM model\n",
        "x_test = np.reshape(x_test, (x_test.shape[0], x_test.shape[1], 1 ))"
      ],
      "execution_count": 34,
      "outputs": []
    },
    {
      "cell_type": "code",
      "metadata": {
        "id": "-ruBtyscOIYS"
      },
      "source": [
        " prediction = model.predict(x_test)\n",
        " prediction = scaler.inverse_transform(prediction)"
      ],
      "execution_count": 35,
      "outputs": []
    },
    {
      "cell_type": "code",
      "metadata": {
        "colab": {
          "base_uri": "https://localhost:8080/"
        },
        "id": "1UDJ_LKOPeli",
        "outputId": "5c409357-629e-4294-9ce7-930c85494094"
      },
      "source": [
        "# get root mean square (RMSE)\n",
        "rmse = np.sqrt(np.mean(prediction - y_test)**2)\n",
        "rmse"
      ],
      "execution_count": 36,
      "outputs": [
        {
          "output_type": "execute_result",
          "data": {
            "text/plain": [
              "0.42369985580444336"
            ]
          },
          "metadata": {
            "tags": []
          },
          "execution_count": 36
        }
      ]
    },
    {
      "cell_type": "code",
      "metadata": {
        "colab": {
          "base_uri": "https://localhost:8080/",
          "height": 479
        },
        "id": "7nm7Bi7JQDgA",
        "outputId": "1d1ddbf7-87db-4ee0-9684-805c6c09f5fb"
      },
      "source": [
        "#plot the data\n",
        "train = data[:training_data_len]\n",
        "valid = data[training_data_len:]\n",
        "valid['prediction'] = prediction\n",
        "\n",
        "#visualise the model\n",
        "plt.figure(figsize=(16,8))\n",
        "plt.figure(figsize=(16,8))\n",
        "plt.title('model')\n",
        "plt.xlabel('Date',fontsize=18)\n",
        "plt.ylabel('close price USD ($)',fontsize=18)\n",
        "plt.plot(train['Close'])\n",
        "plt.plot(train['Close'])\n",
        "plt.plot(valid[['Close','prediction']])\n",
        "plt.legend(['Train','val','Prediction'],loc = 'lower right')\n",
        "plt.show()"
      ],
      "execution_count": 47,
      "outputs": [
        {
          "output_type": "stream",
          "text": [
            "/usr/local/lib/python3.7/dist-packages/ipykernel_launcher.py:4: SettingWithCopyWarning: \n",
            "A value is trying to be set on a copy of a slice from a DataFrame.\n",
            "Try using .loc[row_indexer,col_indexer] = value instead\n",
            "\n",
            "See the caveats in the documentation: https://pandas.pydata.org/pandas-docs/stable/user_guide/indexing.html#returning-a-view-versus-a-copy\n",
            "  after removing the cwd from sys.path.\n"
          ],
          "name": "stderr"
        },
        {
          "output_type": "display_data",
          "data": {
            "text/plain": [
              "<Figure size 1152x576 with 0 Axes>"
            ]
          },
          "metadata": {
            "tags": []
          }
        },
        {
          "output_type": "display_data",
          "data": {
            "image/png": "[encoded data removed]",
            "text/plain": [
              "<Figure size 1152x576 with 1 Axes>"
            ]
          },
          "metadata": {
            "tags": []
          }
        }
      ]
    },
    {
      "cell_type": "code",
      "metadata": {
        "colab": {
          "base_uri": "https://localhost:8080/",
          "height": 446
        },
        "id": "WG9wrdXRWMBT",
        "outputId": "d3c05a86-91a8-46ae-8d83-fe8191b9dc7d"
      },
      "source": [
        "#Show the valid and predicted prices\n",
        "valid"
      ],
      "execution_count": 42,
      "outputs": [
        {
          "output_type": "execute_result",
          "data": {
            "text/html": [
              "<div>\n",
              "<style scoped>\n",
              "    .dataframe tbody tr th:only-of-type {\n",
              "        vertical-align: middle;\n",
              "    }\n",
              "\n",
              "    .dataframe tbody tr th {\n",
              "        vertical-align: top;\n",
              "    }\n",
              "\n",
              "    .dataframe thead th {\n",
              "        text-align: right;\n",
              "    }\n",
              "</style>\n",
              "<table border=\"1\" class=\"dataframe\">\n",
              "  <thead>\n",
              "    <tr style=\"text-align: right;\">\n",
              "      <th></th>\n",
              "      <th>Close</th>\n",
              "      <th>prediction</th>\n",
              "    </tr>\n",
              "    <tr>\n",
              "      <th>Date</th>\n",
              "      <th></th>\n",
              "      <th></th>\n",
              "    </tr>\n",
              "  </thead>\n",
              "  <tbody>\n",
              "    <tr>\n",
              "      <th>2018-05-17</th>\n",
              "      <td>46.747501</td>\n",
              "      <td>46.607372</td>\n",
              "    </tr>\n",
              "    <tr>\n",
              "      <th>2018-05-18</th>\n",
              "      <td>46.577499</td>\n",
              "      <td>46.658108</td>\n",
              "    </tr>\n",
              "    <tr>\n",
              "      <th>2018-05-21</th>\n",
              "      <td>46.907501</td>\n",
              "      <td>46.641087</td>\n",
              "    </tr>\n",
              "    <tr>\n",
              "      <th>2018-05-22</th>\n",
              "      <td>46.790001</td>\n",
              "      <td>46.631088</td>\n",
              "    </tr>\n",
              "    <tr>\n",
              "      <th>2018-05-23</th>\n",
              "      <td>47.090000</td>\n",
              "      <td>46.611141</td>\n",
              "    </tr>\n",
              "    <tr>\n",
              "      <th>...</th>\n",
              "      <td>...</td>\n",
              "      <td>...</td>\n",
              "    </tr>\n",
              "    <tr>\n",
              "      <th>2019-12-11</th>\n",
              "      <td>67.692497</td>\n",
              "      <td>66.384499</td>\n",
              "    </tr>\n",
              "    <tr>\n",
              "      <th>2019-12-12</th>\n",
              "      <td>67.864998</td>\n",
              "      <td>66.628296</td>\n",
              "    </tr>\n",
              "    <tr>\n",
              "      <th>2019-12-13</th>\n",
              "      <td>68.787498</td>\n",
              "      <td>66.889137</td>\n",
              "    </tr>\n",
              "    <tr>\n",
              "      <th>2019-12-16</th>\n",
              "      <td>69.964996</td>\n",
              "      <td>67.244225</td>\n",
              "    </tr>\n",
              "    <tr>\n",
              "      <th>2019-12-17</th>\n",
              "      <td>70.102501</td>\n",
              "      <td>67.748138</td>\n",
              "    </tr>\n",
              "  </tbody>\n",
              "</table>\n",
              "<p>400 rows × 2 columns</p>\n",
              "</div>"
            ],
            "text/plain": [
              "                Close  prediction\n",
              "Date                             \n",
              "2018-05-17  46.747501   46.607372\n",
              "2018-05-18  46.577499   46.658108\n",
              "2018-05-21  46.907501   46.641087\n",
              "2018-05-22  46.790001   46.631088\n",
              "2018-05-23  47.090000   46.611141\n",
              "...               ...         ...\n",
              "2019-12-11  67.692497   66.384499\n",
              "2019-12-12  67.864998   66.628296\n",
              "2019-12-13  68.787498   66.889137\n",
              "2019-12-16  69.964996   67.244225\n",
              "2019-12-17  70.102501   67.748138\n",
              "\n",
              "[400 rows x 2 columns]"
            ]
          },
          "metadata": {
            "tags": []
          },
          "execution_count": 42
        }
      ]
    },
    {
      "cell_type": "code",
      "metadata": {
        "colab": {
          "base_uri": "https://localhost:8080/"
        },
        "id": "KEaCWAFPWdNj",
        "outputId": "f86a4a20-a27c-47fa-8562-069f6ecf1788"
      },
      "source": [
        "# get the quote\n",
        "app_quote = web.DataReader('AAPL',data_source='yahoo',start='2012-01-01', end='2019-12-17')\n",
        "#Create a new dataframe\n",
        "new_df = app_quote.filter(['Close'])\n",
        "# Get the last 60 day closing price values and convert the dataframe to an array \n",
        "last_60_days = new_df[-60:].values\n",
        "#scale the data to be values between 0 and 1\n",
        "last_60_days_scaled = scaler.transform(last_60_days)\n",
        "#create an empty list\n",
        "X_test = []\n",
        "# Append the past 60 days\n",
        "X_test.append(last_60_days_scaled)\n",
        "#convert the X_test data set to a numpy array\n",
        "X_test = np.array(X_test)\n",
        "#reshape the data\n",
        "X_test = np.reshape(X_test,(X_test.shape[0], X_test.shape[1], 1))\n",
        "#Get the predicted scaled price\n",
        "pred_price =model.predict(X_test)\n",
        "#undo the scaling\n",
        "pred_price = scaler.inverse_transform(pred_price)\n",
        "print(pred_price)\n"
      ],
      "execution_count": 54,
      "outputs": [
        {
          "output_type": "stream",
          "text": [
            "[[68.274536]]\n"
          ],
          "name": "stdout"
        }
      ]
    },
    {
      "cell_type": "code",
      "metadata": {
        "colab": {
          "base_uri": "https://localhost:8080/"
        },
        "id": "o15AxbhYYcQ4",
        "outputId": "c3a2aae6-9ff0-4a4b-c28f-7812335f5f4d"
      },
      "source": [
        "#Get the quote\n",
        "app_quote2 = web.DataReader('AAPL',data_source='yahoo',start='2019-12-18',end='2019-12-18')\n",
        "print(app_quote2['Close'])"
      ],
      "execution_count": 55,
      "outputs": [
        {
          "output_type": "stream",
          "text": [
            "Date\n",
            "2019-12-18    69.934998\n",
            "Name: Close, dtype: float64\n"
          ],
          "name": "stdout"
        }
      ]
    },
    {
      "cell_type": "code",
      "metadata": {
        "id": "FfvyWe4iZSCm"
      },
      "source": [
        ""
      ],
      "execution_count": null,
      "outputs": []
    }
  ]
}