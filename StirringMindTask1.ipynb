{
  "nbformat": 4,
  "nbformat_minor": 0,
  "metadata": {
    "colab": {
      "name": "StirringMindTask1",
      "provenance": [],
      "authorship_tag": "ABX9TyONdPOrwtgxsRYKNHAZ9AxT",
      "include_colab_link": true
    },
    "kernelspec": {
      "name": "python3",
      "display_name": "Python 3"
    }
  },
  "cells": [
    {
      "cell_type": "markdown",
      "metadata": {
        "id": "view-in-github",
        "colab_type": "text"
      },
      "source": [
        "<a href=\"https://colab.research.google.com/github/nptikiran/Linkedin_Google_ProfileScraper/blob/main/StirringMindTask1.ipynb\" target=\"_parent\"><img src=\"https://colab.research.google.com/assets/colab-badge.svg\" alt=\"Open In Colab\"/></a>"
      ]
    },
    {
      "cell_type": "markdown",
      "metadata": {
        "id": "pZpXtp_wFYPc"
      },
      "source": [
        "**Stirring Minds Task**\n",
        "\n",
        "https://discord.com/channels/419617105844109323/698838258603524136\n",
        "\n",
        "**Machine Learning **\n",
        "\n",
        "**Task 1:**\n",
        "\n",
        "You are assigned to a project where you are working on a datasets provided with Career guidance which contains various details of the students and their preferred career choices. How do you select the important variables? Explain your method in detail. (You are free to assume the variables as needed). \n",
        "\n",
        "**Author:- Kiran Malwe**\n",
        "\n"
      ]
    },
    {
      "cell_type": "markdown",
      "metadata": {
        "id": "T0N8HnthfgWs"
      },
      "source": [
        ""
      ]
    },
    {
      "cell_type": "markdown",
      "metadata": {
        "id": "rxRSPeOSGlkQ"
      },
      "source": [
        "\n",
        "Import libraries"
      ]
    },
    {
      "cell_type": "code",
      "metadata": {
        "id": "mLqQ7J4EFOIA"
      },
      "source": [
        "import numpy as np\n",
        "import pandas as pd\n",
        "import matplotlib.pyplot as plt\n",
        "import seaborn as sn\n",
        "%matplotlib inline"
      ],
      "execution_count": null,
      "outputs": []
    },
    {
      "cell_type": "code",
      "metadata": {
        "id": "4Xvj8bAoG8c2"
      },
      "source": [
        "data = pd.read_csv('/content/roo_data.csv',sep=',',)"
      ],
      "execution_count": null,
      "outputs": []
    },
    {
      "cell_type": "code",
      "metadata": {
        "colab": {
          "base_uri": "https://localhost:8080/",
          "height": 434
        },
        "id": "KZDybCh9HmBG",
        "outputId": "baa9299c-1832-4346-ec4a-7fe066859fcb"
      },
      "source": [
        "data.head()"
      ],
      "execution_count": null,
      "outputs": [
        {
          "output_type": "execute_result",
          "data": {
            "text/html": [
              "<div>\n",
              "<style scoped>\n",
              "    .dataframe tbody tr th:only-of-type {\n",
              "        vertical-align: middle;\n",
              "    }\n",
              "\n",
              "    .dataframe tbody tr th {\n",
              "        vertical-align: top;\n",
              "    }\n",
              "\n",
              "    .dataframe thead th {\n",
              "        text-align: right;\n",
              "    }\n",
              "</style>\n",
              "<table border=\"1\" class=\"dataframe\">\n",
              "  <thead>\n",
              "    <tr style=\"text-align: right;\">\n",
              "      <th></th>\n",
              "      <th>Acedamic percentage in Operating Systems</th>\n",
              "      <th>percentage in Algorithms</th>\n",
              "      <th>Percentage in Programming Concepts</th>\n",
              "      <th>Percentage in Software Engineering</th>\n",
              "      <th>Percentage in Computer Networks</th>\n",
              "      <th>Percentage in Electronics Subjects</th>\n",
              "      <th>Percentage in Computer Architecture</th>\n",
              "      <th>Percentage in Mathematics</th>\n",
              "      <th>Percentage in Communication skills</th>\n",
              "      <th>Hours working per day</th>\n",
              "      <th>Logical quotient rating</th>\n",
              "      <th>hackathons</th>\n",
              "      <th>coding skills rating</th>\n",
              "      <th>public speaking points</th>\n",
              "      <th>can work long time before system?</th>\n",
              "      <th>self-learning capability?</th>\n",
              "      <th>Extra-courses did</th>\n",
              "      <th>certifications</th>\n",
              "      <th>workshops</th>\n",
              "      <th>talenttests taken?</th>\n",
              "      <th>olympiads</th>\n",
              "      <th>reading and writing skills</th>\n",
              "      <th>memory capability score</th>\n",
              "      <th>Interested subjects</th>\n",
              "      <th>interested career area</th>\n",
              "      <th>Job/Higher Studies?</th>\n",
              "      <th>Type of company want to settle in?</th>\n",
              "      <th>Taken inputs from seniors or elders</th>\n",
              "      <th>interested in games</th>\n",
              "      <th>Interested Type of Books</th>\n",
              "      <th>Salary Range Expected</th>\n",
              "      <th>In a Realtionship?</th>\n",
              "      <th>Gentle or Tuff behaviour?</th>\n",
              "      <th>Management or Technical</th>\n",
              "      <th>Salary/work</th>\n",
              "      <th>hard/smart worker</th>\n",
              "      <th>worked in teams ever?</th>\n",
              "      <th>Introvert</th>\n",
              "      <th>Suggested Job Role</th>\n",
              "    </tr>\n",
              "  </thead>\n",
              "  <tbody>\n",
              "    <tr>\n",
              "      <th>0</th>\n",
              "      <td>69</td>\n",
              "      <td>63</td>\n",
              "      <td>78</td>\n",
              "      <td>87</td>\n",
              "      <td>94</td>\n",
              "      <td>94</td>\n",
              "      <td>87</td>\n",
              "      <td>84</td>\n",
              "      <td>61</td>\n",
              "      <td>9</td>\n",
              "      <td>4</td>\n",
              "      <td>0</td>\n",
              "      <td>4</td>\n",
              "      <td>8</td>\n",
              "      <td>yes</td>\n",
              "      <td>yes</td>\n",
              "      <td>yes</td>\n",
              "      <td>shell programming</td>\n",
              "      <td>cloud computing</td>\n",
              "      <td>no</td>\n",
              "      <td>yes</td>\n",
              "      <td>excellent</td>\n",
              "      <td>excellent</td>\n",
              "      <td>cloud computing</td>\n",
              "      <td>system developer</td>\n",
              "      <td>higherstudies</td>\n",
              "      <td>Web Services</td>\n",
              "      <td>no</td>\n",
              "      <td>no</td>\n",
              "      <td>Prayer books</td>\n",
              "      <td>salary</td>\n",
              "      <td>no</td>\n",
              "      <td>stubborn</td>\n",
              "      <td>Management</td>\n",
              "      <td>salary</td>\n",
              "      <td>hard worker</td>\n",
              "      <td>yes</td>\n",
              "      <td>no</td>\n",
              "      <td>Database Developer</td>\n",
              "    </tr>\n",
              "    <tr>\n",
              "      <th>1</th>\n",
              "      <td>78</td>\n",
              "      <td>62</td>\n",
              "      <td>73</td>\n",
              "      <td>60</td>\n",
              "      <td>71</td>\n",
              "      <td>70</td>\n",
              "      <td>73</td>\n",
              "      <td>84</td>\n",
              "      <td>91</td>\n",
              "      <td>12</td>\n",
              "      <td>7</td>\n",
              "      <td>1</td>\n",
              "      <td>2</td>\n",
              "      <td>3</td>\n",
              "      <td>yes</td>\n",
              "      <td>no</td>\n",
              "      <td>yes</td>\n",
              "      <td>machine learning</td>\n",
              "      <td>database security</td>\n",
              "      <td>no</td>\n",
              "      <td>no</td>\n",
              "      <td>poor</td>\n",
              "      <td>medium</td>\n",
              "      <td>networks</td>\n",
              "      <td>Business process analyst</td>\n",
              "      <td>job</td>\n",
              "      <td>SAaS services</td>\n",
              "      <td>yes</td>\n",
              "      <td>yes</td>\n",
              "      <td>Childrens</td>\n",
              "      <td>salary</td>\n",
              "      <td>yes</td>\n",
              "      <td>gentle</td>\n",
              "      <td>Technical</td>\n",
              "      <td>salary</td>\n",
              "      <td>hard worker</td>\n",
              "      <td>no</td>\n",
              "      <td>yes</td>\n",
              "      <td>Portal Administrator</td>\n",
              "    </tr>\n",
              "    <tr>\n",
              "      <th>2</th>\n",
              "      <td>71</td>\n",
              "      <td>86</td>\n",
              "      <td>91</td>\n",
              "      <td>87</td>\n",
              "      <td>61</td>\n",
              "      <td>81</td>\n",
              "      <td>72</td>\n",
              "      <td>72</td>\n",
              "      <td>94</td>\n",
              "      <td>11</td>\n",
              "      <td>1</td>\n",
              "      <td>4</td>\n",
              "      <td>1</td>\n",
              "      <td>3</td>\n",
              "      <td>yes</td>\n",
              "      <td>no</td>\n",
              "      <td>yes</td>\n",
              "      <td>app development</td>\n",
              "      <td>web technologies</td>\n",
              "      <td>no</td>\n",
              "      <td>yes</td>\n",
              "      <td>poor</td>\n",
              "      <td>excellent</td>\n",
              "      <td>hacking</td>\n",
              "      <td>developer</td>\n",
              "      <td>higherstudies</td>\n",
              "      <td>Sales and Marketing</td>\n",
              "      <td>yes</td>\n",
              "      <td>yes</td>\n",
              "      <td>Travel</td>\n",
              "      <td>Work</td>\n",
              "      <td>no</td>\n",
              "      <td>stubborn</td>\n",
              "      <td>Management</td>\n",
              "      <td>work</td>\n",
              "      <td>hard worker</td>\n",
              "      <td>no</td>\n",
              "      <td>yes</td>\n",
              "      <td>Portal Administrator</td>\n",
              "    </tr>\n",
              "    <tr>\n",
              "      <th>3</th>\n",
              "      <td>76</td>\n",
              "      <td>87</td>\n",
              "      <td>60</td>\n",
              "      <td>84</td>\n",
              "      <td>89</td>\n",
              "      <td>73</td>\n",
              "      <td>62</td>\n",
              "      <td>88</td>\n",
              "      <td>69</td>\n",
              "      <td>7</td>\n",
              "      <td>1</td>\n",
              "      <td>1</td>\n",
              "      <td>2</td>\n",
              "      <td>5</td>\n",
              "      <td>no</td>\n",
              "      <td>yes</td>\n",
              "      <td>no</td>\n",
              "      <td>python</td>\n",
              "      <td>data science</td>\n",
              "      <td>yes</td>\n",
              "      <td>no</td>\n",
              "      <td>medium</td>\n",
              "      <td>excellent</td>\n",
              "      <td>networks</td>\n",
              "      <td>testing</td>\n",
              "      <td>higherstudies</td>\n",
              "      <td>Testing and Maintainance Services</td>\n",
              "      <td>no</td>\n",
              "      <td>no</td>\n",
              "      <td>Romance</td>\n",
              "      <td>Work</td>\n",
              "      <td>yes</td>\n",
              "      <td>gentle</td>\n",
              "      <td>Management</td>\n",
              "      <td>work</td>\n",
              "      <td>smart worker</td>\n",
              "      <td>yes</td>\n",
              "      <td>yes</td>\n",
              "      <td>Systems Security Administrator</td>\n",
              "    </tr>\n",
              "    <tr>\n",
              "      <th>4</th>\n",
              "      <td>92</td>\n",
              "      <td>62</td>\n",
              "      <td>90</td>\n",
              "      <td>67</td>\n",
              "      <td>71</td>\n",
              "      <td>89</td>\n",
              "      <td>73</td>\n",
              "      <td>71</td>\n",
              "      <td>73</td>\n",
              "      <td>4</td>\n",
              "      <td>5</td>\n",
              "      <td>4</td>\n",
              "      <td>6</td>\n",
              "      <td>3</td>\n",
              "      <td>no</td>\n",
              "      <td>no</td>\n",
              "      <td>no</td>\n",
              "      <td>app development</td>\n",
              "      <td>cloud computing</td>\n",
              "      <td>no</td>\n",
              "      <td>no</td>\n",
              "      <td>poor</td>\n",
              "      <td>excellent</td>\n",
              "      <td>Computer Architecture</td>\n",
              "      <td>testing</td>\n",
              "      <td>higherstudies</td>\n",
              "      <td>product development</td>\n",
              "      <td>no</td>\n",
              "      <td>yes</td>\n",
              "      <td>Cookbooks</td>\n",
              "      <td>salary</td>\n",
              "      <td>no</td>\n",
              "      <td>stubborn</td>\n",
              "      <td>Management</td>\n",
              "      <td>work</td>\n",
              "      <td>hard worker</td>\n",
              "      <td>yes</td>\n",
              "      <td>yes</td>\n",
              "      <td>Business Systems Analyst</td>\n",
              "    </tr>\n",
              "  </tbody>\n",
              "</table>\n",
              "</div>"
            ],
            "text/plain": [
              "   Acedamic percentage in Operating Systems  ...              Suggested Job Role\n",
              "0                                        69  ...              Database Developer\n",
              "1                                        78  ...            Portal Administrator\n",
              "2                                        71  ...            Portal Administrator\n",
              "3                                        76  ...  Systems Security Administrator\n",
              "4                                        92  ...        Business Systems Analyst\n",
              "\n",
              "[5 rows x 39 columns]"
            ]
          },
          "metadata": {
            "tags": []
          },
          "execution_count": 5
        }
      ]
    },
    {
      "cell_type": "code",
      "metadata": {
        "colab": {
          "base_uri": "https://localhost:8080/"
        },
        "id": "2HaAXIMhHnS1",
        "outputId": "29505a4b-3181-47d2-c29c-02de2eb0a6ec"
      },
      "source": [
        "data.shape"
      ],
      "execution_count": null,
      "outputs": [
        {
          "output_type": "execute_result",
          "data": {
            "text/plain": [
              "(20000, 39)"
            ]
          },
          "metadata": {
            "tags": []
          },
          "execution_count": 6
        }
      ]
    },
    {
      "cell_type": "code",
      "metadata": {
        "colab": {
          "base_uri": "https://localhost:8080/"
        },
        "id": "TiS_L-TmHpYl",
        "outputId": "b26daad5-9064-4aa3-8620-7a4eec986b01"
      },
      "source": [
        "data.info()"
      ],
      "execution_count": null,
      "outputs": [
        {
          "output_type": "stream",
          "text": [
            "<class 'pandas.core.frame.DataFrame'>\n",
            "RangeIndex: 20000 entries, 0 to 19999\n",
            "Data columns (total 39 columns):\n",
            " #   Column                                    Non-Null Count  Dtype \n",
            "---  ------                                    --------------  ----- \n",
            " 0   Acedamic percentage in Operating Systems  20000 non-null  int64 \n",
            " 1   percentage in Algorithms                  20000 non-null  int64 \n",
            " 2   Percentage in Programming Concepts        20000 non-null  int64 \n",
            " 3   Percentage in Software Engineering        20000 non-null  int64 \n",
            " 4   Percentage in Computer Networks           20000 non-null  int64 \n",
            " 5   Percentage in Electronics Subjects        20000 non-null  int64 \n",
            " 6   Percentage in Computer Architecture       20000 non-null  int64 \n",
            " 7   Percentage in Mathematics                 20000 non-null  int64 \n",
            " 8   Percentage in Communication skills        20000 non-null  int64 \n",
            " 9   Hours working per day                     20000 non-null  int64 \n",
            " 10  Logical quotient rating                   20000 non-null  int64 \n",
            " 11  hackathons                                20000 non-null  int64 \n",
            " 12  coding skills rating                      20000 non-null  int64 \n",
            " 13  public speaking points                    20000 non-null  int64 \n",
            " 14  can work long time before system?         20000 non-null  object\n",
            " 15  self-learning capability?                 20000 non-null  object\n",
            " 16  Extra-courses did                         20000 non-null  object\n",
            " 17  certifications                            20000 non-null  object\n",
            " 18  workshops                                 20000 non-null  object\n",
            " 19  talenttests taken?                        20000 non-null  object\n",
            " 20  olympiads                                 20000 non-null  object\n",
            " 21  reading and writing skills                20000 non-null  object\n",
            " 22  memory capability score                   20000 non-null  object\n",
            " 23  Interested subjects                       20000 non-null  object\n",
            " 24  interested career area                    20000 non-null  object\n",
            " 25  Job/Higher Studies?                       20000 non-null  object\n",
            " 26  Type of company want to settle in?        20000 non-null  object\n",
            " 27  Taken inputs from seniors or elders       20000 non-null  object\n",
            " 28  interested in games                       20000 non-null  object\n",
            " 29  Interested Type of Books                  20000 non-null  object\n",
            " 30  Salary Range Expected                     20000 non-null  object\n",
            " 31  In a Realtionship?                        20000 non-null  object\n",
            " 32  Gentle or Tuff behaviour?                 20000 non-null  object\n",
            " 33  Management or Technical                   20000 non-null  object\n",
            " 34  Salary/work                               20000 non-null  object\n",
            " 35  hard/smart worker                         20000 non-null  object\n",
            " 36  worked in teams ever?                     20000 non-null  object\n",
            " 37  Introvert                                 20000 non-null  object\n",
            " 38  Suggested Job Role                        20000 non-null  object\n",
            "dtypes: int64(14), object(25)\n",
            "memory usage: 6.0+ MB\n"
          ],
          "name": "stdout"
        }
      ]
    },
    {
      "cell_type": "markdown",
      "metadata": {
        "id": "NVVc_TIVH20N"
      },
      "source": [
        "### No Null Values"
      ]
    },
    {
      "cell_type": "code",
      "metadata": {
        "colab": {
          "base_uri": "https://localhost:8080/"
        },
        "id": "XHf6KsDQHrWd",
        "outputId": "2857be4d-5fe0-49d1-94d5-f6b7c813e260"
      },
      "source": [
        "data=pd.DataFrame(data)\n",
        "X = data.iloc[:,:-1].values\n",
        "y = data.iloc[:,-1].values\n",
        "len(X[0])"
      ],
      "execution_count": null,
      "outputs": [
        {
          "output_type": "execute_result",
          "data": {
            "text/plain": [
              "38"
            ]
          },
          "metadata": {
            "tags": []
          },
          "execution_count": 8
        }
      ]
    },
    {
      "cell_type": "code",
      "metadata": {
        "id": "qns0Hl5XIiot",
        "colab": {
          "base_uri": "https://localhost:8080/",
          "height": 456
        },
        "outputId": "19e29ba0-1db5-4aa5-ecea-3155fc7cf3b7"
      },
      "source": [
        "data.iloc[:,:14]"
      ],
      "execution_count": null,
      "outputs": [
        {
          "output_type": "execute_result",
          "data": {
            "text/html": [
              "<div>\n",
              "<style scoped>\n",
              "    .dataframe tbody tr th:only-of-type {\n",
              "        vertical-align: middle;\n",
              "    }\n",
              "\n",
              "    .dataframe tbody tr th {\n",
              "        vertical-align: top;\n",
              "    }\n",
              "\n",
              "    .dataframe thead th {\n",
              "        text-align: right;\n",
              "    }\n",
              "</style>\n",
              "<table border=\"1\" class=\"dataframe\">\n",
              "  <thead>\n",
              "    <tr style=\"text-align: right;\">\n",
              "      <th></th>\n",
              "      <th>Acedamic percentage in Operating Systems</th>\n",
              "      <th>percentage in Algorithms</th>\n",
              "      <th>Percentage in Programming Concepts</th>\n",
              "      <th>Percentage in Software Engineering</th>\n",
              "      <th>Percentage in Computer Networks</th>\n",
              "      <th>Percentage in Electronics Subjects</th>\n",
              "      <th>Percentage in Computer Architecture</th>\n",
              "      <th>Percentage in Mathematics</th>\n",
              "      <th>Percentage in Communication skills</th>\n",
              "      <th>Hours working per day</th>\n",
              "      <th>Logical quotient rating</th>\n",
              "      <th>hackathons</th>\n",
              "      <th>coding skills rating</th>\n",
              "      <th>public speaking points</th>\n",
              "    </tr>\n",
              "  </thead>\n",
              "  <tbody>\n",
              "    <tr>\n",
              "      <th>0</th>\n",
              "      <td>69</td>\n",
              "      <td>63</td>\n",
              "      <td>78</td>\n",
              "      <td>87</td>\n",
              "      <td>94</td>\n",
              "      <td>94</td>\n",
              "      <td>87</td>\n",
              "      <td>84</td>\n",
              "      <td>61</td>\n",
              "      <td>9</td>\n",
              "      <td>4</td>\n",
              "      <td>0</td>\n",
              "      <td>4</td>\n",
              "      <td>8</td>\n",
              "    </tr>\n",
              "    <tr>\n",
              "      <th>1</th>\n",
              "      <td>78</td>\n",
              "      <td>62</td>\n",
              "      <td>73</td>\n",
              "      <td>60</td>\n",
              "      <td>71</td>\n",
              "      <td>70</td>\n",
              "      <td>73</td>\n",
              "      <td>84</td>\n",
              "      <td>91</td>\n",
              "      <td>12</td>\n",
              "      <td>7</td>\n",
              "      <td>1</td>\n",
              "      <td>2</td>\n",
              "      <td>3</td>\n",
              "    </tr>\n",
              "    <tr>\n",
              "      <th>2</th>\n",
              "      <td>71</td>\n",
              "      <td>86</td>\n",
              "      <td>91</td>\n",
              "      <td>87</td>\n",
              "      <td>61</td>\n",
              "      <td>81</td>\n",
              "      <td>72</td>\n",
              "      <td>72</td>\n",
              "      <td>94</td>\n",
              "      <td>11</td>\n",
              "      <td>1</td>\n",
              "      <td>4</td>\n",
              "      <td>1</td>\n",
              "      <td>3</td>\n",
              "    </tr>\n",
              "    <tr>\n",
              "      <th>3</th>\n",
              "      <td>76</td>\n",
              "      <td>87</td>\n",
              "      <td>60</td>\n",
              "      <td>84</td>\n",
              "      <td>89</td>\n",
              "      <td>73</td>\n",
              "      <td>62</td>\n",
              "      <td>88</td>\n",
              "      <td>69</td>\n",
              "      <td>7</td>\n",
              "      <td>1</td>\n",
              "      <td>1</td>\n",
              "      <td>2</td>\n",
              "      <td>5</td>\n",
              "    </tr>\n",
              "    <tr>\n",
              "      <th>4</th>\n",
              "      <td>92</td>\n",
              "      <td>62</td>\n",
              "      <td>90</td>\n",
              "      <td>67</td>\n",
              "      <td>71</td>\n",
              "      <td>89</td>\n",
              "      <td>73</td>\n",
              "      <td>71</td>\n",
              "      <td>73</td>\n",
              "      <td>4</td>\n",
              "      <td>5</td>\n",
              "      <td>4</td>\n",
              "      <td>6</td>\n",
              "      <td>3</td>\n",
              "    </tr>\n",
              "    <tr>\n",
              "      <th>...</th>\n",
              "      <td>...</td>\n",
              "      <td>...</td>\n",
              "      <td>...</td>\n",
              "      <td>...</td>\n",
              "      <td>...</td>\n",
              "      <td>...</td>\n",
              "      <td>...</td>\n",
              "      <td>...</td>\n",
              "      <td>...</td>\n",
              "      <td>...</td>\n",
              "      <td>...</td>\n",
              "      <td>...</td>\n",
              "      <td>...</td>\n",
              "      <td>...</td>\n",
              "    </tr>\n",
              "    <tr>\n",
              "      <th>19995</th>\n",
              "      <td>83</td>\n",
              "      <td>67</td>\n",
              "      <td>62</td>\n",
              "      <td>63</td>\n",
              "      <td>81</td>\n",
              "      <td>74</td>\n",
              "      <td>90</td>\n",
              "      <td>84</td>\n",
              "      <td>69</td>\n",
              "      <td>4</td>\n",
              "      <td>2</td>\n",
              "      <td>6</td>\n",
              "      <td>1</td>\n",
              "      <td>8</td>\n",
              "    </tr>\n",
              "    <tr>\n",
              "      <th>19996</th>\n",
              "      <td>80</td>\n",
              "      <td>69</td>\n",
              "      <td>83</td>\n",
              "      <td>87</td>\n",
              "      <td>82</td>\n",
              "      <td>66</td>\n",
              "      <td>66</td>\n",
              "      <td>92</td>\n",
              "      <td>67</td>\n",
              "      <td>7</td>\n",
              "      <td>8</td>\n",
              "      <td>0</td>\n",
              "      <td>9</td>\n",
              "      <td>8</td>\n",
              "    </tr>\n",
              "    <tr>\n",
              "      <th>19997</th>\n",
              "      <td>83</td>\n",
              "      <td>70</td>\n",
              "      <td>80</td>\n",
              "      <td>87</td>\n",
              "      <td>64</td>\n",
              "      <td>85</td>\n",
              "      <td>69</td>\n",
              "      <td>94</td>\n",
              "      <td>88</td>\n",
              "      <td>7</td>\n",
              "      <td>3</td>\n",
              "      <td>6</td>\n",
              "      <td>2</td>\n",
              "      <td>3</td>\n",
              "    </tr>\n",
              "    <tr>\n",
              "      <th>19998</th>\n",
              "      <td>68</td>\n",
              "      <td>87</td>\n",
              "      <td>91</td>\n",
              "      <td>88</td>\n",
              "      <td>66</td>\n",
              "      <td>74</td>\n",
              "      <td>61</td>\n",
              "      <td>87</td>\n",
              "      <td>61</td>\n",
              "      <td>5</td>\n",
              "      <td>1</td>\n",
              "      <td>4</td>\n",
              "      <td>9</td>\n",
              "      <td>5</td>\n",
              "    </tr>\n",
              "    <tr>\n",
              "      <th>19999</th>\n",
              "      <td>73</td>\n",
              "      <td>77</td>\n",
              "      <td>74</td>\n",
              "      <td>84</td>\n",
              "      <td>70</td>\n",
              "      <td>65</td>\n",
              "      <td>92</td>\n",
              "      <td>73</td>\n",
              "      <td>90</td>\n",
              "      <td>7</td>\n",
              "      <td>3</td>\n",
              "      <td>1</td>\n",
              "      <td>7</td>\n",
              "      <td>6</td>\n",
              "    </tr>\n",
              "  </tbody>\n",
              "</table>\n",
              "<p>20000 rows × 14 columns</p>\n",
              "</div>"
            ],
            "text/plain": [
              "       Acedamic percentage in Operating Systems  ...  public speaking points\n",
              "0                                            69  ...                       8\n",
              "1                                            78  ...                       3\n",
              "2                                            71  ...                       3\n",
              "3                                            76  ...                       5\n",
              "4                                            92  ...                       3\n",
              "...                                         ...  ...                     ...\n",
              "19995                                        83  ...                       8\n",
              "19996                                        80  ...                       8\n",
              "19997                                        83  ...                       3\n",
              "19998                                        68  ...                       5\n",
              "19999                                        73  ...                       6\n",
              "\n",
              "[20000 rows x 14 columns]"
            ]
          },
          "metadata": {
            "tags": []
          },
          "execution_count": 9
        }
      ]
    },
    {
      "cell_type": "code",
      "metadata": {
        "colab": {
          "base_uri": "https://localhost:8080/",
          "height": 826
        },
        "id": "OOk1_Fbeknkz",
        "outputId": "f3cc4e16-576f-4ea1-fd64-1aa3ae4bd7a0"
      },
      "source": [
        "data.iloc[:,14:]"
      ],
      "execution_count": null,
      "outputs": [
        {
          "output_type": "execute_result",
          "data": {
            "text/html": [
              "<div>\n",
              "<style scoped>\n",
              "    .dataframe tbody tr th:only-of-type {\n",
              "        vertical-align: middle;\n",
              "    }\n",
              "\n",
              "    .dataframe tbody tr th {\n",
              "        vertical-align: top;\n",
              "    }\n",
              "\n",
              "    .dataframe thead th {\n",
              "        text-align: right;\n",
              "    }\n",
              "</style>\n",
              "<table border=\"1\" class=\"dataframe\">\n",
              "  <thead>\n",
              "    <tr style=\"text-align: right;\">\n",
              "      <th></th>\n",
              "      <th>can work long time before system?</th>\n",
              "      <th>self-learning capability?</th>\n",
              "      <th>Extra-courses did</th>\n",
              "      <th>certifications</th>\n",
              "      <th>workshops</th>\n",
              "      <th>talenttests taken?</th>\n",
              "      <th>olympiads</th>\n",
              "      <th>reading and writing skills</th>\n",
              "      <th>memory capability score</th>\n",
              "      <th>Interested subjects</th>\n",
              "      <th>interested career area</th>\n",
              "      <th>Job/Higher Studies?</th>\n",
              "      <th>Type of company want to settle in?</th>\n",
              "      <th>Taken inputs from seniors or elders</th>\n",
              "      <th>interested in games</th>\n",
              "      <th>Interested Type of Books</th>\n",
              "      <th>Salary Range Expected</th>\n",
              "      <th>In a Realtionship?</th>\n",
              "      <th>Gentle or Tuff behaviour?</th>\n",
              "      <th>Management or Technical</th>\n",
              "      <th>Salary/work</th>\n",
              "      <th>hard/smart worker</th>\n",
              "      <th>worked in teams ever?</th>\n",
              "      <th>Introvert</th>\n",
              "      <th>Suggested Job Role</th>\n",
              "    </tr>\n",
              "  </thead>\n",
              "  <tbody>\n",
              "    <tr>\n",
              "      <th>0</th>\n",
              "      <td>yes</td>\n",
              "      <td>yes</td>\n",
              "      <td>yes</td>\n",
              "      <td>shell programming</td>\n",
              "      <td>cloud computing</td>\n",
              "      <td>no</td>\n",
              "      <td>yes</td>\n",
              "      <td>excellent</td>\n",
              "      <td>excellent</td>\n",
              "      <td>cloud computing</td>\n",
              "      <td>system developer</td>\n",
              "      <td>higherstudies</td>\n",
              "      <td>Web Services</td>\n",
              "      <td>no</td>\n",
              "      <td>no</td>\n",
              "      <td>Prayer books</td>\n",
              "      <td>salary</td>\n",
              "      <td>no</td>\n",
              "      <td>stubborn</td>\n",
              "      <td>Management</td>\n",
              "      <td>salary</td>\n",
              "      <td>hard worker</td>\n",
              "      <td>yes</td>\n",
              "      <td>no</td>\n",
              "      <td>Database Developer</td>\n",
              "    </tr>\n",
              "    <tr>\n",
              "      <th>1</th>\n",
              "      <td>yes</td>\n",
              "      <td>no</td>\n",
              "      <td>yes</td>\n",
              "      <td>machine learning</td>\n",
              "      <td>database security</td>\n",
              "      <td>no</td>\n",
              "      <td>no</td>\n",
              "      <td>poor</td>\n",
              "      <td>medium</td>\n",
              "      <td>networks</td>\n",
              "      <td>Business process analyst</td>\n",
              "      <td>job</td>\n",
              "      <td>SAaS services</td>\n",
              "      <td>yes</td>\n",
              "      <td>yes</td>\n",
              "      <td>Childrens</td>\n",
              "      <td>salary</td>\n",
              "      <td>yes</td>\n",
              "      <td>gentle</td>\n",
              "      <td>Technical</td>\n",
              "      <td>salary</td>\n",
              "      <td>hard worker</td>\n",
              "      <td>no</td>\n",
              "      <td>yes</td>\n",
              "      <td>Portal Administrator</td>\n",
              "    </tr>\n",
              "    <tr>\n",
              "      <th>2</th>\n",
              "      <td>yes</td>\n",
              "      <td>no</td>\n",
              "      <td>yes</td>\n",
              "      <td>app development</td>\n",
              "      <td>web technologies</td>\n",
              "      <td>no</td>\n",
              "      <td>yes</td>\n",
              "      <td>poor</td>\n",
              "      <td>excellent</td>\n",
              "      <td>hacking</td>\n",
              "      <td>developer</td>\n",
              "      <td>higherstudies</td>\n",
              "      <td>Sales and Marketing</td>\n",
              "      <td>yes</td>\n",
              "      <td>yes</td>\n",
              "      <td>Travel</td>\n",
              "      <td>Work</td>\n",
              "      <td>no</td>\n",
              "      <td>stubborn</td>\n",
              "      <td>Management</td>\n",
              "      <td>work</td>\n",
              "      <td>hard worker</td>\n",
              "      <td>no</td>\n",
              "      <td>yes</td>\n",
              "      <td>Portal Administrator</td>\n",
              "    </tr>\n",
              "    <tr>\n",
              "      <th>3</th>\n",
              "      <td>no</td>\n",
              "      <td>yes</td>\n",
              "      <td>no</td>\n",
              "      <td>python</td>\n",
              "      <td>data science</td>\n",
              "      <td>yes</td>\n",
              "      <td>no</td>\n",
              "      <td>medium</td>\n",
              "      <td>excellent</td>\n",
              "      <td>networks</td>\n",
              "      <td>testing</td>\n",
              "      <td>higherstudies</td>\n",
              "      <td>Testing and Maintainance Services</td>\n",
              "      <td>no</td>\n",
              "      <td>no</td>\n",
              "      <td>Romance</td>\n",
              "      <td>Work</td>\n",
              "      <td>yes</td>\n",
              "      <td>gentle</td>\n",
              "      <td>Management</td>\n",
              "      <td>work</td>\n",
              "      <td>smart worker</td>\n",
              "      <td>yes</td>\n",
              "      <td>yes</td>\n",
              "      <td>Systems Security Administrator</td>\n",
              "    </tr>\n",
              "    <tr>\n",
              "      <th>4</th>\n",
              "      <td>no</td>\n",
              "      <td>no</td>\n",
              "      <td>no</td>\n",
              "      <td>app development</td>\n",
              "      <td>cloud computing</td>\n",
              "      <td>no</td>\n",
              "      <td>no</td>\n",
              "      <td>poor</td>\n",
              "      <td>excellent</td>\n",
              "      <td>Computer Architecture</td>\n",
              "      <td>testing</td>\n",
              "      <td>higherstudies</td>\n",
              "      <td>product development</td>\n",
              "      <td>no</td>\n",
              "      <td>yes</td>\n",
              "      <td>Cookbooks</td>\n",
              "      <td>salary</td>\n",
              "      <td>no</td>\n",
              "      <td>stubborn</td>\n",
              "      <td>Management</td>\n",
              "      <td>work</td>\n",
              "      <td>hard worker</td>\n",
              "      <td>yes</td>\n",
              "      <td>yes</td>\n",
              "      <td>Business Systems Analyst</td>\n",
              "    </tr>\n",
              "    <tr>\n",
              "      <th>...</th>\n",
              "      <td>...</td>\n",
              "      <td>...</td>\n",
              "      <td>...</td>\n",
              "      <td>...</td>\n",
              "      <td>...</td>\n",
              "      <td>...</td>\n",
              "      <td>...</td>\n",
              "      <td>...</td>\n",
              "      <td>...</td>\n",
              "      <td>...</td>\n",
              "      <td>...</td>\n",
              "      <td>...</td>\n",
              "      <td>...</td>\n",
              "      <td>...</td>\n",
              "      <td>...</td>\n",
              "      <td>...</td>\n",
              "      <td>...</td>\n",
              "      <td>...</td>\n",
              "      <td>...</td>\n",
              "      <td>...</td>\n",
              "      <td>...</td>\n",
              "      <td>...</td>\n",
              "      <td>...</td>\n",
              "      <td>...</td>\n",
              "      <td>...</td>\n",
              "    </tr>\n",
              "    <tr>\n",
              "      <th>19995</th>\n",
              "      <td>yes</td>\n",
              "      <td>no</td>\n",
              "      <td>no</td>\n",
              "      <td>app development</td>\n",
              "      <td>cloud computing</td>\n",
              "      <td>yes</td>\n",
              "      <td>no</td>\n",
              "      <td>poor</td>\n",
              "      <td>excellent</td>\n",
              "      <td>Software Engineering</td>\n",
              "      <td>system developer</td>\n",
              "      <td>job</td>\n",
              "      <td>Testing and Maintainance Services</td>\n",
              "      <td>no</td>\n",
              "      <td>yes</td>\n",
              "      <td>Journals</td>\n",
              "      <td>Work</td>\n",
              "      <td>yes</td>\n",
              "      <td>stubborn</td>\n",
              "      <td>Management</td>\n",
              "      <td>salary</td>\n",
              "      <td>smart worker</td>\n",
              "      <td>yes</td>\n",
              "      <td>no</td>\n",
              "      <td>Technical Engineer</td>\n",
              "    </tr>\n",
              "    <tr>\n",
              "      <th>19996</th>\n",
              "      <td>yes</td>\n",
              "      <td>no</td>\n",
              "      <td>no</td>\n",
              "      <td>full stack</td>\n",
              "      <td>game development</td>\n",
              "      <td>no</td>\n",
              "      <td>yes</td>\n",
              "      <td>medium</td>\n",
              "      <td>excellent</td>\n",
              "      <td>Management</td>\n",
              "      <td>Business process analyst</td>\n",
              "      <td>higherstudies</td>\n",
              "      <td>Product based</td>\n",
              "      <td>yes</td>\n",
              "      <td>yes</td>\n",
              "      <td>Cookbooks</td>\n",
              "      <td>salary</td>\n",
              "      <td>no</td>\n",
              "      <td>stubborn</td>\n",
              "      <td>Management</td>\n",
              "      <td>salary</td>\n",
              "      <td>hard worker</td>\n",
              "      <td>no</td>\n",
              "      <td>yes</td>\n",
              "      <td>E-Commerce Analyst</td>\n",
              "    </tr>\n",
              "    <tr>\n",
              "      <th>19997</th>\n",
              "      <td>yes</td>\n",
              "      <td>yes</td>\n",
              "      <td>yes</td>\n",
              "      <td>information security</td>\n",
              "      <td>database security</td>\n",
              "      <td>yes</td>\n",
              "      <td>yes</td>\n",
              "      <td>medium</td>\n",
              "      <td>excellent</td>\n",
              "      <td>networks</td>\n",
              "      <td>cloud computing</td>\n",
              "      <td>higherstudies</td>\n",
              "      <td>SAaS services</td>\n",
              "      <td>yes</td>\n",
              "      <td>yes</td>\n",
              "      <td>Drama</td>\n",
              "      <td>Work</td>\n",
              "      <td>yes</td>\n",
              "      <td>gentle</td>\n",
              "      <td>Technical</td>\n",
              "      <td>work</td>\n",
              "      <td>hard worker</td>\n",
              "      <td>no</td>\n",
              "      <td>yes</td>\n",
              "      <td>Business Intelligence Analyst</td>\n",
              "    </tr>\n",
              "    <tr>\n",
              "      <th>19998</th>\n",
              "      <td>no</td>\n",
              "      <td>no</td>\n",
              "      <td>no</td>\n",
              "      <td>full stack</td>\n",
              "      <td>cloud computing</td>\n",
              "      <td>no</td>\n",
              "      <td>yes</td>\n",
              "      <td>poor</td>\n",
              "      <td>poor</td>\n",
              "      <td>IOT</td>\n",
              "      <td>testing</td>\n",
              "      <td>job</td>\n",
              "      <td>Cloud Services</td>\n",
              "      <td>yes</td>\n",
              "      <td>no</td>\n",
              "      <td>Travel</td>\n",
              "      <td>Work</td>\n",
              "      <td>no</td>\n",
              "      <td>gentle</td>\n",
              "      <td>Management</td>\n",
              "      <td>work</td>\n",
              "      <td>smart worker</td>\n",
              "      <td>yes</td>\n",
              "      <td>no</td>\n",
              "      <td>Software Quality Assurance (QA) / Testing</td>\n",
              "    </tr>\n",
              "    <tr>\n",
              "      <th>19999</th>\n",
              "      <td>yes</td>\n",
              "      <td>yes</td>\n",
              "      <td>yes</td>\n",
              "      <td>app development</td>\n",
              "      <td>database security</td>\n",
              "      <td>no</td>\n",
              "      <td>yes</td>\n",
              "      <td>excellent</td>\n",
              "      <td>excellent</td>\n",
              "      <td>IOT</td>\n",
              "      <td>testing</td>\n",
              "      <td>job</td>\n",
              "      <td>Finance</td>\n",
              "      <td>yes</td>\n",
              "      <td>no</td>\n",
              "      <td>Comics</td>\n",
              "      <td>Work</td>\n",
              "      <td>no</td>\n",
              "      <td>gentle</td>\n",
              "      <td>Management</td>\n",
              "      <td>work</td>\n",
              "      <td>hard worker</td>\n",
              "      <td>yes</td>\n",
              "      <td>no</td>\n",
              "      <td>Applications Developer</td>\n",
              "    </tr>\n",
              "  </tbody>\n",
              "</table>\n",
              "<p>20000 rows × 25 columns</p>\n",
              "</div>"
            ],
            "text/plain": [
              "      can work long time before system?  ...                         Suggested Job Role\n",
              "0                                   yes  ...                         Database Developer\n",
              "1                                   yes  ...                       Portal Administrator\n",
              "2                                   yes  ...                       Portal Administrator\n",
              "3                                    no  ...             Systems Security Administrator\n",
              "4                                    no  ...                   Business Systems Analyst\n",
              "...                                 ...  ...                                        ...\n",
              "19995                               yes  ...                         Technical Engineer\n",
              "19996                               yes  ...                         E-Commerce Analyst\n",
              "19997                               yes  ...              Business Intelligence Analyst\n",
              "19998                                no  ...  Software Quality Assurance (QA) / Testing\n",
              "19999                               yes  ...                     Applications Developer\n",
              "\n",
              "[20000 rows x 25 columns]"
            ]
          },
          "metadata": {
            "tags": []
          },
          "execution_count": 10
        }
      ]
    },
    {
      "cell_type": "code",
      "metadata": {
        "id": "GNLXipcFEBYs"
      },
      "source": [
        "dataset = data.values\n",
        "# split into input (X) and output (y) variables\n",
        "X = dataset[:, :-1]\n",
        "y = dataset[:,-1]\n",
        "# format all fields as string\n",
        "X = X.astype(str)\n"
      ],
      "execution_count": null,
      "outputs": []
    },
    {
      "cell_type": "code",
      "metadata": {
        "id": "5WGbrJ3olLn6"
      },
      "source": [
        "from sklearn.preprocessing import LabelEncoder, OneHotEncoder"
      ],
      "execution_count": null,
      "outputs": []
    },
    {
      "cell_type": "code",
      "metadata": {
        "colab": {
          "base_uri": "https://localhost:8080/",
          "height": 423
        },
        "id": "xvzdu3XhDOOR",
        "outputId": "8f22972c-13c9-4186-9be2-813ce12de44b"
      },
      "source": [
        "from sklearn.preprocessing import OrdinalEncoder\n",
        "oe = OrdinalEncoder()\n",
        "for i in range(14,38):\n",
        "  X[:,i]= oe.fit(X[:,i])\n",
        "X[:5].reshape(1,-1)"
      ],
      "execution_count": null,
      "outputs": [
        {
          "output_type": "error",
          "ename": "ValueError",
          "evalue": "ignored",
          "traceback": [
            "\u001b[0;31m---------------------------------------------------------------------------\u001b[0m",
            "\u001b[0;31mValueError\u001b[0m                                Traceback (most recent call last)",
            "\u001b[0;32m<ipython-input-15-92f68f1c9cb9>\u001b[0m in \u001b[0;36m<module>\u001b[0;34m()\u001b[0m\n\u001b[1;32m      2\u001b[0m \u001b[0moe\u001b[0m \u001b[0;34m=\u001b[0m \u001b[0mOrdinalEncoder\u001b[0m\u001b[0;34m(\u001b[0m\u001b[0;34m)\u001b[0m\u001b[0;34m\u001b[0m\u001b[0;34m\u001b[0m\u001b[0m\n\u001b[1;32m      3\u001b[0m \u001b[0;32mfor\u001b[0m \u001b[0mi\u001b[0m \u001b[0;32min\u001b[0m \u001b[0mrange\u001b[0m\u001b[0;34m(\u001b[0m\u001b[0;36m14\u001b[0m\u001b[0;34m,\u001b[0m\u001b[0;36m38\u001b[0m\u001b[0;34m)\u001b[0m\u001b[0;34m:\u001b[0m\u001b[0;34m\u001b[0m\u001b[0;34m\u001b[0m\u001b[0m\n\u001b[0;32m----> 4\u001b[0;31m   \u001b[0mX\u001b[0m\u001b[0;34m[\u001b[0m\u001b[0;34m:\u001b[0m\u001b[0;34m,\u001b[0m\u001b[0mi\u001b[0m\u001b[0;34m]\u001b[0m\u001b[0;34m=\u001b[0m \u001b[0moe\u001b[0m\u001b[0;34m.\u001b[0m\u001b[0mfit\u001b[0m\u001b[0;34m(\u001b[0m\u001b[0mX\u001b[0m\u001b[0;34m[\u001b[0m\u001b[0;34m:\u001b[0m\u001b[0;34m,\u001b[0m\u001b[0mi\u001b[0m\u001b[0;34m]\u001b[0m\u001b[0;34m)\u001b[0m\u001b[0;34m\u001b[0m\u001b[0;34m\u001b[0m\u001b[0m\n\u001b[0m\u001b[1;32m      5\u001b[0m \u001b[0mX\u001b[0m\u001b[0;34m[\u001b[0m\u001b[0;34m:\u001b[0m\u001b[0;36m5\u001b[0m\u001b[0;34m]\u001b[0m\u001b[0;34m.\u001b[0m\u001b[0mreshape\u001b[0m\u001b[0;34m(\u001b[0m\u001b[0;36m1\u001b[0m\u001b[0;34m,\u001b[0m\u001b[0;34m-\u001b[0m\u001b[0;36m1\u001b[0m\u001b[0;34m)\u001b[0m\u001b[0;34m\u001b[0m\u001b[0;34m\u001b[0m\u001b[0m\n",
            "\u001b[0;32m/usr/local/lib/python3.7/dist-packages/sklearn/preprocessing/_encoders.py\u001b[0m in \u001b[0;36mfit\u001b[0;34m(self, X, y)\u001b[0m\n\u001b[1;32m    627\u001b[0m         \u001b[0mself\u001b[0m\u001b[0;34m\u001b[0m\u001b[0;34m\u001b[0m\u001b[0m\n\u001b[1;32m    628\u001b[0m         \"\"\"\n\u001b[0;32m--> 629\u001b[0;31m         \u001b[0mself\u001b[0m\u001b[0;34m.\u001b[0m\u001b[0m_fit\u001b[0m\u001b[0;34m(\u001b[0m\u001b[0mX\u001b[0m\u001b[0;34m)\u001b[0m\u001b[0;34m\u001b[0m\u001b[0;34m\u001b[0m\u001b[0m\n\u001b[0m\u001b[1;32m    630\u001b[0m \u001b[0;34m\u001b[0m\u001b[0m\n\u001b[1;32m    631\u001b[0m         \u001b[0;32mreturn\u001b[0m \u001b[0mself\u001b[0m\u001b[0;34m\u001b[0m\u001b[0;34m\u001b[0m\u001b[0m\n",
            "\u001b[0;32m/usr/local/lib/python3.7/dist-packages/sklearn/preprocessing/_encoders.py\u001b[0m in \u001b[0;36m_fit\u001b[0;34m(self, X, handle_unknown)\u001b[0m\n\u001b[1;32m     72\u001b[0m \u001b[0;34m\u001b[0m\u001b[0m\n\u001b[1;32m     73\u001b[0m     \u001b[0;32mdef\u001b[0m \u001b[0m_fit\u001b[0m\u001b[0;34m(\u001b[0m\u001b[0mself\u001b[0m\u001b[0;34m,\u001b[0m \u001b[0mX\u001b[0m\u001b[0;34m,\u001b[0m \u001b[0mhandle_unknown\u001b[0m\u001b[0;34m=\u001b[0m\u001b[0;34m'error'\u001b[0m\u001b[0;34m)\u001b[0m\u001b[0;34m:\u001b[0m\u001b[0;34m\u001b[0m\u001b[0;34m\u001b[0m\u001b[0m\n\u001b[0;32m---> 74\u001b[0;31m         \u001b[0mX_list\u001b[0m\u001b[0;34m,\u001b[0m \u001b[0mn_samples\u001b[0m\u001b[0;34m,\u001b[0m \u001b[0mn_features\u001b[0m \u001b[0;34m=\u001b[0m \u001b[0mself\u001b[0m\u001b[0;34m.\u001b[0m\u001b[0m_check_X\u001b[0m\u001b[0;34m(\u001b[0m\u001b[0mX\u001b[0m\u001b[0;34m)\u001b[0m\u001b[0;34m\u001b[0m\u001b[0;34m\u001b[0m\u001b[0m\n\u001b[0m\u001b[1;32m     75\u001b[0m \u001b[0;34m\u001b[0m\u001b[0m\n\u001b[1;32m     76\u001b[0m         \u001b[0;32mif\u001b[0m \u001b[0mself\u001b[0m\u001b[0;34m.\u001b[0m\u001b[0mcategories\u001b[0m \u001b[0;34m!=\u001b[0m \u001b[0;34m'auto'\u001b[0m\u001b[0;34m:\u001b[0m\u001b[0;34m\u001b[0m\u001b[0;34m\u001b[0m\u001b[0m\n",
            "\u001b[0;32m/usr/local/lib/python3.7/dist-packages/sklearn/preprocessing/_encoders.py\u001b[0m in \u001b[0;36m_check_X\u001b[0;34m(self, X)\u001b[0m\n\u001b[1;32m     41\u001b[0m         \u001b[0;32mif\u001b[0m \u001b[0;32mnot\u001b[0m \u001b[0;34m(\u001b[0m\u001b[0mhasattr\u001b[0m\u001b[0;34m(\u001b[0m\u001b[0mX\u001b[0m\u001b[0;34m,\u001b[0m \u001b[0;34m'iloc'\u001b[0m\u001b[0;34m)\u001b[0m \u001b[0;32mand\u001b[0m \u001b[0mgetattr\u001b[0m\u001b[0;34m(\u001b[0m\u001b[0mX\u001b[0m\u001b[0;34m,\u001b[0m \u001b[0;34m'ndim'\u001b[0m\u001b[0;34m,\u001b[0m \u001b[0;36m0\u001b[0m\u001b[0;34m)\u001b[0m \u001b[0;34m==\u001b[0m \u001b[0;36m2\u001b[0m\u001b[0;34m)\u001b[0m\u001b[0;34m:\u001b[0m\u001b[0;34m\u001b[0m\u001b[0;34m\u001b[0m\u001b[0m\n\u001b[1;32m     42\u001b[0m             \u001b[0;31m# if not a dataframe, do normal check_array validation\u001b[0m\u001b[0;34m\u001b[0m\u001b[0;34m\u001b[0m\u001b[0;34m\u001b[0m\u001b[0m\n\u001b[0;32m---> 43\u001b[0;31m             \u001b[0mX_temp\u001b[0m \u001b[0;34m=\u001b[0m \u001b[0mcheck_array\u001b[0m\u001b[0;34m(\u001b[0m\u001b[0mX\u001b[0m\u001b[0;34m,\u001b[0m \u001b[0mdtype\u001b[0m\u001b[0;34m=\u001b[0m\u001b[0;32mNone\u001b[0m\u001b[0;34m)\u001b[0m\u001b[0;34m\u001b[0m\u001b[0;34m\u001b[0m\u001b[0m\n\u001b[0m\u001b[1;32m     44\u001b[0m             if (not hasattr(X, 'dtype')\n\u001b[1;32m     45\u001b[0m                     and np.issubdtype(X_temp.dtype, np.str_)):\n",
            "\u001b[0;32m/usr/local/lib/python3.7/dist-packages/sklearn/utils/validation.py\u001b[0m in \u001b[0;36mcheck_array\u001b[0;34m(array, accept_sparse, accept_large_sparse, dtype, order, copy, force_all_finite, ensure_2d, allow_nd, ensure_min_samples, ensure_min_features, warn_on_dtype, estimator)\u001b[0m\n\u001b[1;32m    554\u001b[0m                     \u001b[0;34m\"Reshape your data either using array.reshape(-1, 1) if \"\u001b[0m\u001b[0;34m\u001b[0m\u001b[0;34m\u001b[0m\u001b[0m\n\u001b[1;32m    555\u001b[0m                     \u001b[0;34m\"your data has a single feature or array.reshape(1, -1) \"\u001b[0m\u001b[0;34m\u001b[0m\u001b[0;34m\u001b[0m\u001b[0m\n\u001b[0;32m--> 556\u001b[0;31m                     \"if it contains a single sample.\".format(array))\n\u001b[0m\u001b[1;32m    557\u001b[0m \u001b[0;34m\u001b[0m\u001b[0m\n\u001b[1;32m    558\u001b[0m         \u001b[0;31m# in the future np.flexible dtypes will be handled like object dtypes\u001b[0m\u001b[0;34m\u001b[0m\u001b[0;34m\u001b[0m\u001b[0;34m\u001b[0m\u001b[0m\n",
            "\u001b[0;31mValueError\u001b[0m: Expected 2D array, got 1D array instead:\narray=['yes' 'yes' 'yes' ... 'yes' 'no' 'yes'].\nReshape your data either using array.reshape(-1, 1) if your data has a single feature or array.reshape(1, -1) if it contains a single sample."
          ]
        }
      ]
    },
    {
      "cell_type": "code",
      "metadata": {
        "colab": {
          "base_uri": "https://localhost:8080/",
          "height": 238
        },
        "id": "u2kDEi_wmCe3",
        "outputId": "f99a6ed0-ba52-45df-ef18-1fa256077ba2"
      },
      "source": [
        "lb = LabelEncoder()\n",
        "\n",
        "for i in range(14, 38):\n",
        "  X[:,i] = lb.fit(X[:,i])\n",
        "X[:5]\n",
        "\n",
        "fs = SelectKBest(score_func=chi2, k='all')\n",
        "fs.fit(X_train, y_train)\n",
        "X_train_fs = fs.transform(X_train)\n",
        "X_test_fs = fs.transform(X_test)"
      ],
      "execution_count": null,
      "outputs": [
        {
          "output_type": "error",
          "ename": "NameError",
          "evalue": "ignored",
          "traceback": [
            "\u001b[0;31m---------------------------------------------------------------------------\u001b[0m",
            "\u001b[0;31mNameError\u001b[0m                                 Traceback (most recent call last)",
            "\u001b[0;32m<ipython-input-17-135844a95753>\u001b[0m in \u001b[0;36m<module>\u001b[0;34m()\u001b[0m\n\u001b[1;32m      5\u001b[0m \u001b[0mX\u001b[0m\u001b[0;34m[\u001b[0m\u001b[0;34m:\u001b[0m\u001b[0;36m5\u001b[0m\u001b[0;34m]\u001b[0m\u001b[0;34m\u001b[0m\u001b[0;34m\u001b[0m\u001b[0m\n\u001b[1;32m      6\u001b[0m \u001b[0;34m\u001b[0m\u001b[0m\n\u001b[0;32m----> 7\u001b[0;31m \u001b[0mfs\u001b[0m \u001b[0;34m=\u001b[0m \u001b[0mSelectKBest\u001b[0m\u001b[0;34m(\u001b[0m\u001b[0mscore_func\u001b[0m\u001b[0;34m=\u001b[0m\u001b[0mchi2\u001b[0m\u001b[0;34m,\u001b[0m \u001b[0mk\u001b[0m\u001b[0;34m=\u001b[0m\u001b[0;34m'all'\u001b[0m\u001b[0;34m)\u001b[0m\u001b[0;34m\u001b[0m\u001b[0;34m\u001b[0m\u001b[0m\n\u001b[0m\u001b[1;32m      8\u001b[0m \u001b[0mfs\u001b[0m\u001b[0;34m.\u001b[0m\u001b[0mfit\u001b[0m\u001b[0;34m(\u001b[0m\u001b[0mX_train\u001b[0m\u001b[0;34m,\u001b[0m \u001b[0my_train\u001b[0m\u001b[0;34m)\u001b[0m\u001b[0;34m\u001b[0m\u001b[0;34m\u001b[0m\u001b[0m\n\u001b[1;32m      9\u001b[0m \u001b[0mX_train_fs\u001b[0m \u001b[0;34m=\u001b[0m \u001b[0mfs\u001b[0m\u001b[0;34m.\u001b[0m\u001b[0mtransform\u001b[0m\u001b[0;34m(\u001b[0m\u001b[0mX_train\u001b[0m\u001b[0;34m)\u001b[0m\u001b[0;34m\u001b[0m\u001b[0;34m\u001b[0m\u001b[0m\n",
            "\u001b[0;31mNameError\u001b[0m: name 'SelectKBest' is not defined"
          ]
        }
      ]
    },
    {
      "cell_type": "code",
      "metadata": {
        "colab": {
          "base_uri": "https://localhost:8080/"
        },
        "id": "o-MolYE6mcYp",
        "outputId": "625c3c0e-71ba-45fe-f229-d690ba51d7ca"
      },
      "source": [
        "X[:5,14:]"
      ],
      "execution_count": null,
      "outputs": [
        {
          "output_type": "execute_result",
          "data": {
            "text/plain": [
              "array([['LabelEncoder()', 'LabelEncoder()', 'LabelEncoder()',\n",
              "        'LabelEncoder()', 'LabelEncoder()', 'LabelEncoder()',\n",
              "        'LabelEncoder()', 'LabelEncoder()', 'LabelEncoder()',\n",
              "        'LabelEncoder()', 'LabelEncoder()', 'LabelEncoder()',\n",
              "        'LabelEncoder()', 'LabelEncoder()', 'LabelEncoder()',\n",
              "        'LabelEncoder()', 'LabelEncoder()', 'LabelEncoder()',\n",
              "        'LabelEncoder()', 'LabelEncoder()', 'LabelEncoder()',\n",
              "        'LabelEncoder()', 'LabelEncoder()', 'LabelEncoder()'],\n",
              "       ['LabelEncoder()', 'LabelEncoder()', 'LabelEncoder()',\n",
              "        'LabelEncoder()', 'LabelEncoder()', 'LabelEncoder()',\n",
              "        'LabelEncoder()', 'LabelEncoder()', 'LabelEncoder()',\n",
              "        'LabelEncoder()', 'LabelEncoder()', 'LabelEncoder()',\n",
              "        'LabelEncoder()', 'LabelEncoder()', 'LabelEncoder()',\n",
              "        'LabelEncoder()', 'LabelEncoder()', 'LabelEncoder()',\n",
              "        'LabelEncoder()', 'LabelEncoder()', 'LabelEncoder()',\n",
              "        'LabelEncoder()', 'LabelEncoder()', 'LabelEncoder()'],\n",
              "       ['LabelEncoder()', 'LabelEncoder()', 'LabelEncoder()',\n",
              "        'LabelEncoder()', 'LabelEncoder()', 'LabelEncoder()',\n",
              "        'LabelEncoder()', 'LabelEncoder()', 'LabelEncoder()',\n",
              "        'LabelEncoder()', 'LabelEncoder()', 'LabelEncoder()',\n",
              "        'LabelEncoder()', 'LabelEncoder()', 'LabelEncoder()',\n",
              "        'LabelEncoder()', 'LabelEncoder()', 'LabelEncoder()',\n",
              "        'LabelEncoder()', 'LabelEncoder()', 'LabelEncoder()',\n",
              "        'LabelEncoder()', 'LabelEncoder()', 'LabelEncoder()'],\n",
              "       ['LabelEncoder()', 'LabelEncoder()', 'LabelEncoder()',\n",
              "        'LabelEncoder()', 'LabelEncoder()', 'LabelEncoder()',\n",
              "        'LabelEncoder()', 'LabelEncoder()', 'LabelEncoder()',\n",
              "        'LabelEncoder()', 'LabelEncoder()', 'LabelEncoder()',\n",
              "        'LabelEncoder()', 'LabelEncoder()', 'LabelEncoder()',\n",
              "        'LabelEncoder()', 'LabelEncoder()', 'LabelEncoder()',\n",
              "        'LabelEncoder()', 'LabelEncoder()', 'LabelEncoder()',\n",
              "        'LabelEncoder()', 'LabelEncoder()', 'LabelEncoder()'],\n",
              "       ['LabelEncoder()', 'LabelEncoder()', 'LabelEncoder()',\n",
              "        'LabelEncoder()', 'LabelEncoder()', 'LabelEncoder()',\n",
              "        'LabelEncoder()', 'LabelEncoder()', 'LabelEncoder()',\n",
              "        'LabelEncoder()', 'LabelEncoder()', 'LabelEncoder()',\n",
              "        'LabelEncoder()', 'LabelEncoder()', 'LabelEncoder()',\n",
              "        'LabelEncoder()', 'LabelEncoder()', 'LabelEncoder()',\n",
              "        'LabelEncoder()', 'LabelEncoder()', 'LabelEncoder()',\n",
              "        'LabelEncoder()', 'LabelEncoder()', 'LabelEncoder()']],\n",
              "      dtype='<U33')"
            ]
          },
          "metadata": {
            "tags": []
          },
          "execution_count": 18
        }
      ]
    },
    {
      "cell_type": "code",
      "metadata": {
        "id": "JwtUUY4ctIh8"
      },
      "source": [
        "from sklearn.preprocessing import Normalizer"
      ],
      "execution_count": null,
      "outputs": []
    },
    {
      "cell_type": "code",
      "metadata": {
        "id": "hE7stE3stSmb"
      },
      "source": [
        "X1 = X[:,:14]"
      ],
      "execution_count": null,
      "outputs": []
    },
    {
      "cell_type": "code",
      "metadata": {
        "colab": {
          "base_uri": "https://localhost:8080/"
        },
        "id": "X_XsO1hDtdcb",
        "outputId": "e93cb8b1-37a6-466f-da9d-32c47078e401"
      },
      "source": [
        "normalizeX1 = Normalizer().fit_transform(X1)\n",
        "print(normalizeX1.shape)"
      ],
      "execution_count": null,
      "outputs": [
        {
          "output_type": "stream",
          "text": [
            "(20000, 14)\n"
          ],
          "name": "stdout"
        },
        {
          "output_type": "stream",
          "text": [
            "/usr/local/lib/python3.7/dist-packages/sklearn/preprocessing/_data.py:1814: FutureWarning: Beginning in version 0.22, arrays of bytes/strings will be converted to decimal numbers if dtype='numeric'. It is recommended that you convert the array to a float dtype before using it in scikit-learn, for example by using your_array = your_array.astype(np.float64).\n",
            "  check_array(X, accept_sparse='csr')\n",
            "/usr/local/lib/python3.7/dist-packages/sklearn/preprocessing/_data.py:1829: FutureWarning: Beginning in version 0.22, arrays of bytes/strings will be converted to decimal numbers if dtype='numeric'. It is recommended that you convert the array to a float dtype before using it in scikit-learn, for example by using your_array = your_array.astype(np.float64).\n",
            "  X = check_array(X, accept_sparse='csr')\n"
          ],
          "name": "stderr"
        }
      ]
    },
    {
      "cell_type": "code",
      "metadata": {
        "colab": {
          "base_uri": "https://localhost:8080/"
        },
        "id": "ROU3s31StwCn",
        "outputId": "08c91ee6-1a0f-4db1-9115-40c460373a56"
      },
      "source": [
        "\n",
        "normalizeX1"
      ],
      "execution_count": null,
      "outputs": [
        {
          "output_type": "execute_result",
          "data": {
            "text/plain": [
              "array([[0.28508989, 0.26029947, 0.32227553, ..., 0.        , 0.01652695,\n",
              "        0.0330539 ],\n",
              "       [0.34997994, 0.27818918, 0.32754533, ..., 0.00448692, 0.00897384,\n",
              "        0.01346077],\n",
              "       [0.29501244, 0.35733901, 0.37811453, ..., 0.01662042, 0.0041551 ,\n",
              "        0.01246531],\n",
              "       ...,\n",
              "       [0.3430836 , 0.28934762, 0.33068299, ..., 0.02480122, 0.00826707,\n",
              "        0.01240061],\n",
              "       [0.29479246, 0.37716094, 0.39450167, ..., 0.01734073, 0.03901665,\n",
              "        0.02167592],\n",
              "       [0.31140896, 0.32847247, 0.31567484, ..., 0.00426588, 0.02986113,\n",
              "        0.02559526]])"
            ]
          },
          "metadata": {
            "tags": []
          },
          "execution_count": 22
        }
      ]
    },
    {
      "cell_type": "code",
      "metadata": {
        "colab": {
          "base_uri": "https://localhost:8080/"
        },
        "id": "A10N0WWPt34E",
        "outputId": "bdf91717-eacd-466e-8663-d5ed86b210e0"
      },
      "source": [
        "X2 = X[:,14:]\n",
        "X2.shape"
      ],
      "execution_count": null,
      "outputs": [
        {
          "output_type": "execute_result",
          "data": {
            "text/plain": [
              "(20000, 24)"
            ]
          },
          "metadata": {
            "tags": []
          },
          "execution_count": 23
        }
      ]
    },
    {
      "cell_type": "code",
      "metadata": {
        "colab": {
          "base_uri": "https://localhost:8080/"
        },
        "id": "7ET7zXsct_4t",
        "outputId": "86835cdf-0255-4341-8db5-5c2065d20214"
      },
      "source": [
        "df1 = np.append(normalizeX1,X2,axis=1)\n",
        "df1.shape"
      ],
      "execution_count": null,
      "outputs": [
        {
          "output_type": "execute_result",
          "data": {
            "text/plain": [
              "(20000, 38)"
            ]
          },
          "metadata": {
            "tags": []
          },
          "execution_count": 24
        }
      ]
    },
    {
      "cell_type": "code",
      "metadata": {
        "id": "NJMzz1HiufNy"
      },
      "source": [
        "X3 = pd.DataFrame(df1,columns=['Acedamic percentage in Operating Systems', 'percentage in Algorithms',\n",
        "       'Percentage in Programming Concepts',\n",
        "       'Percentage in Software Engineering', 'Percentage in Computer Networks',\n",
        "       'Percentage in Electronics Subjects',\n",
        "       'Percentage in Computer Architecture', 'Percentage in Mathematics',\n",
        "       'Percentage in Communication skills', 'Hours working per day',\n",
        "       'Logical quotient rating', 'hackathons', 'coding skills rating',\n",
        "       'public speaking points', 'can work long time before system?',\n",
        "       'self-learning capability?', 'Extra-courses did', 'certifications',\n",
        "       'workshops', 'talenttests taken?', 'olympiads',\n",
        "       'reading and writing skills', 'memory capability score',\n",
        "       'Interested subjects', 'interested career area ', 'Job/Higher Studies?',\n",
        "       'Type of company want to settle in?',\n",
        "       'Taken inputs from seniors or elders', 'interested in games',\n",
        "       'Interested Type of Books', 'Salary Range Expected',\n",
        "       'In a Realtionship?', 'Gentle or Tuff behaviour?',\n",
        "       'Management or Technical', 'Salary/work', 'hard/smart worker',\n",
        "       'worked in teams ever?', 'Introvert'])"
      ],
      "execution_count": null,
      "outputs": []
    },
    {
      "cell_type": "code",
      "metadata": {
        "colab": {
          "base_uri": "https://localhost:8080/",
          "height": 267
        },
        "id": "y8HarBcovlv5",
        "outputId": "cc087f25-7eca-40b7-ba93-51534950311d"
      },
      "source": [
        "X3.head()"
      ],
      "execution_count": null,
      "outputs": [
        {
          "output_type": "execute_result",
          "data": {
            "text/html": [
              "<div>\n",
              "<style scoped>\n",
              "    .dataframe tbody tr th:only-of-type {\n",
              "        vertical-align: middle;\n",
              "    }\n",
              "\n",
              "    .dataframe tbody tr th {\n",
              "        vertical-align: top;\n",
              "    }\n",
              "\n",
              "    .dataframe thead th {\n",
              "        text-align: right;\n",
              "    }\n",
              "</style>\n",
              "<table border=\"1\" class=\"dataframe\">\n",
              "  <thead>\n",
              "    <tr style=\"text-align: right;\">\n",
              "      <th></th>\n",
              "      <th>Acedamic percentage in Operating Systems</th>\n",
              "      <th>percentage in Algorithms</th>\n",
              "      <th>Percentage in Programming Concepts</th>\n",
              "      <th>Percentage in Software Engineering</th>\n",
              "      <th>Percentage in Computer Networks</th>\n",
              "      <th>Percentage in Electronics Subjects</th>\n",
              "      <th>Percentage in Computer Architecture</th>\n",
              "      <th>Percentage in Mathematics</th>\n",
              "      <th>Percentage in Communication skills</th>\n",
              "      <th>Hours working per day</th>\n",
              "      <th>Logical quotient rating</th>\n",
              "      <th>hackathons</th>\n",
              "      <th>coding skills rating</th>\n",
              "      <th>public speaking points</th>\n",
              "      <th>can work long time before system?</th>\n",
              "      <th>self-learning capability?</th>\n",
              "      <th>Extra-courses did</th>\n",
              "      <th>certifications</th>\n",
              "      <th>workshops</th>\n",
              "      <th>talenttests taken?</th>\n",
              "      <th>olympiads</th>\n",
              "      <th>reading and writing skills</th>\n",
              "      <th>memory capability score</th>\n",
              "      <th>Interested subjects</th>\n",
              "      <th>interested career area</th>\n",
              "      <th>Job/Higher Studies?</th>\n",
              "      <th>Type of company want to settle in?</th>\n",
              "      <th>Taken inputs from seniors or elders</th>\n",
              "      <th>interested in games</th>\n",
              "      <th>Interested Type of Books</th>\n",
              "      <th>Salary Range Expected</th>\n",
              "      <th>In a Realtionship?</th>\n",
              "      <th>Gentle or Tuff behaviour?</th>\n",
              "      <th>Management or Technical</th>\n",
              "      <th>Salary/work</th>\n",
              "      <th>hard/smart worker</th>\n",
              "      <th>worked in teams ever?</th>\n",
              "      <th>Introvert</th>\n",
              "    </tr>\n",
              "  </thead>\n",
              "  <tbody>\n",
              "    <tr>\n",
              "      <th>0</th>\n",
              "      <td>0.2850898929376635</td>\n",
              "      <td>0.2602994674648232</td>\n",
              "      <td>0.322275531146924</td>\n",
              "      <td>0.35946116935618444</td>\n",
              "      <td>0.38838333240783146</td>\n",
              "      <td>0.38838333240783146</td>\n",
              "      <td>0.35946116935618444</td>\n",
              "      <td>0.34706595661976425</td>\n",
              "      <td>0.25203599230720974</td>\n",
              "      <td>0.037185638209260456</td>\n",
              "      <td>0.01652695031522687</td>\n",
              "      <td>0.0</td>\n",
              "      <td>0.01652695031522687</td>\n",
              "      <td>0.03305390063045374</td>\n",
              "      <td>LabelEncoder()</td>\n",
              "      <td>LabelEncoder()</td>\n",
              "      <td>LabelEncoder()</td>\n",
              "      <td>LabelEncoder()</td>\n",
              "      <td>LabelEncoder()</td>\n",
              "      <td>LabelEncoder()</td>\n",
              "      <td>LabelEncoder()</td>\n",
              "      <td>LabelEncoder()</td>\n",
              "      <td>LabelEncoder()</td>\n",
              "      <td>LabelEncoder()</td>\n",
              "      <td>LabelEncoder()</td>\n",
              "      <td>LabelEncoder()</td>\n",
              "      <td>LabelEncoder()</td>\n",
              "      <td>LabelEncoder()</td>\n",
              "      <td>LabelEncoder()</td>\n",
              "      <td>LabelEncoder()</td>\n",
              "      <td>LabelEncoder()</td>\n",
              "      <td>LabelEncoder()</td>\n",
              "      <td>LabelEncoder()</td>\n",
              "      <td>LabelEncoder()</td>\n",
              "      <td>LabelEncoder()</td>\n",
              "      <td>LabelEncoder()</td>\n",
              "      <td>LabelEncoder()</td>\n",
              "      <td>LabelEncoder()</td>\n",
              "    </tr>\n",
              "    <tr>\n",
              "      <th>1</th>\n",
              "      <td>0.3499799388550931</td>\n",
              "      <td>0.27818918216686883</td>\n",
              "      <td>0.327545327390023</td>\n",
              "      <td>0.2692153375808408</td>\n",
              "      <td>0.318571482803995</td>\n",
              "      <td>0.314084560510981</td>\n",
              "      <td>0.327545327390023</td>\n",
              "      <td>0.37690147261317714</td>\n",
              "      <td>0.40830992866427523</td>\n",
              "      <td>0.053843067516168165</td>\n",
              "      <td>0.0314084560510981</td>\n",
              "      <td>0.004486922293014014</td>\n",
              "      <td>0.008973844586028028</td>\n",
              "      <td>0.013460766879042041</td>\n",
              "      <td>LabelEncoder()</td>\n",
              "      <td>LabelEncoder()</td>\n",
              "      <td>LabelEncoder()</td>\n",
              "      <td>LabelEncoder()</td>\n",
              "      <td>LabelEncoder()</td>\n",
              "      <td>LabelEncoder()</td>\n",
              "      <td>LabelEncoder()</td>\n",
              "      <td>LabelEncoder()</td>\n",
              "      <td>LabelEncoder()</td>\n",
              "      <td>LabelEncoder()</td>\n",
              "      <td>LabelEncoder()</td>\n",
              "      <td>LabelEncoder()</td>\n",
              "      <td>LabelEncoder()</td>\n",
              "      <td>LabelEncoder()</td>\n",
              "      <td>LabelEncoder()</td>\n",
              "      <td>LabelEncoder()</td>\n",
              "      <td>LabelEncoder()</td>\n",
              "      <td>LabelEncoder()</td>\n",
              "      <td>LabelEncoder()</td>\n",
              "      <td>LabelEncoder()</td>\n",
              "      <td>LabelEncoder()</td>\n",
              "      <td>LabelEncoder()</td>\n",
              "      <td>LabelEncoder()</td>\n",
              "      <td>LabelEncoder()</td>\n",
              "    </tr>\n",
              "    <tr>\n",
              "      <th>2</th>\n",
              "      <td>0.29501243558344314</td>\n",
              "      <td>0.3573390064813537</td>\n",
              "      <td>0.37811453011399054</td>\n",
              "      <td>0.36149411120788105</td>\n",
              "      <td>0.2534613883181695</td>\n",
              "      <td>0.33656348284871684</td>\n",
              "      <td>0.2991675403099705</td>\n",
              "      <td>0.2991675403099705</td>\n",
              "      <td>0.3905798442935726</td>\n",
              "      <td>0.04570615199180105</td>\n",
              "      <td>0.004155104726527368</td>\n",
              "      <td>0.016620418906109474</td>\n",
              "      <td>0.004155104726527368</td>\n",
              "      <td>0.012465314179582106</td>\n",
              "      <td>LabelEncoder()</td>\n",
              "      <td>LabelEncoder()</td>\n",
              "      <td>LabelEncoder()</td>\n",
              "      <td>LabelEncoder()</td>\n",
              "      <td>LabelEncoder()</td>\n",
              "      <td>LabelEncoder()</td>\n",
              "      <td>LabelEncoder()</td>\n",
              "      <td>LabelEncoder()</td>\n",
              "      <td>LabelEncoder()</td>\n",
              "      <td>LabelEncoder()</td>\n",
              "      <td>LabelEncoder()</td>\n",
              "      <td>LabelEncoder()</td>\n",
              "      <td>LabelEncoder()</td>\n",
              "      <td>LabelEncoder()</td>\n",
              "      <td>LabelEncoder()</td>\n",
              "      <td>LabelEncoder()</td>\n",
              "      <td>LabelEncoder()</td>\n",
              "      <td>LabelEncoder()</td>\n",
              "      <td>LabelEncoder()</td>\n",
              "      <td>LabelEncoder()</td>\n",
              "      <td>LabelEncoder()</td>\n",
              "      <td>LabelEncoder()</td>\n",
              "      <td>LabelEncoder()</td>\n",
              "      <td>LabelEncoder()</td>\n",
              "    </tr>\n",
              "    <tr>\n",
              "      <th>3</th>\n",
              "      <td>0.3280252979957282</td>\n",
              "      <td>0.3755026437582678</td>\n",
              "      <td>0.25896734052294335</td>\n",
              "      <td>0.36255427673212065</td>\n",
              "      <td>0.38413488844236593</td>\n",
              "      <td>0.31507693096958106</td>\n",
              "      <td>0.2675995852070414</td>\n",
              "      <td>0.3798187661003169</td>\n",
              "      <td>0.2978124416013848</td>\n",
              "      <td>0.030212856394343388</td>\n",
              "      <td>0.004316122342049055</td>\n",
              "      <td>0.004316122342049055</td>\n",
              "      <td>0.00863224468409811</td>\n",
              "      <td>0.021580611710245275</td>\n",
              "      <td>LabelEncoder()</td>\n",
              "      <td>LabelEncoder()</td>\n",
              "      <td>LabelEncoder()</td>\n",
              "      <td>LabelEncoder()</td>\n",
              "      <td>LabelEncoder()</td>\n",
              "      <td>LabelEncoder()</td>\n",
              "      <td>LabelEncoder()</td>\n",
              "      <td>LabelEncoder()</td>\n",
              "      <td>LabelEncoder()</td>\n",
              "      <td>LabelEncoder()</td>\n",
              "      <td>LabelEncoder()</td>\n",
              "      <td>LabelEncoder()</td>\n",
              "      <td>LabelEncoder()</td>\n",
              "      <td>LabelEncoder()</td>\n",
              "      <td>LabelEncoder()</td>\n",
              "      <td>LabelEncoder()</td>\n",
              "      <td>LabelEncoder()</td>\n",
              "      <td>LabelEncoder()</td>\n",
              "      <td>LabelEncoder()</td>\n",
              "      <td>LabelEncoder()</td>\n",
              "      <td>LabelEncoder()</td>\n",
              "      <td>LabelEncoder()</td>\n",
              "      <td>LabelEncoder()</td>\n",
              "      <td>LabelEncoder()</td>\n",
              "    </tr>\n",
              "    <tr>\n",
              "      <th>4</th>\n",
              "      <td>0.39715724843579436</td>\n",
              "      <td>0.267649450032818</td>\n",
              "      <td>0.3885233952089293</td>\n",
              "      <td>0.2892340830999807</td>\n",
              "      <td>0.3065017895537109</td>\n",
              "      <td>0.38420646859549673</td>\n",
              "      <td>0.315135642780576</td>\n",
              "      <td>0.3065017895537109</td>\n",
              "      <td>0.315135642780576</td>\n",
              "      <td>0.01726770645373019</td>\n",
              "      <td>0.02158463306716274</td>\n",
              "      <td>0.01726770645373019</td>\n",
              "      <td>0.025901559680595286</td>\n",
              "      <td>0.012950779840297643</td>\n",
              "      <td>LabelEncoder()</td>\n",
              "      <td>LabelEncoder()</td>\n",
              "      <td>LabelEncoder()</td>\n",
              "      <td>LabelEncoder()</td>\n",
              "      <td>LabelEncoder()</td>\n",
              "      <td>LabelEncoder()</td>\n",
              "      <td>LabelEncoder()</td>\n",
              "      <td>LabelEncoder()</td>\n",
              "      <td>LabelEncoder()</td>\n",
              "      <td>LabelEncoder()</td>\n",
              "      <td>LabelEncoder()</td>\n",
              "      <td>LabelEncoder()</td>\n",
              "      <td>LabelEncoder()</td>\n",
              "      <td>LabelEncoder()</td>\n",
              "      <td>LabelEncoder()</td>\n",
              "      <td>LabelEncoder()</td>\n",
              "      <td>LabelEncoder()</td>\n",
              "      <td>LabelEncoder()</td>\n",
              "      <td>LabelEncoder()</td>\n",
              "      <td>LabelEncoder()</td>\n",
              "      <td>LabelEncoder()</td>\n",
              "      <td>LabelEncoder()</td>\n",
              "      <td>LabelEncoder()</td>\n",
              "      <td>LabelEncoder()</td>\n",
              "    </tr>\n",
              "  </tbody>\n",
              "</table>\n",
              "</div>"
            ],
            "text/plain": [
              "  Acedamic percentage in Operating Systems  ...       Introvert\n",
              "0                       0.2850898929376635  ...  LabelEncoder()\n",
              "1                       0.3499799388550931  ...  LabelEncoder()\n",
              "2                      0.29501243558344314  ...  LabelEncoder()\n",
              "3                       0.3280252979957282  ...  LabelEncoder()\n",
              "4                      0.39715724843579436  ...  LabelEncoder()\n",
              "\n",
              "[5 rows x 38 columns]"
            ]
          },
          "metadata": {
            "tags": []
          },
          "execution_count": 29
        }
      ]
    },
    {
      "cell_type": "code",
      "metadata": {
        "colab": {
          "base_uri": "https://localhost:8080/"
        },
        "id": "Y5xWLgrD9LWS",
        "outputId": "7e4d6128-e276-4521-e330-c4037286a606"
      },
      "source": [
        "y = lb.fit_transform(y)\n",
        "print(len(y))"
      ],
      "execution_count": null,
      "outputs": [
        {
          "output_type": "stream",
          "text": [
            "20000\n"
          ],
          "name": "stdout"
        },
        {
          "output_type": "stream",
          "text": [
            "/usr/local/lib/python3.7/dist-packages/sklearn/preprocessing/_label.py:251: DataConversionWarning: A column-vector y was passed when a 1d array was expected. Please change the shape of y to (n_samples, ), for example using ravel().\n",
            "  y = column_or_1d(y, warn=True)\n"
          ],
          "name": "stderr"
        }
      ]
    },
    {
      "cell_type": "code",
      "metadata": {
        "colab": {
          "base_uri": "https://localhost:8080/",
          "height": 197
        },
        "id": "MCMiOkrqNTmP",
        "outputId": "6cbef72c-167b-4f72-aa7c-d6c4dd8fe986"
      },
      "source": [
        "y = pd.DataFrame(y, columns=['SuggestedJobRole'])\n",
        "y.head()"
      ],
      "execution_count": null,
      "outputs": [
        {
          "output_type": "execute_result",
          "data": {
            "text/html": [
              "<div>\n",
              "<style scoped>\n",
              "    .dataframe tbody tr th:only-of-type {\n",
              "        vertical-align: middle;\n",
              "    }\n",
              "\n",
              "    .dataframe tbody tr th {\n",
              "        vertical-align: top;\n",
              "    }\n",
              "\n",
              "    .dataframe thead th {\n",
              "        text-align: right;\n",
              "    }\n",
              "</style>\n",
              "<table border=\"1\" class=\"dataframe\">\n",
              "  <thead>\n",
              "    <tr style=\"text-align: right;\">\n",
              "      <th></th>\n",
              "      <th>SuggestedJobRole</th>\n",
              "    </tr>\n",
              "  </thead>\n",
              "  <tbody>\n",
              "    <tr>\n",
              "      <th>0</th>\n",
              "      <td>7</td>\n",
              "    </tr>\n",
              "    <tr>\n",
              "      <th>1</th>\n",
              "      <td>18</td>\n",
              "    </tr>\n",
              "    <tr>\n",
              "      <th>2</th>\n",
              "      <td>18</td>\n",
              "    </tr>\n",
              "    <tr>\n",
              "      <th>3</th>\n",
              "      <td>28</td>\n",
              "    </tr>\n",
              "    <tr>\n",
              "      <th>4</th>\n",
              "      <td>2</td>\n",
              "    </tr>\n",
              "  </tbody>\n",
              "</table>\n",
              "</div>"
            ],
            "text/plain": [
              "   SuggestedJobRole\n",
              "0                 7\n",
              "1                18\n",
              "2                18\n",
              "3                28\n",
              "4                 2"
            ]
          },
          "metadata": {
            "tags": []
          },
          "execution_count": 31
        }
      ]
    },
    {
      "cell_type": "code",
      "metadata": {
        "colab": {
          "base_uri": "https://localhost:8080/"
        },
        "id": "TnltdENCNheh",
        "outputId": "5b123bfd-037f-4135-84d4-def576947741"
      },
      "source": [
        "(X3.corr)"
      ],
      "execution_count": null,
      "outputs": [
        {
          "output_type": "execute_result",
          "data": {
            "text/plain": [
              "<bound method DataFrame.corr of       Acedamic percentage in Operating Systems  ...       Introvert\n",
              "0                           0.2850898929376635  ...  LabelEncoder()\n",
              "1                           0.3499799388550931  ...  LabelEncoder()\n",
              "2                          0.29501243558344314  ...  LabelEncoder()\n",
              "3                           0.3280252979957282  ...  LabelEncoder()\n",
              "4                          0.39715724843579436  ...  LabelEncoder()\n",
              "...                                        ...  ...             ...\n",
              "19995                       0.3665754495002839  ...  LabelEncoder()\n",
              "19996                       0.3434203936876419  ...  LabelEncoder()\n",
              "19997                       0.3430836016912129  ...  LabelEncoder()\n",
              "19998                      0.29479245524067144  ...  LabelEncoder()\n",
              "19999                      0.31140896308785715  ...  LabelEncoder()\n",
              "\n",
              "[20000 rows x 38 columns]>"
            ]
          },
          "metadata": {
            "tags": []
          },
          "execution_count": 32
        }
      ]
    },
    {
      "cell_type": "code",
      "metadata": {
        "colab": {
          "base_uri": "https://localhost:8080/",
          "height": 387
        },
        "id": "nJg6iWKdOPBr",
        "outputId": "d565e134-d900-4d24-a5c8-f8d2285d2e1b"
      },
      "source": [
        "# decision tree for feature importance on a classification problem\n",
        "\n",
        "from sklearn.tree import DecisionTreeClassifier\n",
        "\n",
        "# define the model\n",
        "model = DecisionTreeClassifier()\n",
        "# fit the model\n",
        "model.fit(X3, y)\n",
        "# get importance\n",
        "importance = model.feature_importances_\n",
        "# summarize feature importance\n",
        "for i,v in enumerate(importance):\n",
        "\tprint('Feature: %0d, Score: %.5f' % (i,v))\n",
        "# plot feature importance\n",
        "plt.figure(figsize=(16,5))\n",
        "plt.bar([X3 for X3 in range(len(importance))], importance)\n",
        "plt.title(\"Feature Importance\",size=15)\n",
        "plt.xlabel('Features')\n",
        "plt.ylabel('Score')\n",
        "plt.show()"
      ],
      "execution_count": null,
      "outputs": [
        {
          "output_type": "error",
          "ename": "ValueError",
          "evalue": "ignored",
          "traceback": [
            "\u001b[0;31m---------------------------------------------------------------------------\u001b[0m",
            "\u001b[0;31mValueError\u001b[0m                                Traceback (most recent call last)",
            "\u001b[0;32m<ipython-input-33-90b295c40fe0>\u001b[0m in \u001b[0;36m<module>\u001b[0;34m()\u001b[0m\n\u001b[1;32m      6\u001b[0m \u001b[0mmodel\u001b[0m \u001b[0;34m=\u001b[0m \u001b[0mDecisionTreeClassifier\u001b[0m\u001b[0;34m(\u001b[0m\u001b[0;34m)\u001b[0m\u001b[0;34m\u001b[0m\u001b[0;34m\u001b[0m\u001b[0m\n\u001b[1;32m      7\u001b[0m \u001b[0;31m# fit the model\u001b[0m\u001b[0;34m\u001b[0m\u001b[0;34m\u001b[0m\u001b[0;34m\u001b[0m\u001b[0m\n\u001b[0;32m----> 8\u001b[0;31m \u001b[0mmodel\u001b[0m\u001b[0;34m.\u001b[0m\u001b[0mfit\u001b[0m\u001b[0;34m(\u001b[0m\u001b[0mX3\u001b[0m\u001b[0;34m,\u001b[0m \u001b[0my\u001b[0m\u001b[0;34m)\u001b[0m\u001b[0;34m\u001b[0m\u001b[0;34m\u001b[0m\u001b[0m\n\u001b[0m\u001b[1;32m      9\u001b[0m \u001b[0;31m# get importance\u001b[0m\u001b[0;34m\u001b[0m\u001b[0;34m\u001b[0m\u001b[0;34m\u001b[0m\u001b[0m\n\u001b[1;32m     10\u001b[0m \u001b[0mimportance\u001b[0m \u001b[0;34m=\u001b[0m \u001b[0mmodel\u001b[0m\u001b[0;34m.\u001b[0m\u001b[0mfeature_importances_\u001b[0m\u001b[0;34m\u001b[0m\u001b[0;34m\u001b[0m\u001b[0m\n",
            "\u001b[0;32m/usr/local/lib/python3.7/dist-packages/sklearn/tree/_classes.py\u001b[0m in \u001b[0;36mfit\u001b[0;34m(self, X, y, sample_weight, check_input, X_idx_sorted)\u001b[0m\n\u001b[1;32m    875\u001b[0m             \u001b[0msample_weight\u001b[0m\u001b[0;34m=\u001b[0m\u001b[0msample_weight\u001b[0m\u001b[0;34m,\u001b[0m\u001b[0;34m\u001b[0m\u001b[0;34m\u001b[0m\u001b[0m\n\u001b[1;32m    876\u001b[0m             \u001b[0mcheck_input\u001b[0m\u001b[0;34m=\u001b[0m\u001b[0mcheck_input\u001b[0m\u001b[0;34m,\u001b[0m\u001b[0;34m\u001b[0m\u001b[0;34m\u001b[0m\u001b[0m\n\u001b[0;32m--> 877\u001b[0;31m             X_idx_sorted=X_idx_sorted)\n\u001b[0m\u001b[1;32m    878\u001b[0m         \u001b[0;32mreturn\u001b[0m \u001b[0mself\u001b[0m\u001b[0;34m\u001b[0m\u001b[0;34m\u001b[0m\u001b[0m\n\u001b[1;32m    879\u001b[0m \u001b[0;34m\u001b[0m\u001b[0m\n",
            "\u001b[0;32m/usr/local/lib/python3.7/dist-packages/sklearn/tree/_classes.py\u001b[0m in \u001b[0;36mfit\u001b[0;34m(self, X, y, sample_weight, check_input, X_idx_sorted)\u001b[0m\n\u001b[1;32m    147\u001b[0m \u001b[0;34m\u001b[0m\u001b[0m\n\u001b[1;32m    148\u001b[0m         \u001b[0;32mif\u001b[0m \u001b[0mcheck_input\u001b[0m\u001b[0;34m:\u001b[0m\u001b[0;34m\u001b[0m\u001b[0;34m\u001b[0m\u001b[0m\n\u001b[0;32m--> 149\u001b[0;31m             \u001b[0mX\u001b[0m \u001b[0;34m=\u001b[0m \u001b[0mcheck_array\u001b[0m\u001b[0;34m(\u001b[0m\u001b[0mX\u001b[0m\u001b[0;34m,\u001b[0m \u001b[0mdtype\u001b[0m\u001b[0;34m=\u001b[0m\u001b[0mDTYPE\u001b[0m\u001b[0;34m,\u001b[0m \u001b[0maccept_sparse\u001b[0m\u001b[0;34m=\u001b[0m\u001b[0;34m\"csc\"\u001b[0m\u001b[0;34m)\u001b[0m\u001b[0;34m\u001b[0m\u001b[0;34m\u001b[0m\u001b[0m\n\u001b[0m\u001b[1;32m    150\u001b[0m             \u001b[0my\u001b[0m \u001b[0;34m=\u001b[0m \u001b[0mcheck_array\u001b[0m\u001b[0;34m(\u001b[0m\u001b[0my\u001b[0m\u001b[0;34m,\u001b[0m \u001b[0mensure_2d\u001b[0m\u001b[0;34m=\u001b[0m\u001b[0;32mFalse\u001b[0m\u001b[0;34m,\u001b[0m \u001b[0mdtype\u001b[0m\u001b[0;34m=\u001b[0m\u001b[0;32mNone\u001b[0m\u001b[0;34m)\u001b[0m\u001b[0;34m\u001b[0m\u001b[0;34m\u001b[0m\u001b[0m\n\u001b[1;32m    151\u001b[0m             \u001b[0;32mif\u001b[0m \u001b[0missparse\u001b[0m\u001b[0;34m(\u001b[0m\u001b[0mX\u001b[0m\u001b[0;34m)\u001b[0m\u001b[0;34m:\u001b[0m\u001b[0;34m\u001b[0m\u001b[0;34m\u001b[0m\u001b[0m\n",
            "\u001b[0;32m/usr/local/lib/python3.7/dist-packages/sklearn/utils/validation.py\u001b[0m in \u001b[0;36mcheck_array\u001b[0;34m(array, accept_sparse, accept_large_sparse, dtype, order, copy, force_all_finite, ensure_2d, allow_nd, ensure_min_samples, ensure_min_features, warn_on_dtype, estimator)\u001b[0m\n\u001b[1;32m    529\u001b[0m                     \u001b[0marray\u001b[0m \u001b[0;34m=\u001b[0m \u001b[0marray\u001b[0m\u001b[0;34m.\u001b[0m\u001b[0mastype\u001b[0m\u001b[0;34m(\u001b[0m\u001b[0mdtype\u001b[0m\u001b[0;34m,\u001b[0m \u001b[0mcasting\u001b[0m\u001b[0;34m=\u001b[0m\u001b[0;34m\"unsafe\"\u001b[0m\u001b[0;34m,\u001b[0m \u001b[0mcopy\u001b[0m\u001b[0;34m=\u001b[0m\u001b[0;32mFalse\u001b[0m\u001b[0;34m)\u001b[0m\u001b[0;34m\u001b[0m\u001b[0;34m\u001b[0m\u001b[0m\n\u001b[1;32m    530\u001b[0m                 \u001b[0;32melse\u001b[0m\u001b[0;34m:\u001b[0m\u001b[0;34m\u001b[0m\u001b[0;34m\u001b[0m\u001b[0m\n\u001b[0;32m--> 531\u001b[0;31m                     \u001b[0marray\u001b[0m \u001b[0;34m=\u001b[0m \u001b[0mnp\u001b[0m\u001b[0;34m.\u001b[0m\u001b[0masarray\u001b[0m\u001b[0;34m(\u001b[0m\u001b[0marray\u001b[0m\u001b[0;34m,\u001b[0m \u001b[0morder\u001b[0m\u001b[0;34m=\u001b[0m\u001b[0morder\u001b[0m\u001b[0;34m,\u001b[0m \u001b[0mdtype\u001b[0m\u001b[0;34m=\u001b[0m\u001b[0mdtype\u001b[0m\u001b[0;34m)\u001b[0m\u001b[0;34m\u001b[0m\u001b[0;34m\u001b[0m\u001b[0m\n\u001b[0m\u001b[1;32m    532\u001b[0m             \u001b[0;32mexcept\u001b[0m \u001b[0mComplexWarning\u001b[0m\u001b[0;34m:\u001b[0m\u001b[0;34m\u001b[0m\u001b[0;34m\u001b[0m\u001b[0m\n\u001b[1;32m    533\u001b[0m                 raise ValueError(\"Complex data not supported\\n\"\n",
            "\u001b[0;32m/usr/local/lib/python3.7/dist-packages/numpy/core/_asarray.py\u001b[0m in \u001b[0;36masarray\u001b[0;34m(a, dtype, order)\u001b[0m\n\u001b[1;32m     81\u001b[0m \u001b[0;34m\u001b[0m\u001b[0m\n\u001b[1;32m     82\u001b[0m     \"\"\"\n\u001b[0;32m---> 83\u001b[0;31m     \u001b[0;32mreturn\u001b[0m \u001b[0marray\u001b[0m\u001b[0;34m(\u001b[0m\u001b[0ma\u001b[0m\u001b[0;34m,\u001b[0m \u001b[0mdtype\u001b[0m\u001b[0;34m,\u001b[0m \u001b[0mcopy\u001b[0m\u001b[0;34m=\u001b[0m\u001b[0;32mFalse\u001b[0m\u001b[0;34m,\u001b[0m \u001b[0morder\u001b[0m\u001b[0;34m=\u001b[0m\u001b[0morder\u001b[0m\u001b[0;34m)\u001b[0m\u001b[0;34m\u001b[0m\u001b[0;34m\u001b[0m\u001b[0m\n\u001b[0m\u001b[1;32m     84\u001b[0m \u001b[0;34m\u001b[0m\u001b[0m\n\u001b[1;32m     85\u001b[0m \u001b[0;34m\u001b[0m\u001b[0m\n",
            "\u001b[0;32m/usr/local/lib/python3.7/dist-packages/pandas/core/generic.py\u001b[0m in \u001b[0;36m__array__\u001b[0;34m(self, dtype)\u001b[0m\n\u001b[1;32m   1779\u001b[0m \u001b[0;34m\u001b[0m\u001b[0m\n\u001b[1;32m   1780\u001b[0m     \u001b[0;32mdef\u001b[0m \u001b[0m__array__\u001b[0m\u001b[0;34m(\u001b[0m\u001b[0mself\u001b[0m\u001b[0;34m,\u001b[0m \u001b[0mdtype\u001b[0m\u001b[0;34m=\u001b[0m\u001b[0;32mNone\u001b[0m\u001b[0;34m)\u001b[0m \u001b[0;34m->\u001b[0m \u001b[0mnp\u001b[0m\u001b[0;34m.\u001b[0m\u001b[0mndarray\u001b[0m\u001b[0;34m:\u001b[0m\u001b[0;34m\u001b[0m\u001b[0;34m\u001b[0m\u001b[0m\n\u001b[0;32m-> 1781\u001b[0;31m         \u001b[0;32mreturn\u001b[0m \u001b[0mnp\u001b[0m\u001b[0;34m.\u001b[0m\u001b[0masarray\u001b[0m\u001b[0;34m(\u001b[0m\u001b[0mself\u001b[0m\u001b[0;34m.\u001b[0m\u001b[0m_values\u001b[0m\u001b[0;34m,\u001b[0m \u001b[0mdtype\u001b[0m\u001b[0;34m=\u001b[0m\u001b[0mdtype\u001b[0m\u001b[0;34m)\u001b[0m\u001b[0;34m\u001b[0m\u001b[0;34m\u001b[0m\u001b[0m\n\u001b[0m\u001b[1;32m   1782\u001b[0m \u001b[0;34m\u001b[0m\u001b[0m\n\u001b[1;32m   1783\u001b[0m     \u001b[0;32mdef\u001b[0m \u001b[0m__array_wrap__\u001b[0m\u001b[0;34m(\u001b[0m\u001b[0mself\u001b[0m\u001b[0;34m,\u001b[0m \u001b[0mresult\u001b[0m\u001b[0;34m,\u001b[0m \u001b[0mcontext\u001b[0m\u001b[0;34m=\u001b[0m\u001b[0;32mNone\u001b[0m\u001b[0;34m)\u001b[0m\u001b[0;34m:\u001b[0m\u001b[0;34m\u001b[0m\u001b[0;34m\u001b[0m\u001b[0m\n",
            "\u001b[0;32m/usr/local/lib/python3.7/dist-packages/numpy/core/_asarray.py\u001b[0m in \u001b[0;36masarray\u001b[0;34m(a, dtype, order)\u001b[0m\n\u001b[1;32m     81\u001b[0m \u001b[0;34m\u001b[0m\u001b[0m\n\u001b[1;32m     82\u001b[0m     \"\"\"\n\u001b[0;32m---> 83\u001b[0;31m     \u001b[0;32mreturn\u001b[0m \u001b[0marray\u001b[0m\u001b[0;34m(\u001b[0m\u001b[0ma\u001b[0m\u001b[0;34m,\u001b[0m \u001b[0mdtype\u001b[0m\u001b[0;34m,\u001b[0m \u001b[0mcopy\u001b[0m\u001b[0;34m=\u001b[0m\u001b[0;32mFalse\u001b[0m\u001b[0;34m,\u001b[0m \u001b[0morder\u001b[0m\u001b[0;34m=\u001b[0m\u001b[0morder\u001b[0m\u001b[0;34m)\u001b[0m\u001b[0;34m\u001b[0m\u001b[0;34m\u001b[0m\u001b[0m\n\u001b[0m\u001b[1;32m     84\u001b[0m \u001b[0;34m\u001b[0m\u001b[0m\n\u001b[1;32m     85\u001b[0m \u001b[0;34m\u001b[0m\u001b[0m\n",
            "\u001b[0;31mValueError\u001b[0m: could not convert string to float: 'LabelEncoder()'"
          ]
        }
      ]
    },
    {
      "cell_type": "code",
      "metadata": {
        "id": "6G6s7wavlldu"
      },
      "source": [
        "from sklearn import tree\n",
        "from sklearn.model_selection import train_test_split\n",
        "from sklearn import preprocessing \n",
        "from sklearn.metrics import accuracy_score\n",
        "\n",
        "X_train,X_test,y_train,y_test=train_test_split(X3,y,test_size=0.2,random_state=10)\n",
        "\n",
        "clf = tree.DecisionTreeClassifier()\n",
        "clf = clf.fit(X_train, y_train)\n",
        "\n",
        "from sklearn.metrics import confusion_matrix,accuracy_score\n",
        "y_pred = clf.predict(X_test)\n",
        "\n",
        "cm = confusion_matrix(y_test,y_pred)\n",
        "accuracy = accuracy_score(y_test,y_pred)\n",
        "\n",
        "print(\"confusion matrics=\",cm)\n",
        "print(\"  \")\n",
        "print(\"accuracy=\",accuracy*100)"
      ],
      "execution_count": null,
      "outputs": []
    },
    {
      "cell_type": "markdown",
      "metadata": {
        "id": "yDAXaCQDlmO6"
      },
      "source": [
        "Feature Selection By saperating numerical variable and categorical variable from dataset"
      ]
    },
    {
      "cell_type": "code",
      "metadata": {
        "id": "6BjsgfsSfnNS"
      },
      "source": [
        "numData = X[:, :14]\n",
        "numData"
      ],
      "execution_count": null,
      "outputs": []
    },
    {
      "cell_type": "code",
      "metadata": {
        "id": "J9sN0NzrSmt2"
      },
      "source": [
        "from sklearn.datasets import make_classification\n",
        "from sklearn.feature_selection import SelectKBest\n",
        "from sklearn.feature_selection import f_classif\n",
        "\n",
        "# define feature selection\n",
        "fs = SelectKBest(score_func=f_classif)\n",
        "# apply feature selection\n",
        "X_selected_numData = fs.fit_transform(numData, y)\n",
        "print(X_selected_numData.shape)\n",
        "for i in range(len(fs.scores_)):\n",
        "\tprint('Feature %d: %f' % (i, fs.scores_[i]))\n",
        "plt.bar([i for i in range(len(fs.scores_))], fs.scores_)\n",
        "plt.show()"
      ],
      "execution_count": null,
      "outputs": []
    },
    {
      "cell_type": "code",
      "metadata": {
        "id": "ZeZVmNiTTBST"
      },
      "source": [
        "data.values\n",
        "catData = X[:,14:]\n",
        "#np.ravel(catData)\n",
        "#catData.values\n",
        "catData.astype(str)\n",
        "le = LabelEncoder()\n",
        "le.fit(catData)\n",
        "#catData_enc = le.transform(catData)"
      ],
      "execution_count": null,
      "outputs": []
    },
    {
      "cell_type": "code",
      "metadata": {
        "id": "8NdgTZzWiHxz"
      },
      "source": [
        "from sklearn.feature_selection import SelectKBest\n",
        "from sklearn.feature_selection import chi2\n",
        "fs = SelectKBest(score_func=chi2, k=15)\n",
        "X_selected_catData = fs.fit(catData,y)\n",
        "for i in range(len(fs.scores_)):\n",
        "\tprint('Feature %d: %f' % (i, fs.scores_[i]))\n",
        "# plot the scores\n",
        "plt.bar([i for i in range(len(fs.scores_))], fs.scores_)\n",
        "plt.show()"
      ],
      "execution_count": null,
      "outputs": []
    },
    {
      "cell_type": "code",
      "metadata": {
        "id": "LNQ-h5PhjGOd"
      },
      "source": [
        "Feature = np.append(X_selected_numData,X_selected_catData)\n",
        "Feature"
      ],
      "execution_count": null,
      "outputs": []
    },
    {
      "cell_type": "code",
      "metadata": {
        "id": "KYwzB53mrUI7"
      },
      "source": [
        "x_tr,x_te,y_tr,y_te = train_test_split(Feature,y,test_size=0.25,random_state=123)"
      ],
      "execution_count": null,
      "outputs": []
    },
    {
      "cell_type": "code",
      "metadata": {
        "id": "f_vwgRF8qp10"
      },
      "source": [
        "from sklearn import tree\n",
        "from sklearn.model_selection import train_test_split\n",
        "from sklearn import preprocessing \n",
        "from sklearn.metrics import accuracy_score\n",
        "\n",
        "X_train,X_test,y_train,y_test=train_test_split(X3,y,test_size=0.2,random_state=10)\n",
        "\n",
        "clf = tree.DecisionTreeClassifier()\n",
        "clf = clf.fit(X_train, y_train)\n",
        "\n",
        "from sklearn.metrics import confusion_matrix,accuracy_score\n",
        "y_pred = clf.predict(X_test)\n",
        "\n",
        "cm = confusion_matrix(y_test,y_pred)\n",
        "accuracy = accuracy_score(y_test,y_pred)\n",
        "\n",
        "print(\"confusion matrics=\",cm)\n",
        "print(\"  \")\n",
        "print(\"accuracy=\",accuracy*100)"
      ],
      "execution_count": null,
      "outputs": []
    },
    {
      "cell_type": "code",
      "metadata": {
        "id": "krXxo90TzON4"
      },
      "source": [
        "# split into train and test sets\n",
        "X_train, X_test, y_train, y_test = train_test_split(X, y, test_size=0.33, random_state=1)\n",
        "# prepare input data\n",
        "X_train_enc, X_test_enc = prepare_inputs(X_train, X_test)\n",
        "# prepare output data\n",
        "y_train_enc, y_test_enc = prepare_targets(y_train, y_test)\n",
        "# feature selection\n",
        "X_train_fs, X_test_fs = select_features(X_train_enc, y_train_enc, X_test_enc)\n",
        "# fit the model\n",
        "model = LogisticRegression(solver='lbfgs')\n",
        "model.fit(X_train_fs, y_train_enc)\n",
        "# evaluate the model\n",
        "yhat = model.predict(X_test_fs)\n",
        "# evaluate predictions\n",
        "accuracy = accuracy_score(y_test_enc, yhat)\n",
        "print('Accuracy: %.2f' % (accuracy*100))"
      ],
      "execution_count": null,
      "outputs": []
    },
    {
      "cell_type": "markdown",
      "metadata": {
        "id": "Oshnrm8Y8wyF"
      },
      "source": [
        "here we can see that the more the score means more the impotance of feature."
      ]
    },
    {
      "cell_type": "code",
      "metadata": {
        "id": "1gz6TFI5AcU6"
      },
      "source": [
        "# Seggregate cat and num var and apply feature selection\n",
        "\n",
        "from sklearn.feature_selection import SelectKBest\n",
        "from sklearn.feature_selection import f_regression\n",
        "# generate dataset\n",
        "data = read_csv('/content/roo_data.csv')\n",
        "X = dataset[:, :-1]\n",
        "y = dataset[:,-1]\n",
        "X1 = X[:,:14]\n",
        "# define feature selection\n",
        "fs = SelectKBest(score_func=f_regression, k=10)\n",
        "# apply feature selection\n",
        "X_selected = fs.fit_transform(X1, y)\n",
        "print(X_selected.shape)"
      ],
      "execution_count": null,
      "outputs": []
    },
    {
      "cell_type": "markdown",
      "metadata": {
        "id": "-U2_PSD-ywuT"
      },
      "source": [
        "**Stirring Minds Task**\n",
        "\n",
        "https://discord.com/channels/419617105844109323/698838258603524136\n",
        "\n",
        "**Machine Learning **\n",
        "\n",
        "**Task 1:**\n",
        "\n",
        "You are assigned to a project where you are working on a datasets provided with Career guidance which contains various details of the students and their preferred career choices. How do you select the important variables? Explain your method in detail. (You are free to assume the variables as needed). \n",
        "\n",
        "**Author:- Kiran Malwe**"
      ]
    },
    {
      "cell_type": "markdown",
      "metadata": {
        "id": "dXXYiXOBy8Ng"
      },
      "source": [
        ""
      ]
    },
    {
      "cell_type": "code",
      "metadata": {
        "id": "vDURd6IIGF08"
      },
      "source": [
        "#Import libraries\n",
        "\n",
        "from pandas import read_csv\n",
        "from sklearn.preprocessing import LabelEncoder\n",
        "from sklearn.preprocessing import OrdinalEncoder\n",
        "from sklearn.feature_selection import SelectKBest\n",
        "from sklearn.feature_selection import chi2\n",
        "from sklearn.model_selection import train_test_split\n",
        "from sklearn.linear_model import LogisticRegression\n",
        "from sklearn.metrics import accuracy_score\n",
        " \n",
        "# load the dataset\n",
        "\n",
        "# load the dataset as a pandas DataFrame\n",
        "data = read_csv('/content/roo_data.csv')\n",
        "# retrieve numpy array\n",
        "dataset = data.values\n",
        "# split into input (X) and output (y) variables\n",
        "X = dataset[:, :-1]\n",
        "y = dataset[:,-1]\n",
        "# format all fields as string\n",
        "X = X.astype(str)\n",
        "\n",
        " \n",
        "# prepare input data\n",
        "def prepare_inputs(X_train, X_test):\n",
        "  oe = OrdinalEncoder()\n",
        "  oe.fit(X_train)\n",
        "  X_train_enc = oe.transform(X_train)\n",
        "  X_test_enc = oe.transform(X_test)\n",
        "  return X_train_enc, X_test_enc\n",
        " \n",
        "# prepare target\n",
        "def prepare_targets(y_train, y_test):\n",
        "\tle = LabelEncoder()\n",
        "\tle.fit(y_train)\n",
        "\ty_train_enc = le.transform(y_train)\n",
        "\ty_test_enc = le.transform(y_test)\n",
        "\treturn y_train_enc, y_test_enc\n",
        " \n",
        "# feature selection with chi2 using all variable\n",
        "def select_features(X_train, y_train, X_test):\n",
        "  fs = SelectKBest(score_func=chi2, k='all')\n",
        "  fs.fit(X_train, y_train)\n",
        "  X_train_fs = fs.transform(X_train)\n",
        "  X_test_fs = fs.transform(X_test)\n",
        "  return X_train_fs, X_test_fs\n",
        " "
      ],
      "execution_count": null,
      "outputs": []
    },
    {
      "cell_type": "code",
      "metadata": {
        "id": "poLtEIXdGtCV"
      },
      "source": [
        "# feature selection with chi2 having top 20 scores\n",
        "\n",
        "def select_features(X_train, y_train, X_test):\n",
        "\tfs = SelectKBest(score_func=chi2, k=20)\n",
        "\tfs.fit(X_train, y_train)\n",
        "\tX_train_fs = fs.transform(X_train)\n",
        "\tX_test_fs = fs.transform(X_test)\n",
        "\treturn X_train_fs, X_test_fs\n",
        " \n",
        "\n",
        "# split into train and test sets\n",
        "X_train, X_test, y_train, y_test = train_test_split(X, y, test_size=0.33, random_state=1)\n",
        "# prepare input data\n",
        "X_train_enc, X_test_enc = prepare_inputs(X_train, X_test)\n",
        "# prepare output data\n",
        "y_train_enc, y_test_enc = prepare_targets(y_train, y_test)\n",
        "# feature selection\n",
        "X_train_fs, X_test_fs = select_features(X_train_enc, y_train_enc, X_test_enc)\n",
        "# fit the model\n",
        "model = LogisticRegression(solver='lbfgs')\n",
        "model.fit(X_train_fs, y_train_enc)\n",
        "# evaluate the model\n",
        "yhat = model.predict(X_test_fs)\n",
        "# evaluate predictions\n",
        "accuracy = accuracy_score(y_test_enc, yhat)\n",
        "print('Accuracy: %.2f' % (accuracy*100))"
      ],
      "execution_count": null,
      "outputs": []
    },
    {
      "cell_type": "code",
      "metadata": {
        "id": "VEoZ9tRAIfyw"
      },
      "source": [
        "from sklearn.tree import DecisionTreeClassifier as dt\n",
        "\n",
        "# feature selection using Decision Tree Classifier with all variable\n",
        "def select_features(X_train, y_train, X_test):\n",
        "  fs = SelectKBest(score_func=chi2, k='all')\n",
        "  fs.fit(X_train, y_train)\n",
        "  X_train_fs = fs.transform(X_train)\n",
        "  X_test_fs = fs.transform(X_test)\n",
        "  return X_train, X_test\n",
        " \n",
        "# split into train and test sets\n",
        "X_train, X_test, y_train, y_test = train_test_split(X, y, test_size=0.33, random_state=1)\n",
        "# prepare input data\n",
        "X_train_enc, X_test_enc = prepare_inputs(X_train, X_test)\n",
        "# prepare output data\n",
        "y_train_enc, y_test_enc = prepare_targets(y_train, y_test)\n",
        "# feature selection\n",
        "X_train_fs, X_test_fs = select_features(X_train_enc, y_train_enc, X_test_enc)\n",
        "# fit the model\n",
        "model = dt()\n",
        "model.fit(X_train_fs, y_train_enc)\n",
        "# evaluate the model\n",
        "yhat = model.predict(X_test_fs)\n",
        "# evaluate predictions\n",
        "accuracy = accuracy_score(y_test_enc, yhat)\n",
        "print('Accuracy: %.2f' % (accuracy*100))"
      ],
      "execution_count": null,
      "outputs": []
    },
    {
      "cell_type": "code",
      "metadata": {
        "id": "5kYhnHJeKt0q"
      },
      "source": [
        "from sklearn.tree import DecisionTreeClassifier as dt\n",
        "\n",
        "# feature selection using DT with top 15 score\n",
        "def select_features(X_train, y_train, X_test):\n",
        "  fs = SelectKBest(score_func=chi2, k= 15)\n",
        "  fs.fit(X_train, y_train)\n",
        "  X_train_fs = fs.transform(X_train)\n",
        "  X_test_fs = fs.transform(X_test)\n",
        "  return X_train, X_test\n",
        " \n",
        "# split into train and test sets\n",
        "X_train, X_test, y_train, y_test = train_test_split(X, y, test_size=0.33, random_state=1)\n",
        "# prepare input data\n",
        "X_train_enc, X_test_enc = prepare_inputs(X_train, X_test)\n",
        "# prepare output data\n",
        "y_train_enc, y_test_enc = prepare_targets(y_train, y_test)\n",
        "# feature selection\n",
        "X_train_fs, X_test_fs = select_features(X_train_enc, y_train_enc, X_test_enc)\n",
        "# fit the model\n",
        "model = dt()\n",
        "model.fit(X_train_fs, y_train_enc)\n",
        "# evaluate the model\n",
        "yhat = model.predict(X_test_fs)\n",
        "# evaluate predictions\n",
        "accuracy = accuracy_score(y_test_enc, yhat)\n",
        "print('Accuracy: %.2f' % (accuracy*100))"
      ],
      "execution_count": null,
      "outputs": []
    },
    {
      "cell_type": "code",
      "metadata": {
        "id": "oiur4roCJqxj"
      },
      "source": [
        "# feature selection using XGBClassifier using all variable\n",
        "from xgboost import XGBClassifier\n",
        "# prepare input data\n",
        "X_train_enc, X_test_enc = prepare_inputs(X_train, X_test)\n",
        "# prepare output data\n",
        "y_train_enc, y_test_enc = prepare_targets(y_train, y_test)\n",
        "# feature selection\n",
        "#X_train_fs, X_test_fs = select_features(X_train_enc, y_train_enc, X_test_enc)\n",
        "# define the model\n",
        "model = XGBClassifier()\n",
        "# fit the model\n",
        "model.fit(X_train_enc, y_train_enc)\n",
        "# get importance\n",
        "importance = model.feature_importances_\n",
        "# summarize feature importance\n",
        "for i,v in enumerate(importance):\n",
        "\tprint('Feature: %0d, Score: %.5f' % (i,v))\n",
        "# evaluate the model\n",
        "yhat = model.predict(X_test_enc)\n",
        "# evaluate predictions\n",
        "accuracy = accuracy_score(y_test_enc, yhat)\n",
        "print('Accuracy: %.2f' % (accuracy*100))\n",
        "# plot feature importance\n",
        "#pyplot.bar([x for x in range(len(importance))], importance)\n",
        "#pyplot.show()"
      ],
      "execution_count": null,
      "outputs": []
    },
    {
      "cell_type": "code",
      "metadata": {
        "id": "iMwnE_aCMwkM"
      },
      "source": [
        ""
      ],
      "execution_count": null,
      "outputs": []
    },
    {
      "cell_type": "code",
      "metadata": {
        "id": "Iagkoe-VOiyz"
      },
      "source": [
        "# feature selection\n",
        "X_train_fs, X_test_fs = select_features(X_train_enc, y_train_enc, X_test_enc)\n",
        "# define the model\n",
        "model = XGBClassifier()\n",
        "# fit the model\n",
        "model.fit(X_train_fs, y_train_enc)\n",
        "# get importance\n",
        "importance = model.feature_importances_\n",
        "# summarize feature importance\n",
        "for i,v in enumerate(importance):\n",
        "\tprint('Feature: %0d, Score: %.5f' % (i,v))\n",
        "# evaluate the model\n",
        "yhat = model.predict(X_test_enc)\n",
        "# evaluate predictions\n",
        "accuracy = accuracy_score(y_test_enc, yhat)\n",
        "print('Accuracy: %.2f' % (accuracy*100))"
      ],
      "execution_count": null,
      "outputs": []
    },
    {
      "cell_type": "code",
      "metadata": {
        "id": "brfLTxXePXIe"
      },
      "source": [
        "from xgboost import XGBClassifier\n",
        "\n",
        "# feature selection using XGBClassifier \n",
        "def select_features(X_train, y_train, X_test):\n",
        "  fs = SelectKBest(score_func=XGBClassifier, k= 'all')\n",
        "  fs.fit(X_train, y_train)\n",
        "  #X_train_fs = fs.transform(X_train)\n",
        "  #X_test_fs = fs.transform(X_test)\n",
        "  return X_train, X_test\n",
        " \n",
        "# split into train and test sets\n",
        "X_train, X_test, y_train, y_test = train_test_split(X, y, test_size=0.33, random_state=1)\n",
        "# prepare input data\n",
        "X_train_enc, X_test_enc = prepare_inputs(X_train, X_test)\n",
        "# prepare output data\n",
        "y_train_enc, y_test_enc = prepare_targets(y_train, y_test)\n",
        "# feature selection\n",
        "X_train_fs, X_test_fs = select_features(X_train_enc, y_train_enc, X_test_enc)\n",
        "# fit the model\n",
        "model = XGBClassifier()\n",
        "model.fit(X_train_fs, y_train_enc)\n",
        "# evaluate the model\n",
        "yhat = model.predict(X_test_fs)\n",
        "# evaluate predictions\n",
        "accuracy = accuracy_score(y_test_enc, yhat)\n",
        "print('Accuracy: %.2f' % (accuracy*100))"
      ],
      "execution_count": null,
      "outputs": []
    },
    {
      "cell_type": "code",
      "metadata": {
        "id": "tatImKmvRjb9"
      },
      "source": [
        "# feature selection using XGBClassifier \n",
        "def select_features(X_train, y_train, X_test):\n",
        "  fs = SelectKBest(score_func=XGBClassifier, k= 10)\n",
        "  fs.fit(X_train, y_train)\n",
        "  #X_train_fs = fs.transform(X_train)\n",
        "  #X_test_fs = fs.transform(X_test)\n",
        "  return X_train, X_test\n",
        " \n",
        "# split into train and test sets\n",
        "X_train, X_test, y_train, y_test = train_test_split(X, y, test_size=0.33, random_state=1)\n",
        "# prepare input data\n",
        "X_train_enc, X_test_enc = prepare_inputs(X_train, X_test)\n",
        "# prepare output data\n",
        "y_train_enc, y_test_enc = prepare_targets(y_train, y_test)\n",
        "# feature selection\n",
        "X_train_fs, X_test_fs = select_features(X_train_enc, y_train_enc, X_test_enc)\n",
        "# fit the model\n",
        "model = XGBClassifier()\n",
        "model.fit(X_train_fs, y_train_enc)\n",
        "# evaluate the model\n",
        "yhat = model.predict(X_test_fs)\n",
        "# evaluate predictions\n",
        "accuracy = accuracy_score(y_test_enc, yhat)\n",
        "print('Accuracy: %.2f' % (accuracy*100))"
      ],
      "execution_count": null,
      "outputs": []
    },
    {
      "cell_type": "code",
      "metadata": {
        "id": "EPO6k7HgSItP"
      },
      "source": [
        ""
      ],
      "execution_count": null,
      "outputs": []
    }
  ]
}