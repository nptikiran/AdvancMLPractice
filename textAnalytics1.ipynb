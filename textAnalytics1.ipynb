{
  "nbformat": 4,
  "nbformat_minor": 0,
  "metadata": {
    "colab": {
      "name": "textAnalytics1.ipynb",
      "provenance": [],
      "collapsed_sections": [],
      "authorship_tag": "ABX9TyNBRQcMdt+eKaEzV3q+xAC3",
      "include_colab_link": true
    },
    "kernelspec": {
      "name": "python3",
      "display_name": "Python 3"
    },
    "language_info": {
      "name": "python"
    },
    "accelerator": "GPU"
  },
  "cells": [
    {
      "cell_type": "markdown",
      "metadata": {
        "id": "view-in-github",
        "colab_type": "text"
      },
      "source": [
        "<a href=\"https://colab.research.google.com/github/nptikiran/AdvancMLPractice/blob/main/textAnalytics1.ipynb\" target=\"_parent\"><img src=\"https://colab.research.google.com/assets/colab-badge.svg\" alt=\"Open In Colab\"/></a>"
      ]
    },
    {
      "cell_type": "markdown",
      "metadata": {
        "id": "_UfWb_0XxuMU"
      },
      "source": [
        "27. Text Analytics Model Building-ByBhupen\n",
        "\n",
        "##Natural Language Processing\n",
        "\n",
        "https://blog.chapagain.com.np/python-nltk-twitter-sentiment-analysis-natural-language-processing-nlp/"
      ]
    },
    {
      "cell_type": "code",
      "metadata": {
        "id": "w756LNrFxphu"
      },
      "source": [
        "# Importing nltk\n",
        "import nltk"
      ],
      "execution_count": 2,
      "outputs": []
    },
    {
      "cell_type": "markdown",
      "metadata": {
        "id": "yNpK5k_FxztT"
      },
      "source": [
        "The `twitter_samples` corpus contains 2K movie reviews with sentiment polarity classification. \n",
        " \n",
        "The `twitter_samples` corpus contains 3 files.\n",
        "\n",
        "- 1) `negative_tweets.json`: contains 5k negative tweets\n",
        "- 2) `positive_tweets.json`: contains 5k positive tweets\n",
        "- 3) `tweets.20150430-223406.json`: contains 20k positive and negative tweets"
      ]
    },
    {
      "cell_type": "code",
      "metadata": {
        "colab": {
          "base_uri": "https://localhost:8080/"
        },
        "id": "-j4dZKhAx7Yn",
        "outputId": "8110a44e-2cb9-4cf8-80ac-a2e95d3846c0"
      },
      "source": [
        "# If we want any sample dataset then we have to run it and select from corpous(dataset).\n",
        "# Here choosing twitter_samples & download it\n",
        "nltk.download('twitter_samples')"
      ],
      "execution_count": 3,
      "outputs": [
        {
          "output_type": "stream",
          "text": [
            "[nltk_data] Downloading package twitter_samples to /root/nltk_data...\n",
            "[nltk_data]   Unzipping corpora/twitter_samples.zip.\n"
          ],
          "name": "stdout"
        },
        {
          "output_type": "execute_result",
          "data": {
            "text/plain": [
              "True"
            ]
          },
          "metadata": {
            "tags": []
          },
          "execution_count": 3
        }
      ]
    },
    {
      "cell_type": "code",
      "metadata": {
        "colab": {
          "base_uri": "https://localhost:8080/",
          "height": 35
        },
        "id": "8T2xo2e109zA",
        "outputId": "ade9b18b-7dbe-4a8e-efa7-ae120d83d394"
      },
      "source": [
        "#Importing all punctuations from string\n",
        "from string import punctuation\n",
        "punctuation"
      ],
      "execution_count": 4,
      "outputs": [
        {
          "output_type": "execute_result",
          "data": {
            "application/vnd.google.colaboratory.intrinsic+json": {
              "type": "string"
            },
            "text/plain": [
              "'!\"#$%&\\'()*+,-./:;<=>?@[\\\\]^_`{|}~'"
            ]
          },
          "metadata": {
            "tags": []
          },
          "execution_count": 4
        }
      ]
    },
    {
      "cell_type": "markdown",
      "metadata": {
        "id": "yC5rZjgI1l8B"
      },
      "source": [
        "Here we can see all the special characters which are punctuation."
      ]
    },
    {
      "cell_type": "code",
      "metadata": {
        "id": "kq5RTiw81cDW"
      },
      "source": [
        "# twitter_samples corpous has imported/called\n",
        "from nltk.corpus import twitter_samples"
      ],
      "execution_count": 5,
      "outputs": []
    },
    {
      "cell_type": "code",
      "metadata": {
        "colab": {
          "base_uri": "https://localhost:8080/"
        },
        "id": "o8rahxra13BW",
        "outputId": "0a57f80b-afe1-435e-9fe7-532d3002d5d3"
      },
      "source": [
        "#Checking for the files in this corpous\n",
        "twitter_samples.fileids()"
      ],
      "execution_count": 6,
      "outputs": [
        {
          "output_type": "execute_result",
          "data": {
            "text/plain": [
              "['negative_tweets.json', 'positive_tweets.json', 'tweets.20150430-223406.json']"
            ]
          },
          "metadata": {
            "tags": []
          },
          "execution_count": 6
        }
      ]
    },
    {
      "cell_type": "markdown",
      "metadata": {
        "id": "T2DmExF2vEh1"
      },
      "source": [
        "these are the three files in the .json format.(java script object notion)"
      ]
    },
    {
      "cell_type": "code",
      "metadata": {
        "id": "H795yB5M2TFI"
      },
      "source": [
        "# call the file(string) 'positive_tweets.json' to process\n",
        "strings = twitter_samples.strings('positive_tweets.json')"
      ],
      "execution_count": 7,
      "outputs": []
    },
    {
      "cell_type": "code",
      "metadata": {
        "colab": {
          "base_uri": "https://localhost:8080/"
        },
        "id": "H9E5VvNv4jOW",
        "outputId": "f5abea71-44df-4562-c9b2-dd374cf14e51"
      },
      "source": [
        "# Using for loop we have call the 'string'.For above we can also write below\n",
        "for strings in strings[:2]:\n",
        "   print('\\n', strings)\n",
        "  "
      ],
      "execution_count": 8,
      "outputs": [
        {
          "output_type": "stream",
          "text": [
            "\n",
            " #FollowFriday @France_Inte @PKuchly57 @Milipol_Paris for being top engaged members in my community this week :)\n",
            "\n",
            " @Lamb2ja Hey James! How odd :/ Please call our Contact Centre on 02392441234 and we will be able to assist you :) Many thanks!\n"
          ],
          "name": "stdout"
        }
      ]
    },
    {
      "cell_type": "code",
      "metadata": {
        "colab": {
          "base_uri": "https://localhost:8080/"
        },
        "id": "mWRN2Du14p2u",
        "outputId": "32aa2e63-d88e-442e-e8d8-630e0fe33693"
      },
      "source": [
        "# Let's check the length of string\n",
        "len(strings)"
      ],
      "execution_count": 9,
      "outputs": [
        {
          "output_type": "execute_result",
          "data": {
            "text/plain": [
              "126"
            ]
          },
          "metadata": {
            "tags": []
          },
          "execution_count": 9
        }
      ]
    },
    {
      "cell_type": "code",
      "metadata": {
        "colab": {
          "base_uri": "https://localhost:8080/",
          "height": 35
        },
        "id": "g6MExOFp5FAd",
        "outputId": "0a0cb17d-19c5-406e-aff9-2814ca637abb"
      },
      "source": [
        "# Let's call 0th string and check.\n",
        "strings[0]"
      ],
      "execution_count": 10,
      "outputs": [
        {
          "output_type": "execute_result",
          "data": {
            "application/vnd.google.colaboratory.intrinsic+json": {
              "type": "string"
            },
            "text/plain": [
              "'@'"
            ]
          },
          "metadata": {
            "tags": []
          },
          "execution_count": 10
        }
      ]
    },
    {
      "cell_type": "code",
      "metadata": {
        "id": "4incX4nn5MqS"
      },
      "source": [
        "# Here we are going to tokenize the string.\n",
        "tweets_tokens_pos = twitter_samples.tokenized('positive_tweets.json')"
      ],
      "execution_count": 11,
      "outputs": []
    },
    {
      "cell_type": "code",
      "metadata": {
        "colab": {
          "base_uri": "https://localhost:8080/"
        },
        "id": "cSJn6rak53wY",
        "outputId": "c292c6a5-82f6-4f12-da2a-349abe98586b"
      },
      "source": [
        "# Here we call the tokenize string to check\n",
        "tweets_tokens_pos[0]"
      ],
      "execution_count": 12,
      "outputs": [
        {
          "output_type": "execute_result",
          "data": {
            "text/plain": [
              "['#FollowFriday',\n",
              " '@France_Inte',\n",
              " '@PKuchly57',\n",
              " '@Milipol_Paris',\n",
              " 'for',\n",
              " 'being',\n",
              " 'top',\n",
              " 'engaged',\n",
              " 'members',\n",
              " 'in',\n",
              " 'my',\n",
              " 'community',\n",
              " 'this',\n",
              " 'week',\n",
              " ':)']"
            ]
          },
          "metadata": {
            "tags": []
          },
          "execution_count": 12
        }
      ]
    },
    {
      "cell_type": "markdown",
      "metadata": {
        "id": "G5jYDtOX8S_f"
      },
      "source": [
        "In this tokenization each and every punctuation and word are get saperate.\n",
        "* Tokenisation = breaking the sentences into saperate word.\n",
        "* POS = part of speech = Noun, adjectives and adverb and verb these are the POS.\n",
        "* Cleanning = Removing any unwanted parts/characters"
      ]
    },
    {
      "cell_type": "code",
      "metadata": {
        "colab": {
          "base_uri": "https://localhost:8080/",
          "height": 35
        },
        "id": "t0uZ-Ezx70ZX",
        "outputId": "56f188e2-9cd3-49c9-f8b3-d1733b2591cb"
      },
      "source": [
        "#\"\".join(),join all the character into string\n",
        "punc = \"\".join([i for i in punctuation if i not in \"!?\"])\n",
        "punc"
      ],
      "execution_count": 13,
      "outputs": [
        {
          "output_type": "execute_result",
          "data": {
            "application/vnd.google.colaboratory.intrinsic+json": {
              "type": "string"
            },
            "text/plain": [
              "'\"#$%&\\'()*+,-./:;<=>@[\\\\]^_`{|}~'"
            ]
          },
          "metadata": {
            "tags": []
          },
          "execution_count": 13
        }
      ]
    },
    {
      "cell_type": "code",
      "metadata": {
        "colab": {
          "base_uri": "https://localhost:8080/"
        },
        "id": "9YI1Vj6Lzn67",
        "outputId": "b95fc31e-c789-4599-c81b-9aee4291cfd7"
      },
      "source": [
        "# join all the character using # as a saperator\n",
        "mytuple = ('a','b','c')\n",
        "x = \"#\".join(mytuple)\n",
        "print(x)"
      ],
      "execution_count": 14,
      "outputs": [
        {
          "output_type": "stream",
          "text": [
            "a#b#c\n"
          ],
          "name": "stdout"
        }
      ]
    },
    {
      "cell_type": "code",
      "metadata": {
        "colab": {
          "base_uri": "https://localhost:8080/"
        },
        "id": "gX25idqU_lZ-",
        "outputId": "436a32b2-59a8-4641-872b-f31eb0dbd673"
      },
      "source": [
        "tweets_tokens_pos[2]"
      ],
      "execution_count": 15,
      "outputs": [
        {
          "output_type": "execute_result",
          "data": {
            "text/plain": [
              "['@DespiteOfficial',\n",
              " 'we',\n",
              " 'had',\n",
              " 'a',\n",
              " 'listen',\n",
              " 'last',\n",
              " 'night',\n",
              " ':)',\n",
              " 'As',\n",
              " 'You',\n",
              " 'Bleed',\n",
              " 'is',\n",
              " 'an',\n",
              " 'amazing',\n",
              " 'track',\n",
              " '.',\n",
              " 'When',\n",
              " 'are',\n",
              " 'you',\n",
              " 'in',\n",
              " 'Scotland',\n",
              " '?',\n",
              " '!']"
            ]
          },
          "metadata": {
            "tags": []
          },
          "execution_count": 15
        }
      ]
    },
    {
      "cell_type": "markdown",
      "metadata": {
        "id": "F854Y7-l07JL"
      },
      "source": [
        "Now we are remove punctuations.select a char which is in tweets_tokens_pos, but not is not in punch and print it."
      ]
    },
    {
      "cell_type": "code",
      "metadata": {
        "colab": {
          "base_uri": "https://localhost:8080/"
        },
        "id": "Ueaxo8km-ELW",
        "outputId": "96dd5bec-ecca-4082-e650-602c552976d8"
      },
      "source": [
        "lst = [char for char in tweets_tokens_pos[2] if char not in punc]\n",
        "print(lst)"
      ],
      "execution_count": 16,
      "outputs": [
        {
          "output_type": "stream",
          "text": [
            "['@DespiteOfficial', 'we', 'had', 'a', 'listen', 'last', 'night', ':)', 'As', 'You', 'Bleed', 'is', 'an', 'amazing', 'track', 'When', 'are', 'you', 'in', 'Scotland', '?', '!']\n"
          ],
          "name": "stdout"
        }
      ]
    },
    {
      "cell_type": "code",
      "metadata": {
        "id": "LGlSoLCNBCRK"
      },
      "source": [
        "import re"
      ],
      "execution_count": 17,
      "outputs": []
    },
    {
      "cell_type": "markdown",
      "metadata": {
        "id": "_L4tKOQ-BEq9"
      },
      "source": [
        "- regular Expressions = 'Characters',range of characters ,any @[A-Za-z0-9_]+*(\\w is [A-Za-z0-9_] It include all alphabates, words, numbers and special characters)\n",
        "- '+' can't come standalone. It comes with the character followed by it.\n",
        "- '*' gives all occurances.(same as MYSQL)\n",
        "- follow @ the new @newu"
      ]
    },
    {
      "cell_type": "code",
      "metadata": {
        "colab": {
          "base_uri": "https://localhost:8080/"
        },
        "id": "R_TNsHEv-07o",
        "outputId": "d15d0b9c-97f3-4349-aa57-8fc7e8aa693a"
      },
      "source": [
        "# for w in lst, regular Expression search for any special character or lower or upper case word\n",
        "[w for w in lst if re.search('@[A-Za-z0-9_]+',w)]"
      ],
      "execution_count": 18,
      "outputs": [
        {
          "output_type": "execute_result",
          "data": {
            "text/plain": [
              "['@DespiteOfficial']"
            ]
          },
          "metadata": {
            "tags": []
          },
          "execution_count": 18
        }
      ]
    },
    {
      "cell_type": "markdown",
      "metadata": {
        "id": "FjJ_IgWw197i"
      },
      "source": [
        "Above code said that w in lst "
      ]
    },
    {
      "cell_type": "code",
      "metadata": {
        "id": "p_5WxhBhA9nx"
      },
      "source": [
        "#Import stopwords and regular Expresion operations\n",
        "from nltk.corpus import stopwords \n",
        "import re"
      ],
      "execution_count": 19,
      "outputs": []
    },
    {
      "cell_type": "code",
      "metadata": {
        "colab": {
          "base_uri": "https://localhost:8080/"
        },
        "id": "pBPjd62Rkuqd",
        "outputId": "5c4020db-e0a0-4b11-c640-2f4601f22745"
      },
      "source": [
        "# Download stopwords\n",
        "nltk.download('stopwords')"
      ],
      "execution_count": 20,
      "outputs": [
        {
          "output_type": "stream",
          "text": [
            "[nltk_data] Downloading package stopwords to /root/nltk_data...\n",
            "[nltk_data]   Unzipping corpora/stopwords.zip.\n"
          ],
          "name": "stdout"
        },
        {
          "output_type": "execute_result",
          "data": {
            "text/plain": [
              "True"
            ]
          },
          "metadata": {
            "tags": []
          },
          "execution_count": 20
        }
      ]
    },
    {
      "cell_type": "code",
      "metadata": {
        "colab": {
          "base_uri": "https://localhost:8080/"
        },
        "id": "9h92z0T0kPDs",
        "outputId": "5014c201-6958-42b1-eccb-7fa080d3651d"
      },
      "source": [
        "# Remove stopwords\n",
        "stopwords.words('english')[:10]"
      ],
      "execution_count": 21,
      "outputs": [
        {
          "output_type": "execute_result",
          "data": {
            "text/plain": [
              "['i', 'me', 'my', 'myself', 'we', 'our', 'ours', 'ourselves', 'you', \"you're\"]"
            ]
          },
          "metadata": {
            "tags": []
          },
          "execution_count": 21
        }
      ]
    },
    {
      "cell_type": "code",
      "metadata": {
        "id": "N32-Lz_JnPYS"
      },
      "source": [
        "token_pos_clean=[] # define token_pos_clean empty list\n",
        "for i in range (0, len(tweets_tokens_pos)):# make for loop for cleaning the data in the \n",
        "  lst = [char.lower() for char in tweets_tokens_pos[i] if char not in punc]#remove punctuations\n",
        "  lst1 = [w for w in lst if not re.search('[@][A-Za-z0-9_]+',w)]\n",
        "  lst2 = [w for w in lst1 if w not in stopwords.words(\"english\")]\n",
        "  token_pos_clean.append(lst2)#give output for lst2"
      ],
      "execution_count": 22,
      "outputs": []
    },
    {
      "cell_type": "markdown",
      "metadata": {
        "id": "PEr9IbF5OXwY"
      },
      "source": [
        "For the strings tweets_tokens_pos we have removed punctuations.Then removes stpwords etc. to clean the data."
      ]
    },
    {
      "cell_type": "code",
      "metadata": {
        "colab": {
          "base_uri": "https://localhost:8080/"
        },
        "id": "7TZN67Fvrcu8",
        "outputId": "8768a935-c294-4f37-9e0d-4104f06a253b"
      },
      "source": [
        "print(tweets_tokens_pos[1], '\\n\\n\\n',token_pos_clean[1])"
      ],
      "execution_count": 23,
      "outputs": [
        {
          "output_type": "stream",
          "text": [
            "['@Lamb2ja', 'Hey', 'James', '!', 'How', 'odd', ':/', 'Please', 'call', 'our', 'Contact', 'Centre', 'on', '02392441234', 'and', 'we', 'will', 'be', 'able', 'to', 'assist', 'you', ':)', 'Many', 'thanks', '!'] \n",
            "\n",
            "\n",
            " ['hey', 'james', '!', 'odd', ':/', 'please', 'call', 'contact', 'centre', '02392441234', 'able', 'assist', ':)', 'many', 'thanks', '!']\n"
          ],
          "name": "stdout"
        }
      ]
    },
    {
      "cell_type": "markdown",
      "metadata": {
        "id": "QgFTHZHkPG26"
      },
      "source": [
        "**Now Call Secong string 'negative _tweets.json'** "
      ]
    },
    {
      "cell_type": "code",
      "metadata": {
        "id": "EnszkpyonGgC"
      },
      "source": [
        "tweets_tokens_neg = twitter_samples.tokenized('negative_tweets.json')"
      ],
      "execution_count": 24,
      "outputs": []
    },
    {
      "cell_type": "code",
      "metadata": {
        "id": "FaIa10eDknQN"
      },
      "source": [
        "token_neg_clean = []\n",
        "for i in range(0, len(tweets_tokens_neg)):\n",
        "  lst = [char for char in tweets_tokens_neg[i] if char not in punc]\n",
        "  lst1 = [w for w in lst if not re.search('[@#][A-Za-z0-9_]+',w)]#. means all & * means occurances\n",
        "  lst2 = [w for w in lst1 if w not in stopwords.words(\"english\")]\n",
        "  token_neg_clean.append(lst2)"
      ],
      "execution_count": 25,
      "outputs": []
    },
    {
      "cell_type": "markdown",
      "metadata": {
        "id": "mY7nU3aLPWHU"
      },
      "source": [
        "Here also we have remove punctuations, stopwords and convert letters from upper or lower case."
      ]
    },
    {
      "cell_type": "code",
      "metadata": {
        "colab": {
          "base_uri": "https://localhost:8080/"
        },
        "id": "1QhUXubNmlJ9",
        "outputId": "af7aeeb5-ae98-4346-eb84-4e4939789c97"
      },
      "source": [
        "print(tweets_tokens_neg[3],'\\n\\n\\n',token_neg_clean[3])"
      ],
      "execution_count": 26,
      "outputs": [
        {
          "output_type": "stream",
          "text": [
            "['“', '@ketchBurning', ':', 'I', 'hate', 'Japanese', 'call', 'him', '\"', 'bani', '\"', ':(', ':(', '”', 'Me', 'too'] \n",
            "\n",
            "\n",
            " ['“', 'I', 'hate', 'Japanese', 'call', 'bani', ':(', ':(', '”', 'Me']\n"
          ],
          "name": "stdout"
        }
      ]
    },
    {
      "cell_type": "markdown",
      "metadata": {
        "id": "BEUXCgokt6kU"
      },
      "source": [
        "##Dictionary DataFrame"
      ]
    },
    {
      "cell_type": "code",
      "metadata": {
        "colab": {
          "base_uri": "https://localhost:8080/"
        },
        "id": "gdcVP_7stk2z",
        "outputId": "91e63e91-246f-49c6-a4a8-3b75401da99b"
      },
      "source": [
        "labelled_tweets = ([(word, 'pos') for word in token_pos_clean]+[(word,'neg') for word in token_neg_clean])\n",
        "len(labelled_tweets)"
      ],
      "execution_count": 27,
      "outputs": [
        {
          "output_type": "execute_result",
          "data": {
            "text/plain": [
              "10000"
            ]
          },
          "metadata": {
            "tags": []
          },
          "execution_count": 27
        }
      ]
    },
    {
      "cell_type": "code",
      "metadata": {
        "colab": {
          "base_uri": "https://localhost:8080/"
        },
        "id": "ZJfj-nWOugg7",
        "outputId": "61bf8956-d168-49a3-e06c-4c659e6e6f53"
      },
      "source": [
        "print(labelled_tweets[1])"
      ],
      "execution_count": 28,
      "outputs": [
        {
          "output_type": "stream",
          "text": [
            "(['hey', 'james', '!', 'odd', ':/', 'please', 'call', 'contact', 'centre', '02392441234', 'able', 'assist', ':)', 'many', 'thanks', '!'], 'pos')\n"
          ],
          "name": "stdout"
        }
      ]
    },
    {
      "cell_type": "markdown",
      "metadata": {
        "id": "DNQu3MXluuD1"
      },
      "source": [
        "## Getting all the unique words"
      ]
    },
    {
      "cell_type": "code",
      "metadata": {
        "colab": {
          "base_uri": "https://localhost:8080/"
        },
        "id": "ToKbf2YDutqQ",
        "outputId": "50974bd5-48c9-46ea-ca08-640b5afb6877"
      },
      "source": [
        "words=[]\n",
        "for i in range(0, len(labelled_tweets)):\n",
        "  x=labelled_tweets[i][0]#first character of zero terminated string\n",
        "  for y in x:\n",
        "    words.append(y.lower())\n",
        "len(words)"
      ],
      "execution_count": 29,
      "outputs": [
        {
          "output_type": "execute_result",
          "data": {
            "text/plain": [
              "76664"
            ]
          },
          "metadata": {
            "tags": []
          },
          "execution_count": 29
        }
      ]
    },
    {
      "cell_type": "code",
      "metadata": {
        "id": "HwWS77mmunE6"
      },
      "source": [
        "#Unique list of words\n",
        "word_features = {w for w in words}"
      ],
      "execution_count": 30,
      "outputs": []
    },
    {
      "cell_type": "code",
      "metadata": {
        "colab": {
          "base_uri": "https://localhost:8080/"
        },
        "id": "MjE9H5to2QBj",
        "outputId": "d9b1927e-214c-4943-b31c-7572b4f70711"
      },
      "source": [
        "len(word_features)"
      ],
      "execution_count": 31,
      "outputs": [
        {
          "output_type": "execute_result",
          "data": {
            "text/plain": [
              "14223"
            ]
          },
          "metadata": {
            "tags": []
          },
          "execution_count": 31
        }
      ]
    },
    {
      "cell_type": "code",
      "metadata": {
        "id": "ddNWyfGc2Szq"
      },
      "source": [
        "all_words = nltk.FreqDist(w.lower() for w in words)#Counted frequency of words\n",
        "#all_words"
      ],
      "execution_count": 32,
      "outputs": []
    },
    {
      "cell_type": "code",
      "metadata": {
        "id": "WFa5Ri6F2iZR"
      },
      "source": [
        "def document_features(document):\n",
        "  document_words = set(document)\n",
        "  features = {}\n",
        "  for word in word_features:\n",
        "    features['contain({})'.format(word)] = (word in document_words)\n",
        "    features['count({}'.format(word)] = (document.count(word))\n",
        "  return features"
      ],
      "execution_count": 33,
      "outputs": []
    },
    {
      "cell_type": "code",
      "metadata": {
        "colab": {
          "base_uri": "https://localhost:8080/"
        },
        "id": "w9hMqK9gYGb5",
        "outputId": "5c46d622-cda2-429c-c6fa-f6233572a0a0"
      },
      "source": [
        "document_features"
      ],
      "execution_count": 34,
      "outputs": [
        {
          "output_type": "execute_result",
          "data": {
            "text/plain": [
              "<function __main__.document_features>"
            ]
          },
          "metadata": {
            "tags": []
          },
          "execution_count": 34
        }
      ]
    },
    {
      "cell_type": "code",
      "metadata": {
        "colab": {
          "base_uri": "https://localhost:8080/"
        },
        "id": "VeDLW2pc4csn",
        "outputId": "a070b2d8-fb4d-46e8-db7e-a3b49489c221"
      },
      "source": [
        "labelled_tweets[0]"
      ],
      "execution_count": 35,
      "outputs": [
        {
          "output_type": "execute_result",
          "data": {
            "text/plain": [
              "(['#followfriday', 'top', 'engaged', 'members', 'community', 'week', ':)'],\n",
              " 'pos')"
            ]
          },
          "metadata": {
            "tags": []
          },
          "execution_count": 35
        }
      ]
    },
    {
      "cell_type": "code",
      "metadata": {
        "colab": {
          "base_uri": "https://localhost:8080/"
        },
        "id": "3BNIdv9jD83p",
        "outputId": "75f4b75c-2ac2-4dfb-a3c0-bf4a0f4336e1"
      },
      "source": [
        "len(document_features(labelled_tweets[0][0]))"
      ],
      "execution_count": 36,
      "outputs": [
        {
          "output_type": "execute_result",
          "data": {
            "text/plain": [
              "28446"
            ]
          },
          "metadata": {
            "tags": []
          },
          "execution_count": 36
        }
      ]
    },
    {
      "cell_type": "code",
      "metadata": {
        "colab": {
          "base_uri": "https://localhost:8080/",
          "height": 127
        },
        "id": "IGdgKtreEKUz",
        "outputId": "51d8dce6-d37c-4bc4-ce78-3e8c30f14bfc"
      },
      "source": [
        "import pandas as pd\n",
        "pd.DataFrame(document_features(labelled_tweets[0][0]),index=[0])"
      ],
      "execution_count": 37,
      "outputs": [
        {
          "output_type": "execute_result",
          "data": {
            "text/html": [
              "<div>\n",
              "<style scoped>\n",
              "    .dataframe tbody tr th:only-of-type {\n",
              "        vertical-align: middle;\n",
              "    }\n",
              "\n",
              "    .dataframe tbody tr th {\n",
              "        vertical-align: top;\n",
              "    }\n",
              "\n",
              "    .dataframe thead th {\n",
              "        text-align: right;\n",
              "    }\n",
              "</style>\n",
              "<table border=\"1\" class=\"dataframe\">\n",
              "  <thead>\n",
              "    <tr style=\"text-align: right;\">\n",
              "      <th></th>\n",
              "      <th>contain(realise)</th>\n",
              "      <th>count(realise</th>\n",
              "      <th>contain(chant)</th>\n",
              "      <th>count(chant</th>\n",
              "      <th>contain(donation)</th>\n",
              "      <th>count(donation</th>\n",
              "      <th>contain(rupert)</th>\n",
              "      <th>count(rupert</th>\n",
              "      <th>contain(shady)</th>\n",
              "      <th>count(shady</th>\n",
              "      <th>contain(chal)</th>\n",
              "      <th>count(chal</th>\n",
              "      <th>contain(insane)</th>\n",
              "      <th>count(insane</th>\n",
              "      <th>contain(icons)</th>\n",
              "      <th>count(icons</th>\n",
              "      <th>contain(#thegrandad)</th>\n",
              "      <th>count(#thegrandad</th>\n",
              "      <th>contain(nut)</th>\n",
              "      <th>count(nut</th>\n",
              "      <th>contain(warrior)</th>\n",
              "      <th>count(warrior</th>\n",
              "      <th>contain(https://t.co/lel2yop3iq)</th>\n",
              "      <th>count(https://t.co/lel2yop3iq</th>\n",
              "      <th>contain(break)</th>\n",
              "      <th>count(break</th>\n",
              "      <th>contain(mans)</th>\n",
              "      <th>count(mans</th>\n",
              "      <th>contain(silicon)</th>\n",
              "      <th>count(silicon</th>\n",
              "      <th>contain(http://t.co/on2ijrtaxy)</th>\n",
              "      <th>count(http://t.co/on2ijrtaxy</th>\n",
              "      <th>contain(paypoint)</th>\n",
              "      <th>count(paypoint</th>\n",
              "      <th>contain(00)</th>\n",
              "      <th>count(00</th>\n",
              "      <th>contain(http://t.co/1e7cfatevd)</th>\n",
              "      <th>count(http://t.co/1e7cfatevd</th>\n",
              "      <th>contain(#fridayfauxpas)</th>\n",
              "      <th>count(#fridayfauxpas</th>\n",
              "      <th>...</th>\n",
              "      <th>contain(https://t.co/v3jnkwmxcm)</th>\n",
              "      <th>count(https://t.co/v3jnkwmxcm</th>\n",
              "      <th>contain(horror)</th>\n",
              "      <th>count(horror</th>\n",
              "      <th>contain(kingdom)</th>\n",
              "      <th>count(kingdom</th>\n",
              "      <th>contain(brilliantly)</th>\n",
              "      <th>count(brilliantly</th>\n",
              "      <th>contain(ur)</th>\n",
              "      <th>count(ur</th>\n",
              "      <th>contain(fennell)</th>\n",
              "      <th>count(fennell</th>\n",
              "      <th>contain(reassured)</th>\n",
              "      <th>count(reassured</th>\n",
              "      <th>contain(sian)</th>\n",
              "      <th>count(sian</th>\n",
              "      <th>contain(tough)</th>\n",
              "      <th>count(tough</th>\n",
              "      <th>contain(damned)</th>\n",
              "      <th>count(damned</th>\n",
              "      <th>contain(bigbang)</th>\n",
              "      <th>count(bigbang</th>\n",
              "      <th>contain(therein)</th>\n",
              "      <th>count(therein</th>\n",
              "      <th>contain(prevalent)</th>\n",
              "      <th>count(prevalent</th>\n",
              "      <th>contain(mak)</th>\n",
              "      <th>count(mak</th>\n",
              "      <th>contain(😜)</th>\n",
              "      <th>count(😜</th>\n",
              "      <th>contain(congrads)</th>\n",
              "      <th>count(congrads</th>\n",
              "      <th>contain(showed)</th>\n",
              "      <th>count(showed</th>\n",
              "      <th>contain(http://t.co/eqxpxjoyb9)</th>\n",
              "      <th>count(http://t.co/eqxpxjoyb9</th>\n",
              "      <th>contain(logo)</th>\n",
              "      <th>count(logo</th>\n",
              "      <th>contain(915)</th>\n",
              "      <th>count(915</th>\n",
              "    </tr>\n",
              "  </thead>\n",
              "  <tbody>\n",
              "    <tr>\n",
              "      <th>0</th>\n",
              "      <td>False</td>\n",
              "      <td>0</td>\n",
              "      <td>False</td>\n",
              "      <td>0</td>\n",
              "      <td>False</td>\n",
              "      <td>0</td>\n",
              "      <td>False</td>\n",
              "      <td>0</td>\n",
              "      <td>False</td>\n",
              "      <td>0</td>\n",
              "      <td>False</td>\n",
              "      <td>0</td>\n",
              "      <td>False</td>\n",
              "      <td>0</td>\n",
              "      <td>False</td>\n",
              "      <td>0</td>\n",
              "      <td>False</td>\n",
              "      <td>0</td>\n",
              "      <td>False</td>\n",
              "      <td>0</td>\n",
              "      <td>False</td>\n",
              "      <td>0</td>\n",
              "      <td>False</td>\n",
              "      <td>0</td>\n",
              "      <td>False</td>\n",
              "      <td>0</td>\n",
              "      <td>False</td>\n",
              "      <td>0</td>\n",
              "      <td>False</td>\n",
              "      <td>0</td>\n",
              "      <td>False</td>\n",
              "      <td>0</td>\n",
              "      <td>False</td>\n",
              "      <td>0</td>\n",
              "      <td>False</td>\n",
              "      <td>0</td>\n",
              "      <td>False</td>\n",
              "      <td>0</td>\n",
              "      <td>False</td>\n",
              "      <td>0</td>\n",
              "      <td>...</td>\n",
              "      <td>False</td>\n",
              "      <td>0</td>\n",
              "      <td>False</td>\n",
              "      <td>0</td>\n",
              "      <td>False</td>\n",
              "      <td>0</td>\n",
              "      <td>False</td>\n",
              "      <td>0</td>\n",
              "      <td>False</td>\n",
              "      <td>0</td>\n",
              "      <td>False</td>\n",
              "      <td>0</td>\n",
              "      <td>False</td>\n",
              "      <td>0</td>\n",
              "      <td>False</td>\n",
              "      <td>0</td>\n",
              "      <td>False</td>\n",
              "      <td>0</td>\n",
              "      <td>False</td>\n",
              "      <td>0</td>\n",
              "      <td>False</td>\n",
              "      <td>0</td>\n",
              "      <td>False</td>\n",
              "      <td>0</td>\n",
              "      <td>False</td>\n",
              "      <td>0</td>\n",
              "      <td>False</td>\n",
              "      <td>0</td>\n",
              "      <td>False</td>\n",
              "      <td>0</td>\n",
              "      <td>False</td>\n",
              "      <td>0</td>\n",
              "      <td>False</td>\n",
              "      <td>0</td>\n",
              "      <td>False</td>\n",
              "      <td>0</td>\n",
              "      <td>False</td>\n",
              "      <td>0</td>\n",
              "      <td>False</td>\n",
              "      <td>0</td>\n",
              "    </tr>\n",
              "  </tbody>\n",
              "</table>\n",
              "<p>1 rows × 28446 columns</p>\n",
              "</div>"
            ],
            "text/plain": [
              "   contain(realise)  count(realise  ...  contain(915)  count(915\n",
              "0             False              0  ...         False          0\n",
              "\n",
              "[1 rows x 28446 columns]"
            ]
          },
          "metadata": {
            "tags": []
          },
          "execution_count": 37
        }
      ]
    },
    {
      "cell_type": "code",
      "metadata": {
        "id": "LA0MuwFdEY0c"
      },
      "source": [
        "#feature_sets=[]\n",
        "#labelled_tweets(tweet, category)\n",
        "#for (d,c) in labelled_tweets[0][0]:\n",
        "#  x = document_features(d)\n",
        "#  feature_sets.append(((x, c)))"
      ],
      "execution_count": 38,
      "outputs": []
    },
    {
      "cell_type": "code",
      "metadata": {
        "id": "ERVZqrfhFLtl",
        "colab": {
          "base_uri": "https://localhost:8080/",
          "height": 162
        },
        "outputId": "4caefcea-a029-4851-dd05-85cc9e099d0f"
      },
      "source": [
        "feature_sets[0]                                                                                                                                                                                    "
      ],
      "execution_count": 39,
      "outputs": [
        {
          "output_type": "error",
          "ename": "NameError",
          "evalue": "ignored",
          "traceback": [
            "\u001b[0;31m---------------------------------------------------------------------------\u001b[0m",
            "\u001b[0;31mNameError\u001b[0m                                 Traceback (most recent call last)",
            "\u001b[0;32m<ipython-input-39-d5e4f71f20f9>\u001b[0m in \u001b[0;36m<module>\u001b[0;34m()\u001b[0m\n\u001b[0;32m----> 1\u001b[0;31m \u001b[0mfeature_sets\u001b[0m\u001b[0;34m[\u001b[0m\u001b[0;36m0\u001b[0m\u001b[0;34m]\u001b[0m\u001b[0;34m\u001b[0m\u001b[0;34m\u001b[0m\u001b[0m\n\u001b[0m",
            "\u001b[0;31mNameError\u001b[0m: name 'feature_sets' is not defined"
          ]
        }
      ]
    },
    {
      "cell_type": "code",
      "metadata": {
        "id": "9kGkzYVZFXP_"
      },
      "source": [
        "import random\n",
        "random.shuffle(feature_sets)"
      ],
      "execution_count": null,
      "outputs": []
    },
    {
      "cell_type": "code",
      "metadata": {
        "id": "Po_U91YJHxXh"
      },
      "source": [
        "feature_sets[0]"
      ],
      "execution_count": null,
      "outputs": []
    },
    {
      "cell_type": "code",
      "metadata": {
        "id": "f6e7-9h2H2cy"
      },
      "source": [
        "train_set, test_set = feature_sets[300:1000], feaure_sets[:300]"
      ],
      "execution_count": null,
      "outputs": []
    },
    {
      "cell_type": "code",
      "metadata": {
        "id": "rZz53CUXIEXo"
      },
      "source": [
        "classifier = nltk.NaiveBayesClassifier.train(train_set)"
      ],
      "execution_count": null,
      "outputs": []
    },
    {
      "cell_type": "code",
      "metadata": {
        "id": "cR_aW0tyIQzW"
      },
      "source": [
        "print(nltk.classify.accuracy(classifier,test_set))"
      ],
      "execution_count": null,
      "outputs": []
    },
    {
      "cell_type": "code",
      "metadata": {
        "id": "tqlzVy8SIjIE"
      },
      "source": [
        "print(classifier.show_most_informative_features(20))"
      ],
      "execution_count": null,
      "outputs": []
    },
    {
      "cell_type": "code",
      "metadata": {
        "id": "7lGMlvoTKp8O"
      },
      "source": [
        "##test existing tweet\n",
        "test_tweet = 'thats not a lovely day!'\n",
        "word_tweet = test_tweet.split()\n",
        "print(word_tweet)"
      ],
      "execution_count": null,
      "outputs": []
    },
    {
      "cell_type": "code",
      "metadata": {
        "id": "gKhcSCLMLHUq"
      },
      "source": [
        "#Clean tweet\n",
        "lst = [char for char in word_tweet if char not in punctuation]\n",
        "lst1 = [ w for w in lst if not re.search('[@#][A-Za-z0-9_]+|(\\w+:\\/\\/\\S+)',w)]\n",
        "clean_tweet = [w for w in lst1 if w not in stopwords.words(\"english\")]\n",
        "clean_tweet"
      ],
      "execution_count": null,
      "outputs": []
    },
    {
      "cell_type": "code",
      "metadata": {
        "id": "DX396Cx9MOQ9"
      },
      "source": [
        "#Feature document_features(tweet)\n",
        "tweet_feature = document_features(clean_tweet)"
      ],
      "execution_count": null,
      "outputs": []
    },
    {
      "cell_type": "code",
      "metadata": {
        "id": "FmevHIqaMONh"
      },
      "source": [
        "#Classify\n",
        "classifier.classify(tweet_feature)"
      ],
      "execution_count": null,
      "outputs": []
    },
    {
      "cell_type": "code",
      "metadata": {
        "id": "ch67bPfaMNuq"
      },
      "source": [
        "sen = \" \".join(clean_tweet)\n"
      ],
      "execution_count": null,
      "outputs": []
    },
    {
      "cell_type": "code",
      "metadata": {
        "id": "GLFmVvMaNpnG"
      },
      "source": [
        "from textblob import textblob"
      ],
      "execution_count": null,
      "outputs": []
    },
    {
      "cell_type": "code",
      "metadata": {
        "id": "RJTyE7_XNswI"
      },
      "source": [
        "analysis = textblob(test_tweet)\n",
        "#set sentiment\n",
        "if analysis.sentiment.polarity > 0:\n",
        "  print('Positive')\n",
        "elif analysis.sentiment.polarity == 0:\n",
        "  print('Neutral')\n",
        "else:\n",
        "  print('Negative')\n",
        "\n"
      ],
      "execution_count": null,
      "outputs": []
    },
    {
      "cell_type": "code",
      "metadata": {
        "id": "iExPPKSCOgOR"
      },
      "source": [
        "analysis.sentiment.polarity"
      ],
      "execution_count": null,
      "outputs": []
    },
    {
      "cell_type": "markdown",
      "metadata": {
        "id": "Lq_JWcGma90T"
      },
      "source": [
        "With referance to :- https://blog.chapagain.com.np/python-nltk-twitter-sentiment-analysis-natural-language-processing-nlp/"
      ]
    },
    {
      "cell_type": "code",
      "metadata": {
        "id": "Y6QH94enOj9C"
      },
      "source": [
        "from random import shuffle\n",
        "shuffle(token_neg_clean)\n",
        "shuffle(token_pos_clean)"
      ],
      "execution_count": 49,
      "outputs": []
    },
    {
      "cell_type": "code",
      "metadata": {
        "colab": {
          "base_uri": "https://localhost:8080/"
        },
        "id": "6yvsNinEcA0a",
        "outputId": "a0dcd565-3783-47ff-bfb8-1fa5b57f0c0f"
      },
      "source": [
        "len(labelled_tweets)"
      ],
      "execution_count": 42,
      "outputs": [
        {
          "output_type": "execute_result",
          "data": {
            "text/plain": [
              "10000"
            ]
          },
          "metadata": {
            "tags": []
          },
          "execution_count": 42
        }
      ]
    },
    {
      "cell_type": "code",
      "metadata": {
        "colab": {
          "base_uri": "https://localhost:8080/"
        },
        "id": "fRf5Ls6tbR4d",
        "outputId": "250647b9-fc8e-47f9-918a-0f8ae32d3681"
      },
      "source": [
        "#train_set, test_set = labelled_tweets[3000:10000],labelled_tweets[:3000]\n",
        "\n",
        "train_set = token_pos_clean[1000:] + token_neg_clean[1000:] \n",
        "test_set = token_pos_clean[:1000] + token_neg_clean[:1000] \n",
        "len(train_set),len(test_set)"
      ],
      "execution_count": 51,
      "outputs": [
        {
          "output_type": "execute_result",
          "data": {
            "text/plain": [
              "(8000, 2000)"
            ]
          },
          "metadata": {
            "tags": []
          },
          "execution_count": 51
        }
      ]
    },
    {
      "cell_type": "code",
      "metadata": {
        "id": "W4PrhncYcg9Z"
      },
      "source": [
        "from nltk import classify\n",
        "from nltk import NaiveBayesClassifier"
      ],
      "execution_count": 52,
      "outputs": []
    },
    {
      "cell_type": "code",
      "metadata": {
        "colab": {
          "base_uri": "https://localhost:8080/",
          "height": 278
        },
        "id": "M7aE5CcGc-Wb",
        "outputId": "19fa589b-696e-4f7d-d893-1e9bb570f3c6"
      },
      "source": [
        "classifier = NaiveBayesClassifier.train(train_set)"
      ],
      "execution_count": 54,
      "outputs": [
        {
          "output_type": "error",
          "ename": "ValueError",
          "evalue": "ignored",
          "traceback": [
            "\u001b[0;31m---------------------------------------------------------------------------\u001b[0m",
            "\u001b[0;31mValueError\u001b[0m                                Traceback (most recent call last)",
            "\u001b[0;32m<ipython-input-54-5a4f7603aef2>\u001b[0m in \u001b[0;36m<module>\u001b[0;34m()\u001b[0m\n\u001b[0;32m----> 1\u001b[0;31m \u001b[0mclassifier\u001b[0m \u001b[0;34m=\u001b[0m \u001b[0mNaiveBayesClassifier\u001b[0m\u001b[0;34m.\u001b[0m\u001b[0mtrain\u001b[0m\u001b[0;34m(\u001b[0m\u001b[0mtrain_set\u001b[0m\u001b[0;34m)\u001b[0m\u001b[0;34m\u001b[0m\u001b[0;34m\u001b[0m\u001b[0m\n\u001b[0m",
            "\u001b[0;32m/usr/local/lib/python3.7/dist-packages/nltk/classify/naivebayes.py\u001b[0m in \u001b[0;36mtrain\u001b[0;34m(cls, labeled_featuresets, estimator)\u001b[0m\n\u001b[1;32m    192\u001b[0m         \u001b[0;31m# Count up how many times each feature value occurred, given\u001b[0m\u001b[0;34m\u001b[0m\u001b[0;34m\u001b[0m\u001b[0;34m\u001b[0m\u001b[0m\n\u001b[1;32m    193\u001b[0m         \u001b[0;31m# the label and featurename.\u001b[0m\u001b[0;34m\u001b[0m\u001b[0;34m\u001b[0m\u001b[0;34m\u001b[0m\u001b[0m\n\u001b[0;32m--> 194\u001b[0;31m         \u001b[0;32mfor\u001b[0m \u001b[0mfeatureset\u001b[0m\u001b[0;34m,\u001b[0m \u001b[0mlabel\u001b[0m \u001b[0;32min\u001b[0m \u001b[0mlabeled_featuresets\u001b[0m\u001b[0;34m:\u001b[0m\u001b[0;34m\u001b[0m\u001b[0;34m\u001b[0m\u001b[0m\n\u001b[0m\u001b[1;32m    195\u001b[0m             \u001b[0mlabel_freqdist\u001b[0m\u001b[0;34m[\u001b[0m\u001b[0mlabel\u001b[0m\u001b[0;34m]\u001b[0m \u001b[0;34m+=\u001b[0m \u001b[0;36m1\u001b[0m\u001b[0;34m\u001b[0m\u001b[0;34m\u001b[0m\u001b[0m\n\u001b[1;32m    196\u001b[0m             \u001b[0;32mfor\u001b[0m \u001b[0mfname\u001b[0m\u001b[0;34m,\u001b[0m \u001b[0mfval\u001b[0m \u001b[0;32min\u001b[0m \u001b[0mfeatureset\u001b[0m\u001b[0;34m.\u001b[0m\u001b[0mitems\u001b[0m\u001b[0;34m(\u001b[0m\u001b[0;34m)\u001b[0m\u001b[0;34m:\u001b[0m\u001b[0;34m\u001b[0m\u001b[0;34m\u001b[0m\u001b[0m\n",
            "\u001b[0;31mValueError\u001b[0m: too many values to unpack (expected 2)"
          ]
        }
      ]
    },
    {
      "cell_type": "code",
      "metadata": {
        "colab": {
          "base_uri": "https://localhost:8080/",
          "height": 128
        },
        "id": "WQUnRkY2dDCb",
        "outputId": "6ee5203a-e9e6-4bcb-9182-f7196f397319"
      },
      "source": [
        "for featureset, label in labeled_featuresets:\n",
        "           label_freqdist[label] += 1\n",
        "           for fname, fval in featureset.items()"
      ],
      "execution_count": 55,
      "outputs": [
        {
          "output_type": "error",
          "ename": "SyntaxError",
          "evalue": "ignored",
          "traceback": [
            "\u001b[0;36m  File \u001b[0;32m\"<ipython-input-55-f9f0e9a048e3>\"\u001b[0;36m, line \u001b[0;32m3\u001b[0m\n\u001b[0;31m    for fname, fval in featureset.items():\u001b[0m\n\u001b[0m                                          ^\u001b[0m\n\u001b[0;31mSyntaxError\u001b[0m\u001b[0;31m:\u001b[0m unexpected EOF while parsing\n"
          ]
        }
      ]
    },
    {
      "cell_type": "code",
      "metadata": {
        "id": "PDu9OMyVem0B"
      },
      "source": [
        ""
      ],
      "execution_count": null,
      "outputs": []
    }
  ]
}